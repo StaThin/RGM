{
 "cells": [
  {
   "cell_type": "markdown",
   "metadata": {},
   "source": [
    "# Running Intersection Property \n",
    "\n",
    "A *hypergraph* $\\mathcal{H} = \\{H_1, \\dots, H_s\\}$ s a collection of subsets $H_s \\subseteq V = \\{1, 2, \\dots, d\\}$. For instance \n",
    "for $d = 4$, a hypergraph is \n",
    "$$\n",
    "\\mathcal{H}  = \\{134, 13, 2, 23, 34\\},\n",
    "$$\n",
    "where e.g., 134 is the subset $\\{1,3,4\\}$.\n",
    "An ordering of the elements of a hypergraph is said *hierarchical* if \n",
    "$H_i \\not \\subseteq H_j$ if $i > j$.  A hierarchical ordering of the previous hypergraph is \n",
    "$$\n",
    "(34, 13, 134, 2, 23).\n",
    "$$\n",
    "Thus, any subset of the ordered $\\mathcal{H}$ is not contained in the \n",
    "preceeding subsets.\n",
    "\n",
    "The ordering satisfies the **running intersection property** if either there are only two subsets in $\\mathcal{H}$ or if for $k = 3, \\dots, s$ there exist a $j_k < k$ such\n",
    "that \n",
    "$$\n",
    "(H1 \\cup \\cdots \\cup  H_{k-1}) \\cap H_k = H_{j_k} \\cap H_k.\n",
    "$$ \n",
    "\n",
    "\n"
   ]
  },
  {
   "cell_type": "code",
   "execution_count": null,
   "metadata": {
    "vscode": {
     "languageId": "r"
    }
   },
   "outputs": [],
   "source": []
  }
 ],
 "metadata": {
  "language_info": {
   "name": "python"
  }
 },
 "nbformat": 4,
 "nbformat_minor": 2
}
