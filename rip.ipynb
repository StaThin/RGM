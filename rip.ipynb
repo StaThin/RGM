{
 "cells": [
  {
   "cell_type": "markdown",
   "metadata": {},
   "source": [
    "# Running Intersection Property \n",
    "\n",
    "## Definition\n",
    "\n",
    "I recall the definitions as given by Bergsma and Rudas (2000).\n",
    "\n",
    "A *hypergraph* $\\mathcal{H} = \\{H_1, \\dots, H_s\\}$ s a collection of subsets $H_s \\subseteq V = \\{1, 2, \\dots, d\\}$. For instance \n",
    "for $d = 4$, a hypergraph is \n",
    "$$\n",
    "\\mathcal{H}  = \\{134, 13, 2, 23, 34\\},\n",
    "$$\n",
    "where e.g., 134 is the subset $\\{1,3,4\\}$.\n",
    "An ordering of the elements of a hypergraph is said *hierarchical* if \n",
    "$H_i \\not \\subseteq H_j$ if $i > j$.  A hierarchical ordering of the previous hypergraph is \n",
    "$$\n",
    "(34, 13, 134, 2, 23).\n",
    "$$\n",
    "Thus, any subset of the ordered $\\mathcal{H}$ is not contained in the \n",
    "preceeding subsets.\n",
    "\n",
    "The ordering satisfies the **running intersection property** (RIP) if either there are only two subsets in $\\mathcal{H}$ or if for $k = 3, \\dots, s$ there exist a $j_k < k$ such\n",
    "that \n",
    "$$\n",
    "(H1 \\cup \\cdots \\cup  H_{k-1}) \\cap H_k = H_{j_k} \\cap H_k.\n",
    "$$ \n",
    "A hypergraph is called *reduced* (maximal?) if no subset is a subset of one of the others. A reduced hypergraph is called **decomposable** if there is an ordering of its elements satisfying the running intersection property\n",
    "\n",
    "\n"
   ]
  },
  {
   "cell_type": "markdown",
   "metadata": {
    "vscode": {
     "languageId": "r"
    }
   },
   "source": [
    "## Examples\n",
    "\n",
    "1. $\\mathcal{H} = \\{12, 23, 34\\}$ is hierarchical. Does it satisfy the RIP? Yes \n",
    "because $(12 \\cup 23) \\cap 34 = 3 = 23 \\cap 34$. \n",
    "2. $\\mathcal{H} = \\{12, 13, 23\\}$ does not satisfy the RIP because \n",
    "$(12 \\cup 13 )\\cap 23 = 1$ but $12 \\cap 23 \\ne  1$ and  $13 \\cap 23 \\ne 1$.\n"
   ]
  },
  {
   "cell_type": "markdown",
   "metadata": {},
   "source": []
  }
 ],
 "metadata": {
  "language_info": {
   "name": "python"
  }
 },
 "nbformat": 4,
 "nbformat_minor": 2
}
