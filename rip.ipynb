{
 "cells": [
  {
   "cell_type": "markdown",
   "metadata": {},
   "source": [
    "# Running Intersection Property \n",
    "\n",
    "## Definition\n",
    "\n",
    "I recall the definitions as given by Bergsma and Rudas (2000).\n",
    "\n",
    "A *hypergraph* $\\mathcal{H} = \\{H_t, t \\in 1, \\dots T\\}$ s a collection of subsets $H_t \\subseteq V = \\{1, 2, \\dots, d\\}$. For instance \n",
    "for $d = 4$, a hypergraph is \n",
    "$$\n",
    "\\mathcal{H}  = \\{134, 13, 2, 23, 34\\},\n",
    "$$\n",
    "where e.g., 134 is the subset $\\{1,3,4\\}$.\n",
    "An ordering of the elements of a hypergraph is said *hierarchical* if \n",
    "$H_i \\not \\subseteq H_j$ if $i > j$.  A hierarchical ordering of the previous hypergraph is \n",
    "$$\n",
    "(34, 13, 134, 2, 23).\n",
    "$$\n",
    "Thus, any subset of the ordered $\\mathcal{H}$ is not contained in the \n",
    "preceeding subsets.\n",
    "\n",
    "The ordering satisfies the **running intersection property** (RIP) if either there are only two subsets in $\\mathcal{H}$ or if for $k = 3, \\dots, s$ there exist a $j_k < k$ such\n",
    "that \n",
    "$$\n",
    "(H1 \\cup \\cdots \\cup  H_{k-1}) \\cap H_k = H_{j_k} \\cap H_k.\n",
    "$$ \n",
    "A hypergraph is called *reduced* (maximal?) if no subset is a subset of one of the others. A reduced hypergraph is called **decomposable** if there is an ordering of its elements satisfying the running intersection property\n",
    "\n",
    "\n"
   ]
  },
  {
   "cell_type": "markdown",
   "metadata": {
    "vscode": {
     "languageId": "r"
    }
   },
   "source": [
    "## Examples\n",
    "\n",
    "1. $\\mathcal{H} = \\{12, 23, 34\\}$ is hierarchical. Does it satisfy the RIP? Yes \n",
    "because $(12 \\cup 23) \\cap 34 = 3 = 23 \\cap 34$. \n",
    "2. $\\mathcal{H} = \\{12, 13, 23\\}$ does not satisfy the RIP because \n",
    "$(12 \\cup 13 )\\cap 23 = 1$ but $12 \\cap 23 \\ne  1$ and  $13 \\cap 23 \\ne 1$.\n",
    "3. $\\mathcal{H} = \\{123, 124,235, 136, 57\\}$, see below. \n"
   ]
  },
  {
   "cell_type": "markdown",
   "metadata": {},
   "source": [
    "## Algorithm \n",
    "\n",
    "This comes from Goodman (1971) and Bishop (1971)\n",
    "\n",
    "1.  Eliminate the elements in $\\mathcal{H}$ not belonging  to any $H_t$, i.e.\n",
    "do $V \\setminus \\cup_{t=1}^T H_t$.\n",
    "2. Find a set in $\\mathcal{H}$, say $H_1$, that contains nodes which only belong to $H_1$, and eliminate these nodes.\n",
    "3. Let $U_1$ be the set of remaining elements in\n",
    "$H_1$, i.e.,  $U_1 = H_1 \\cap (\\cup_{s>1} H_s)$.\n",
    "4. If $U_1$  is  a subset of some $H_{\\tau}$ for $\\tau >1$,\n",
    " then define the new hypergraph $\\{H_2, \\dots, H_T\\}$;\n",
    "else mantain the hypergraph $\\{U_1, H_2,\\dots, H_T\\}$. \n",
    "5. Repeat the steps 2,3 and 4  the new hypergraphs thus generated until all elements of \\mathcal{H}  have been eliminated. In this case the hypergraph is decomposable. Otherwise it isn't.\n",
    "\n",
    "\n",
    "\n"
   ]
  },
  {
   "cell_type": "markdown",
   "metadata": {},
   "source": [
    "## Examples\n",
    "\n",
    " $\\mathcal{H} = \\{123, 124,235, 136, 57\\}$. \n",
    "\n",
    " 0. $V \\setminus \\cup H_t = \\emptyset$.\n",
    " 1. $H_1 = 57$ contains $7$ that does not belong to $H_2, \\dots, H_5$. Then remove 7 \n",
    " from $H_1$ giving $U_1 = 5$.\n",
    " 2. $U_1$  is a subset of $235$ thus define $\\mathcal{H} = \\{123, 124,235, 136\\}$\n",
    "\n",
    " Repeat\n",
    "\n",
    " 1. Select $H_1 = 136$ that contains 6 that does not belong to the remaining subsets\n",
    " 123, 124,235. Then remove 6 from $H_1$ giving $U_1 =  13$.\n",
    " 2. $U_1$ is a subset of 123. Thus let  new $\\mathcal{H} = \\{123, 124,235\\}$.\n",
    "\n",
    " Repeat \n",
    "\n",
    " 1. Select $H_1 = 124$ that contains 4 that does not belong to the remaining subsets \n",
    " $\\{123, 235\\}$. Remove 4 from $H_1$ yielding $U_1 = 12$. \n",
    " 2. $U_1$ is a subset of $123$. Thus let new $\\mathcal{H} = \\{123, 235\\}$.\n",
    "\n",
    " Repeat \n",
    " \n",
    " 1. Select $H_1 = 235$ that contains 5 not belonging to the rest $\\{123\\}$.\n",
    " Remove 5 from 235 obtaining $U_1 = 23$. \n",
    " 2. $U_1$ is is a subset 123. Let new $\\mathcal{H}  = \\{235\\}$.\n",
    "\n",
    " Repeat\n",
    "\n",
    " 1. $\\mathcal{H} = \\{235\\}$. Remove all 235 and obtain $U_1 = \\emptyset$.  \n",
    "\n",
    " End\n",
    "\n"
   ]
  }
 ],
 "metadata": {
  "language_info": {
   "name": "python"
  }
 },
 "nbformat": 4,
 "nbformat_minor": 2
}
