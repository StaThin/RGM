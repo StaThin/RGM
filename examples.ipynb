{
 "cells": [
  {
   "cell_type": "code",
   "execution_count": 9,
   "metadata": {
    "vscode": {
     "languageId": "r"
    }
   },
   "outputs": [],
   "source": [
    "source(\"~/Documents/R_packages/cat_regression_chains/RCG/funs_RCG.R\")\n",
    "library(\"bnlearn\") \n",
    "library(\"ggm\")\n",
    "library(\"igraph\")\n",
    "library(\"mnormt\")"
   ]
  },
  {
   "cell_type": "markdown",
   "metadata": {},
   "source": [
    "## Example 1.3 - Lawyer’s ratings of state judges"
   ]
  },
  {
   "cell_type": "code",
   "execution_count": 10,
   "metadata": {
    "vscode": {
     "languageId": "r"
    }
   },
   "outputs": [
    {
     "data": {
      "text/html": [
       "<table class=\"dataframe\">\n",
       "<caption>A data.frame: 6 x 12</caption>\n",
       "<thead>\n",
       "\t<tr><th></th><th scope=col>CONT</th><th scope=col>INTG</th><th scope=col>DMNR</th><th scope=col>DILG</th><th scope=col>CFMG</th><th scope=col>DECI</th><th scope=col>PREP</th><th scope=col>FAMI</th><th scope=col>ORAL</th><th scope=col>WRIT</th><th scope=col>PHYS</th><th scope=col>RTEN</th></tr>\n",
       "\t<tr><th></th><th scope=col>&lt;dbl&gt;</th><th scope=col>&lt;dbl&gt;</th><th scope=col>&lt;dbl&gt;</th><th scope=col>&lt;dbl&gt;</th><th scope=col>&lt;dbl&gt;</th><th scope=col>&lt;dbl&gt;</th><th scope=col>&lt;dbl&gt;</th><th scope=col>&lt;dbl&gt;</th><th scope=col>&lt;dbl&gt;</th><th scope=col>&lt;dbl&gt;</th><th scope=col>&lt;dbl&gt;</th><th scope=col>&lt;dbl&gt;</th></tr>\n",
       "</thead>\n",
       "<tbody>\n",
       "\t<tr><th scope=row>AARONSON,L.H.</th><td>5.7</td><td>7.9</td><td>7.7</td><td>7.3</td><td>7.1</td><td>7.4</td><td>7.1</td><td>7.1</td><td>7.1</td><td>7.0</td><td>8.3</td><td>7.8</td></tr>\n",
       "\t<tr><th scope=row>ALEXANDER,J.M.</th><td>6.8</td><td>8.9</td><td>8.8</td><td>8.5</td><td>7.8</td><td>8.1</td><td>8.0</td><td>8.0</td><td>7.8</td><td>7.9</td><td>8.5</td><td>8.7</td></tr>\n",
       "\t<tr><th scope=row>ARMENTANO,A.J.</th><td>7.2</td><td>8.1</td><td>7.8</td><td>7.8</td><td>7.5</td><td>7.6</td><td>7.5</td><td>7.5</td><td>7.3</td><td>7.4</td><td>7.9</td><td>7.8</td></tr>\n",
       "\t<tr><th scope=row>BERDON,R.I.</th><td>6.8</td><td>8.8</td><td>8.5</td><td>8.8</td><td>8.3</td><td>8.5</td><td>8.7</td><td>8.7</td><td>8.4</td><td>8.5</td><td>8.8</td><td>8.7</td></tr>\n",
       "\t<tr><th scope=row>BRACKEN,J.J.</th><td>7.3</td><td>6.4</td><td>4.3</td><td>6.5</td><td>6.0</td><td>6.2</td><td>5.7</td><td>5.7</td><td>5.1</td><td>5.3</td><td>5.5</td><td>4.8</td></tr>\n",
       "\t<tr><th scope=row>BURNS,E.B.</th><td>6.2</td><td>8.8</td><td>8.7</td><td>8.5</td><td>7.9</td><td>8.0</td><td>8.1</td><td>8.0</td><td>8.0</td><td>8.0</td><td>8.6</td><td>8.6</td></tr>\n",
       "</tbody>\n",
       "</table>\n"
      ],
      "text/latex": [
       "A data.frame: 6 x 12\n",
       "\\begin{tabular}{r|llllllllllll}\n",
       "  & CONT & INTG & DMNR & DILG & CFMG & DECI & PREP & FAMI & ORAL & WRIT & PHYS & RTEN\\\\\n",
       "  & <dbl> & <dbl> & <dbl> & <dbl> & <dbl> & <dbl> & <dbl> & <dbl> & <dbl> & <dbl> & <dbl> & <dbl>\\\\\n",
       "\\hline\n",
       "\tAARONSON,L.H. & 5.7 & 7.9 & 7.7 & 7.3 & 7.1 & 7.4 & 7.1 & 7.1 & 7.1 & 7.0 & 8.3 & 7.8\\\\\n",
       "\tALEXANDER,J.M. & 6.8 & 8.9 & 8.8 & 8.5 & 7.8 & 8.1 & 8.0 & 8.0 & 7.8 & 7.9 & 8.5 & 8.7\\\\\n",
       "\tARMENTANO,A.J. & 7.2 & 8.1 & 7.8 & 7.8 & 7.5 & 7.6 & 7.5 & 7.5 & 7.3 & 7.4 & 7.9 & 7.8\\\\\n",
       "\tBERDON,R.I. & 6.8 & 8.8 & 8.5 & 8.8 & 8.3 & 8.5 & 8.7 & 8.7 & 8.4 & 8.5 & 8.8 & 8.7\\\\\n",
       "\tBRACKEN,J.J. & 7.3 & 6.4 & 4.3 & 6.5 & 6.0 & 6.2 & 5.7 & 5.7 & 5.1 & 5.3 & 5.5 & 4.8\\\\\n",
       "\tBURNS,E.B. & 6.2 & 8.8 & 8.7 & 8.5 & 7.9 & 8.0 & 8.1 & 8.0 & 8.0 & 8.0 & 8.6 & 8.6\\\\\n",
       "\\end{tabular}\n"
      ],
      "text/markdown": [
       "\n",
       "A data.frame: 6 x 12\n",
       "\n",
       "| <!--/--> | CONT &lt;dbl&gt; | INTG &lt;dbl&gt; | DMNR &lt;dbl&gt; | DILG &lt;dbl&gt; | CFMG &lt;dbl&gt; | DECI &lt;dbl&gt; | PREP &lt;dbl&gt; | FAMI &lt;dbl&gt; | ORAL &lt;dbl&gt; | WRIT &lt;dbl&gt; | PHYS &lt;dbl&gt; | RTEN &lt;dbl&gt; |\n",
       "|---|---|---|---|---|---|---|---|---|---|---|---|---|\n",
       "| AARONSON,L.H. | 5.7 | 7.9 | 7.7 | 7.3 | 7.1 | 7.4 | 7.1 | 7.1 | 7.1 | 7.0 | 8.3 | 7.8 |\n",
       "| ALEXANDER,J.M. | 6.8 | 8.9 | 8.8 | 8.5 | 7.8 | 8.1 | 8.0 | 8.0 | 7.8 | 7.9 | 8.5 | 8.7 |\n",
       "| ARMENTANO,A.J. | 7.2 | 8.1 | 7.8 | 7.8 | 7.5 | 7.6 | 7.5 | 7.5 | 7.3 | 7.4 | 7.9 | 7.8 |\n",
       "| BERDON,R.I. | 6.8 | 8.8 | 8.5 | 8.8 | 8.3 | 8.5 | 8.7 | 8.7 | 8.4 | 8.5 | 8.8 | 8.7 |\n",
       "| BRACKEN,J.J. | 7.3 | 6.4 | 4.3 | 6.5 | 6.0 | 6.2 | 5.7 | 5.7 | 5.1 | 5.3 | 5.5 | 4.8 |\n",
       "| BURNS,E.B. | 6.2 | 8.8 | 8.7 | 8.5 | 7.9 | 8.0 | 8.1 | 8.0 | 8.0 | 8.0 | 8.6 | 8.6 |\n",
       "\n"
      ],
      "text/plain": [
       "               CONT INTG DMNR DILG CFMG DECI PREP FAMI ORAL WRIT PHYS RTEN\n",
       "AARONSON,L.H.  5.7  7.9  7.7  7.3  7.1  7.4  7.1  7.1  7.1  7.0  8.3  7.8 \n",
       "ALEXANDER,J.M. 6.8  8.9  8.8  8.5  7.8  8.1  8.0  8.0  7.8  7.9  8.5  8.7 \n",
       "ARMENTANO,A.J. 7.2  8.1  7.8  7.8  7.5  7.6  7.5  7.5  7.3  7.4  7.9  7.8 \n",
       "BERDON,R.I.    6.8  8.8  8.5  8.8  8.3  8.5  8.7  8.7  8.4  8.5  8.8  8.7 \n",
       "BRACKEN,J.J.   7.3  6.4  4.3  6.5  6.0  6.2  5.7  5.7  5.1  5.3  5.5  4.8 \n",
       "BURNS,E.B.     6.2  8.8  8.7  8.5  7.9  8.0  8.1  8.0  8.0  8.0  8.6  8.6 "
      ]
     },
     "metadata": {},
     "output_type": "display_data"
    }
   ],
   "source": [
    "library(datasets)\n",
    "data(USJudgeRatings)\n",
    "head(USJudgeRatings)"
   ]
  },
  {
   "cell_type": "markdown",
   "metadata": {},
   "source": [
    "The variables `INTG` (judicial integrity), `DILG` (diligence) and `CONT` (number of contacts of lawyer with judge) are observed on 43 judges. The sample correlation is obtained."
   ]
  },
  {
   "cell_type": "code",
   "execution_count": 11,
   "metadata": {
    "vscode": {
     "languageId": "r"
    }
   },
   "outputs": [
    {
     "data": {
      "text/html": [
       "<table class=\"dataframe\">\n",
       "<caption>A matrix: 3 x 3 of type dbl</caption>\n",
       "<thead>\n",
       "\t<tr><th></th><th scope=col>INTG</th><th scope=col>DILG</th><th scope=col>CONT</th></tr>\n",
       "</thead>\n",
       "<tbody>\n",
       "\t<tr><th scope=row>INTG</th><td> 1.000</td><td>0.872</td><td>-0.133</td></tr>\n",
       "\t<tr><th scope=row>DILG</th><td> 0.872</td><td>1.000</td><td> 0.012</td></tr>\n",
       "\t<tr><th scope=row>CONT</th><td>-0.133</td><td>0.012</td><td> 1.000</td></tr>\n",
       "</tbody>\n",
       "</table>\n"
      ],
      "text/latex": [
       "A matrix: 3 x 3 of type dbl\n",
       "\\begin{tabular}{r|lll}\n",
       "  & INTG & DILG & CONT\\\\\n",
       "\\hline\n",
       "\tINTG &  1.000 & 0.872 & -0.133\\\\\n",
       "\tDILG &  0.872 & 1.000 &  0.012\\\\\n",
       "\tCONT & -0.133 & 0.012 &  1.000\\\\\n",
       "\\end{tabular}\n"
      ],
      "text/markdown": [
       "\n",
       "A matrix: 3 x 3 of type dbl\n",
       "\n",
       "| <!--/--> | INTG | DILG | CONT |\n",
       "|---|---|---|---|\n",
       "| INTG |  1.000 | 0.872 | -0.133 |\n",
       "| DILG |  0.872 | 1.000 |  0.012 |\n",
       "| CONT | -0.133 | 0.012 |  1.000 |\n",
       "\n"
      ],
      "text/plain": [
       "     INTG   DILG  CONT  \n",
       "INTG  1.000 0.872 -0.133\n",
       "DILG  0.872 1.000  0.012\n",
       "CONT -0.133 0.012  1.000"
      ]
     },
     "metadata": {},
     "output_type": "display_data"
    }
   ],
   "source": [
    "R <- cor(USJudgeRatings[, c(\"INTG\", \"DILG\", \"CONT\")])\n",
    "round(R, 3)"
   ]
  },
  {
   "cell_type": "markdown",
   "metadata": {},
   "source": [
    "## Example 1.8 - Fiji Fertility Survey\n",
    "\n",
    "Variables \n",
    "- `A`, Age\n",
    "- `M` Age at first marriage \n",
    "- `E` Education 𝐸 (in completed years)\n",
    "- `U` Residence  (urban = 1 or rural = 0), \n",
    "- `F` Fertility  (number of children ever born), \n",
    "\n",
    "observed on a sample of 774 married women of Fijian ethnicity, aged 35-49.\n"
   ]
  },
  {
   "cell_type": "code",
   "execution_count": 26,
   "metadata": {
    "vscode": {
     "languageId": "r"
    }
   },
   "outputs": [
    {
     "name": "stdout",
     "output_type": "stream",
     "text": [
      "[1] 774   6\n"
     ]
    },
    {
     "data": {
      "text/plain": [
       "       F                A               M               E                I    \n",
       " Min.   : 0.000   Min.   :35.00   Min.   :10.00   Min.   : 0.000   Min.   :0  \n",
       " 1st Qu.: 3.000   1st Qu.:38.00   1st Qu.:17.00   1st Qu.: 5.000   1st Qu.:0  \n",
       " Median : 6.000   Median :41.00   Median :19.00   Median : 6.000   Median :0  \n",
       " Mean   : 5.452   Mean   :41.06   Mean   :19.73   Mean   : 5.871   Mean   :0  \n",
       " 3rd Qu.: 8.000   3rd Qu.:44.00   3rd Qu.:22.00   3rd Qu.: 7.000   3rd Qu.:0  \n",
       " Max.   :14.000   Max.   :49.00   Max.   :44.00   Max.   :20.000   Max.   :0  \n",
       "       U         \n",
       " Min.   :0.0000  \n",
       " 1st Qu.:0.0000  \n",
       " Median :0.0000  \n",
       " Mean   :0.2726  \n",
       " 3rd Qu.:1.0000  \n",
       " Max.   :1.0000  "
      ]
     },
     "metadata": {},
     "output_type": "display_data"
    }
   ],
   "source": [
    "fiji <- read.csv(\"./data/fiji_data2.csv\")\n",
    "fijians <- fiji[fiji$I == 0,]\n",
    "print(dim(fijians))\n",
    "summary(fijians)"
   ]
  },
  {
   "cell_type": "code",
   "execution_count": null,
   "metadata": {
    "vscode": {
     "languageId": "r"
    }
   },
   "outputs": [],
   "source": [
    "## The Full regression graph "
   ]
  },
  {
   "cell_type": "code",
   "execution_count": 21,
   "metadata": {
    "vscode": {
     "languageId": "r"
    }
   },
   "outputs": [
    {
     "data": {
      "text/html": [
       "<table class=\"dataframe\">\n",
       "<caption>A matrix: 5 x 5 of type dbl</caption>\n",
       "<thead>\n",
       "\t<tr><th></th><th scope=col>F</th><th scope=col>M</th><th scope=col>E</th><th scope=col>A</th><th scope=col>U</th></tr>\n",
       "</thead>\n",
       "<tbody>\n",
       "\t<tr><th scope=row>F</th><td>0</td><td>  0</td><td>  0</td><td>  0</td><td>  0</td></tr>\n",
       "\t<tr><th scope=row>M</th><td>1</td><td>  0</td><td>100</td><td>  0</td><td>  0</td></tr>\n",
       "\t<tr><th scope=row>E</th><td>1</td><td>100</td><td>  0</td><td>  0</td><td>  0</td></tr>\n",
       "\t<tr><th scope=row>A</th><td>1</td><td>  1</td><td>  1</td><td>  0</td><td>100</td></tr>\n",
       "\t<tr><th scope=row>U</th><td>1</td><td>  1</td><td>  1</td><td>100</td><td>  0</td></tr>\n",
       "</tbody>\n",
       "</table>\n"
      ],
      "text/latex": [
       "A matrix: 5 x 5 of type dbl\n",
       "\\begin{tabular}{r|lllll}\n",
       "  & F & M & E & A & U\\\\\n",
       "\\hline\n",
       "\tF & 0 &   0 &   0 &   0 &   0\\\\\n",
       "\tM & 1 &   0 & 100 &   0 &   0\\\\\n",
       "\tE & 1 & 100 &   0 &   0 &   0\\\\\n",
       "\tA & 1 &   1 &   1 &   0 & 100\\\\\n",
       "\tU & 1 &   1 &   1 & 100 &   0\\\\\n",
       "\\end{tabular}\n"
      ],
      "text/markdown": [
       "\n",
       "A matrix: 5 x 5 of type dbl\n",
       "\n",
       "| <!--/--> | F | M | E | A | U |\n",
       "|---|---|---|---|---|---|\n",
       "| F | 0 |   0 |   0 |   0 |   0 |\n",
       "| M | 1 |   0 | 100 |   0 |   0 |\n",
       "| E | 1 | 100 |   0 |   0 |   0 |\n",
       "| A | 1 |   1 |   1 |   0 | 100 |\n",
       "| U | 1 |   1 |   1 | 100 |   0 |\n",
       "\n"
      ],
      "text/plain": [
       "  F M   E   A   U  \n",
       "F 0   0   0   0   0\n",
       "M 1   0 100   0   0\n",
       "E 1 100   0   0   0\n",
       "A 1   1   1   0 100\n",
       "U 1   1   1 100   0"
      ]
     },
     "metadata": {},
     "output_type": "display_data"
    }
   ],
   "source": [
    "gfull <- makeMG(dg = DAG(F ~ M+E+A+U, M ~ A + U,  E ~ A + U), \n",
    "                bg = UG(~ M*E +  A*U))\n",
    "gfull"
   ]
  },
  {
   "cell_type": "markdown",
   "metadata": {},
   "source": [
    "Plot the graph "
   ]
  },
  {
   "cell_type": "code",
   "execution_count": 24,
   "metadata": {
    "vscode": {
     "languageId": "r"
    }
   },
   "outputs": [
    {
     "data": {
      "image/png": "[encoded data removed]",
      "text/plain": [
       "plot without title"
      ]
     },
     "metadata": {
      "image/png": {
       "height": 420,
       "width": 420
      }
     },
     "output_type": "display_data"
    }
   ],
   "source": [
    "co = matrix(c(\n",
    " 7, 40, 36, 64, 36, 19, 79, 66, 81, 20), byrow = TRUE, ncol = 2)\n",
    "drawGraph(gfull, coor=co)"
   ]
  },
  {
   "cell_type": "markdown",
   "metadata": {},
   "source": [
    "### Fit a regression model for fertility "
   ]
  },
  {
   "cell_type": "code",
   "execution_count": 27,
   "metadata": {
    "vscode": {
     "languageId": "r"
    }
   },
   "outputs": [],
   "source": [
    "m <- lm(F ~ M + E + A + U, data = fijians)\n",
    "summary(m)$coef"
   ]
  },
  {
   "cell_type": "code",
   "execution_count": null,
   "metadata": {
    "vscode": {
     "languageId": "r"
    }
   },
   "outputs": [],
   "source": [
    "\n",
    "\n",
    "\n",
    "\n",
    "```\n",
    "\n",
    "### Path Analysis\n",
    "\n",
    "```{r}\n",
    "mq2 = lm(F ~ M + E + A + U , data = fiji2)\n",
    "round(summary(mq2)$coef,3)\n",
    "```\n",
    "\n",
    "```{r}\n",
    "mq3 = lm(F ~ M + E + U+ I+A, data = fiji2)\n",
    "round(summary(mq3)$coef,3)\n",
    "```\n",
    "\n",
    "```{r}\n",
    "mq4 = lm(F ~ M + E + U+ A, data = fiji2)\n",
    "round(summary(mq4)$coef,3)\n",
    "```\n",
    "\n",
    "### Best model\n",
    "\n",
    "```{r}\n",
    "mq = lm(F ~ M  + E + U*I + A, data = fiji2)\n",
    "round(summary(mq)$coef,3)\n",
    "```\n",
    "\n",
    "### Second equation (Bivariate regression)\n",
    "\n",
    "```{r}\n",
    "resp = list(~ M*E, ~ A*U*I)\n",
    "regr = list(M ~ A + U + I,  E ~ A + U + I)\n",
    "g = makeRCG(resp, regr)\n",
    "coor =\n",
    "  matrix(c(\n",
    "    10, 90,\n",
    "    10, 10,\n",
    "    80, 90,\n",
    "    80, 50,\n",
    "    80, 10\n",
    "  ), byrow = TRUE, ncol = 2)\n",
    "g\n",
    "drawGraph(g, coor = coor)\n",
    "```\n",
    "\n",
    "```{r}\n",
    "S = cov(fiji2[, c(\"M\", \"E\", \"A\", \"I\", \"U\")])\n",
    "S\n",
    "```\n",
    "\n",
    "Fitting the multivariate regression graph\n",
    "\n",
    "```{r}\n",
    "out = fitAncestralGraph(g, S, 1703)\n",
    "out\n",
    "```\n",
    "\n",
    "### Stratification\n",
    "\n",
    "```{r}\n",
    "fijian <- fiji2[fiji2$I == 0,-5]\n",
    "indian <- fiji2[fiji2$I == 1,-5]\n",
    "\n",
    "```\n",
    "\n",
    "### Full graph\n",
    "\n",
    "```{r}\n",
    "gfull <- makeMG(dg = DAG(F ~ M+E+A+U, M ~ A + U,  E ~ A + U), \n",
    "                bg = UG(~ M*E +  A*U))\n",
    "coor = matrix(c(\n",
    "  7, 40,\n",
    "  36, 64,\n",
    "  36, 19,\n",
    "  79, 66,\n",
    "  81, 20\n",
    "), byrow = TRUE, ncol = 2)\n",
    "gfull\n",
    "drawGraph(gfull, coor=coor)\n",
    "```\n",
    "\n",
    "### Indians\n",
    "\n",
    "```{r}\n",
    "ni = nrow(indian)\n",
    "Si = cov(indian)\n",
    "ord = c(1,3,4,2,5)\n",
    "Si = Si[ord,ord]\n",
    "outi = fitAncestralGraph(gfull, Si, ni)\n",
    "outi\n",
    "```\n",
    "\n",
    "```{r}\n",
    "summaryRCG(outi, n = ni)\n",
    "```\n",
    "\n",
    "### Reduced model Indians\n",
    "\n",
    "```{r}\n",
    "\n",
    "gred <- makeMG(dg = DAG(F ~ M+A+U, M ~  U,  E ~ A + U), \n",
    "               bg = UG(~ M*E + A*U))\n",
    "gred <- gred[c(1,2,5,3,4), c(1,2,5,3,4)]\n",
    "coor = matrix(c(\n",
    "  7, 40,\n",
    "  36, 64,\n",
    "  36, 19,\n",
    "  79, 66,\n",
    "  81, 20\n",
    "), byrow = TRUE, ncol = 2)\n",
    "gred\n",
    "drawGraph(gred, coor=coor)\n",
    "```\n",
    "\n",
    "### Fit reduced model for indians\n",
    "\n",
    "```{r}\n",
    "outired = fitAncestralGraph(gred, Si, ni)\n",
    "outired\n",
    "summaryRCG(outired, n = ni)\n",
    "```\n",
    "\n",
    "### Fit reduced model using `sem`\n",
    "\n",
    "```{r}\n",
    "library(sem)\n",
    "red_mod_I = specifyModel(text=\"\n",
    "M -> F, bFM, NA\n",
    "A -> F, bFA, NA\n",
    "U -> F, bFU, NA\n",
    "U -> M, bMU, NA\n",
    "U -> E, bEU, NA\n",
    "A -> E, bEA, NA\n",
    "A -> M, bMA, NA\n",
    "F <-> F, oFF, NA\n",
    "M <-> M, oMM, NA\n",
    "M <-> E, oME, NA\n",
    "E <-> E, oEE, NA\n",
    "A <-> A, oAA, NA\n",
    "A <-> U, oAU, NA\n",
    "U <-> U, oUU, NA\n",
    "\")\n",
    "mod_I=  sem(red_mod_I, Si, N = ni)\n",
    "summary(mod_I)\n",
    "```\n",
    "\n",
    "### Data on Fijians\n",
    "\n",
    "```{r}\n",
    "nf = nrow(fijian)\n",
    "Sf = cov(fijian)\n",
    "ord = c(1,3,4,2,5)\n",
    "Sf = Sf[ord,ord]\n",
    "outf = fitAncestralGraph(gfull, Sf, nf)\n",
    "outf\n",
    "```\n",
    "\n",
    "```{r}\n",
    "summaryRCG(outf, n = nf)\n",
    "```\n",
    "\n",
    "### Fit using `sem` for Fijians\n",
    "\n",
    "Saturated model\n",
    "\n",
    "```{r}\n",
    "sat_mod_F = specifyModel(text=\"\n",
    "M -> F, bFM, NA\n",
    "A -> F, bFA, NA\n",
    "U -> F, bFU, NA\n",
    "E -> F, bFE, NA\n",
    "\n",
    "U -> M, bMU, NA\n",
    "A -> M, bMA, NA\n",
    "\n",
    "A -> E, bEA, NA\n",
    "U -> E, bEU, NA\n",
    "\n",
    "F <-> F, oFF, NA\n",
    "M <-> M, oMM, NA\n",
    "M <-> E, oME, NA\n",
    "E <-> E, oEE, NA\n",
    "A <-> A, oAA, NA\n",
    "A <-> U, oAU, NA\n",
    "U <-> U, oUU, NA\n",
    "\")\n",
    "fit_sat_F =  sem(sat_mod_F, Sf, N = nf)\n",
    "options(scipen = 10)\n",
    "print(summary(fit_sat_F), digits = 3)\n",
    "```\n",
    "\n",
    "Reduced model\n",
    "\n",
    "```{r}\n",
    "red_mod_F = specifyModel(text=\"\n",
    "M -> F, bFM, NA\n",
    "A -> F, bFA, NA\n",
    "U -> F, bFU, NA\n",
    "U -> M, bMU, NA\n",
    "A -> E, bEA, NA\n",
    "F <-> F, oFF, NA\n",
    "M <-> M, oMM, NA\n",
    "M <-> E, oME, NA\n",
    "E <-> E, oEE, NA\n",
    "A <-> A, oAA, NA\n",
    "# A <-> U, oAU, NA\n",
    "U <-> U, oUU, NA\n",
    "\")\n",
    "mod_F=  sem(red_mod_F, Sf, N = nf)\n",
    "options(scipen = 0)\n",
    "print(summary(mod_F), digits = 3)\n",
    "```\n",
    "\n",
    "### Data on Women's Labour-Force Participation\n",
    "\n",
    "```{r}\n",
    "library(car)\n",
    "data(Womenlf)\n",
    "wlf = cbind(Womenlf[,-2], hihigh = 0+(Womenlf$hincome > 14) )\n",
    "wlf$partic =  0 + (wlf$partic == \"fulltime\")\n",
    "wlf$hihigh = factor(wlf$hihigh)\n",
    "wlf$hincome = Womenlf$hincome\n",
    "```\n",
    "\n",
    "\n",
    "\n",
    "\n",
    "## Test conditional independency\n",
    "\n",
    "```{r}\n",
    "wlf3 <- wlf[,c(2, 3,4)]\n",
    "#hinc <- factor(0+(wlf$hincome <= median(wlf$hincome)))\n",
    "#wlf_fact[,3] <- hinc \n",
    "ftable(region~  children + hihigh, table(wlf3)) \n",
    "```\n",
    "\n",
    "```{r}\n",
    "ci.test( \"hihigh\", \"children\", \"region\", data = wlf3, test = \"mi\")\n",
    "```\n",
    "### Mixed data \n",
    "```{r}\n",
    "m1 = glm(partic ~ children*hihigh, family = binomial, data = wlf[,c(1,2,4)])\n",
    "deviance(m1)\n",
    "logLik(m1)\n",
    "```\n",
    "```{r}\n",
    "ftable(partic ~ children+hihigh, data = wlf)\n",
    "```\n",
    "\n",
    "### Fit partic\n",
    "\n",
    "```{r}\n",
    "m1 = glm(partic ~ children + hihigh + region + \n",
    "           children:region  + hihigh:region, family = binomial, data = wlf)\n",
    "round(summary(m1)$coef, 3)\n",
    "```\n",
    "\n",
    "```{r}\n",
    "m1a = glm(partic ~ children + hihigh + region + \n",
    "            children:region, family = binomial, data = wlf)\n",
    "m1b = glm(partic ~ children + hihigh + region, \n",
    "          family = binomial, data = wlf)\n",
    "m1c = glm(partic ~ children + hihigh, \n",
    "          family = binomial, data = wlf)\n",
    "anova(m1a, m1, test = \"Chisq\")\n",
    "anova(m1b, m1a, test = \"Chisq\")\n",
    "anova(m1c, m1b, test = \"Chisq\")\n",
    "Anova(m1b)\n",
    "```\n",
    "\n",
    "```{r}\n",
    "library(effects)\n",
    "plot (allEffects (m1), ask=FALSE)\n",
    "plot (allEffects (m1a), ask=FALSE)\n",
    "plot (allEffects (m1b), ask=FALSE)\n",
    "plot (allEffects (m1c), ask=FALSE)\n",
    "```\n",
    "\n",
    "```{r}\n",
    "round(summary(m1a)$coef, 3)\n",
    "round(summary(m1b)$coef, 3)\n",
    "round(summary(m1c)$coef, 3)\n",
    "```\n",
    "\n",
    "### Fit children\n",
    "\n",
    "```{r}\n",
    "m2 = glm(children ~ hihigh + region, family = binomial, data = wlf)\n",
    "round(summary(m2)$coef, 3)\n",
    "Anova(m2)\n",
    "```\n",
    "\n",
    "### Fit hihigh\n",
    "\n",
    "```{r}\n",
    "m3 = glm(hihigh ~ region, family = binomial, data = wlf)\n",
    "round(summary(m3)$coef, 3)\n",
    "Anova(m3)\n",
    "```\n",
    "\n",
    "### Data\n",
    "\n",
    "```{r}\n",
    "r = levels(wlf$region)\n",
    "for(j in r){\n",
    "  w = wlf[wlf$region==j,c(1,2,4)]\n",
    "  cat(j,\"\\n\")\n",
    "  print(as.data.frame(table(w)))\n",
    "}\n",
    "```\n",
    "\n",
    "### Summary\n",
    "\n",
    "```{r}\n",
    "require(car)\n",
    "m1 = glm(partic ~ children + hihigh + region, family = binomial, data = wlf)\n",
    "round(summary(m1)$coef[,c(1,2,3)],2)\n",
    "m10 = glm(partic ~ children + hihigh, family = binomial, data = wlf)\n",
    "round(summary(m10)$coef[,c(1,2,3)],2)\n",
    "anova(m10, m1)\n",
    "\n",
    "m2 = glm(children ~ hihigh + region, family = binomial, data = wlf)\n",
    "round(summary(m2)$coef[,c(1,2,3)],2)\n",
    "m20 = glm(children ~ region, family = binomial, data = wlf)\n",
    "round(summary(m20)$coef[,c(1,2,3)],2)\n",
    "anova(m20, m2)\n",
    "\n",
    "m3 = glm(hihigh ~ region, family = binomial, data = wlf)\n",
    "round(summary(m3)$coef[,c(1,2,3)],2)\n",
    "m30 = glm(hihigh ~ 1, family = binomial, data = wlf)\n",
    "round(summary(m30)$coef[,c(1,2,3), drop = FALSE],2)\n",
    "anova(m30, m3, test = \"Chisq\")\n",
    "\n",
    "```\n",
    "\n",
    "## Drop-out data\n",
    "\n",
    "```{r}\n",
    "drp <- read.table(\"dropout.txt\", header = TRUE, stringsAsFactors = TRUE)\n",
    "change <- drp[, c(\"B\", \"C\", \"D\", \"E\", \"F\")]\n",
    "change <- sapply(change, function(z) as.character((1+z)/2))\n",
    "change <- as.data.frame(change, stringsAsFactors = TRUE)\n",
    "tab <- table(change)\n",
    "round(100 * prop.table(margin.table(tab, \"B\")), 2)\n",
    "round(100 * prop.table(margin.table(tab, \"C\")), 2)\n",
    "round(100 * prop.table(margin.table(tab, \"D\")), 2)\n",
    "round(100 * prop.table(margin.table(tab, \"E\")), 2)\n",
    "round(100 * prop.table(margin.table(tab, \"F\")), 2)\n",
    "```\n",
    "\n",
    "```{r}\n",
    "margin.table(tab, c(\"E\", \"F\"))\n",
    "ci_test(\"E\", \"F\", test = \"mi\", data = change)\n",
    "```\n",
    "\n",
    "```{r}\n",
    "ci_test(\"D\", \"F\", \"E\", test = \"mi\", data = change)\n",
    "```\n",
    "```{r}\n",
    "ci_test(\"C\", c(\"E\", \"F\"), \"D\", test = \"mi\", data = change)\n",
    "```\n",
    "```{r}\n",
    "ci_test(\"B\", \"C\", c(\"D\", \"E\", \"F\"), test = \"mi\", data = change)\n",
    "```\n",
    "\n",
    "```{r}\n",
    "#| fig-width: 3\n",
    "#| fig-height: 2.5\n",
    "dag <- DAG(B~ D+E+F, D ~C+E, E~F)\n",
    "co <-\n",
    "  structure(c(9, 40, 62, 95, 68, 73, 44, 59, 80, 20), dim = c(5L, \n",
    "                                                              2L))\n",
    "drawGraph(dag, coor = co, lwd = 1)\n",
    "```\n",
    "```{r}\n",
    "ci_fact(dag)\n",
    "```\n",
    "```{r}\n",
    "ci_test_DAG(dag, test = \"mi\", data = change)\n",
    "```\n",
    "\n",
    "\n",
    "## Lienert data \n",
    "\n",
    "```{r}\n",
    "p <- c( 21, 2, 5, 13, 4, 11, 16, 1)\n",
    "lienert <- cbind(expand.grid(X1 = c(0,1), X2 = c(0,1), X3 = c(0,1) ), Freq = p)\n",
    "tab <- xtabs(Freq ~ ., lienert)\n",
    "```\n",
    "\n",
    "## Coppen data\n",
    "\n",
    "```{r}\n",
    "Freq <- c(15, 30, 9, 32, 23, 22, 14, 16,25,22,46,27,14,8,47,12)\n",
    "X <- expand.grid(X2 = factor(1:2), X4 = factor(1:2), X1 = factor(1:2), X3 = c(\"y\", \"n\"))\n",
    "coppen <- cbind(X, Freq)\n",
    "coppen_data <- tab2data(coppen)\n",
    "```\n",
    "\n",
    "```{r}\n",
    "ci_test(\"X1\", c(\"X3\", \"X4\"), test = \"mi\", data = coppen_data)\n",
    "ci_test(\"X4\", c(\"X1\", \"X2\"), test = \"mi\", data = coppen_data)\n",
    "```\n",
    "\n"
   ]
  },
  {
   "cell_type": "code",
   "execution_count": 19,
   "metadata": {
    "vscode": {
     "languageId": "r"
    }
   },
   "outputs": [
    {
     "data": {
      "text/html": [
       "<style>\n",
       ".list-inline {list-style: none; margin:0; padding: 0}\n",
       ".list-inline>li {display: inline-block}\n",
       ".list-inline>li:not(:last-child)::after {content: \"\\00b7\"; padding: 0 .5ex}\n",
       "</style>\n",
       "<ol class=list-inline><li>1</li><li>2</li><li>3</li></ol>\n"
      ],
      "text/latex": [
       "\\begin{enumerate*}\n",
       "\\item 1\n",
       "\\item 2\n",
       "\\item 3\n",
       "\\end{enumerate*}\n"
      ],
      "text/markdown": [
       "1. 1\n",
       "2. 2\n",
       "3. 3\n",
       "\n",
       "\n"
      ],
      "text/plain": [
       "[1] 1 2 3"
      ]
     },
     "metadata": {},
     "output_type": "display_data"
    }
   ],
   "source": [
    "1:3"
   ]
  },
  {
   "cell_type": "code",
   "execution_count": null,
   "metadata": {
    "vscode": {
     "languageId": "r"
    }
   },
   "outputs": [],
   "source": []
  }
 ],
 "metadata": {
  "kernelspec": {
   "display_name": "R",
   "language": "R",
   "name": "ir"
  },
  "language_info": {
   "codemirror_mode": "r",
   "file_extension": ".r",
   "mimetype": "text/x-r-source",
   "name": "R",
   "pygments_lexer": "r",
   "version": "4.4.0"
  }
 },
 "nbformat": 4,
 "nbformat_minor": 2
}
