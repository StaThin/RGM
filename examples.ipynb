{
 "cells": [
  {
   "cell_type": "markdown",
   "metadata": {},
   "source": [
    "# All the examples in the book \n",
    "*Regression Graph Models for Categorical Data*\n",
    "\n",
    "M. Lupparelli\n",
    "G. M. Marchetti\n",
    "C. Tarantola\n",
    "\n",
    "15 May 2024"
   ]
  },
  {
   "cell_type": "markdown",
   "metadata": {},
   "source": [
    "## Example 1.3 - Lawyer’s ratings of state judges"
   ]
  },
  {
   "cell_type": "code",
   "execution_count": 59,
   "metadata": {
    "vscode": {
     "languageId": "r"
    }
   },
   "outputs": [
    {
     "data": {
      "text/html": [
       "<table class=\"dataframe\">\n",
       "<caption>A data.frame: 6 x 12</caption>\n",
       "<thead>\n",
       "\t<tr><th></th><th scope=col>CONT</th><th scope=col>INTG</th><th scope=col>DMNR</th><th scope=col>DILG</th><th scope=col>CFMG</th><th scope=col>DECI</th><th scope=col>PREP</th><th scope=col>FAMI</th><th scope=col>ORAL</th><th scope=col>WRIT</th><th scope=col>PHYS</th><th scope=col>RTEN</th></tr>\n",
       "\t<tr><th></th><th scope=col>&lt;dbl&gt;</th><th scope=col>&lt;dbl&gt;</th><th scope=col>&lt;dbl&gt;</th><th scope=col>&lt;dbl&gt;</th><th scope=col>&lt;dbl&gt;</th><th scope=col>&lt;dbl&gt;</th><th scope=col>&lt;dbl&gt;</th><th scope=col>&lt;dbl&gt;</th><th scope=col>&lt;dbl&gt;</th><th scope=col>&lt;dbl&gt;</th><th scope=col>&lt;dbl&gt;</th><th scope=col>&lt;dbl&gt;</th></tr>\n",
       "</thead>\n",
       "<tbody>\n",
       "\t<tr><th scope=row>AARONSON,L.H.</th><td>5.7</td><td>7.9</td><td>7.7</td><td>7.3</td><td>7.1</td><td>7.4</td><td>7.1</td><td>7.1</td><td>7.1</td><td>7.0</td><td>8.3</td><td>7.8</td></tr>\n",
       "\t<tr><th scope=row>ALEXANDER,J.M.</th><td>6.8</td><td>8.9</td><td>8.8</td><td>8.5</td><td>7.8</td><td>8.1</td><td>8.0</td><td>8.0</td><td>7.8</td><td>7.9</td><td>8.5</td><td>8.7</td></tr>\n",
       "\t<tr><th scope=row>ARMENTANO,A.J.</th><td>7.2</td><td>8.1</td><td>7.8</td><td>7.8</td><td>7.5</td><td>7.6</td><td>7.5</td><td>7.5</td><td>7.3</td><td>7.4</td><td>7.9</td><td>7.8</td></tr>\n",
       "\t<tr><th scope=row>BERDON,R.I.</th><td>6.8</td><td>8.8</td><td>8.5</td><td>8.8</td><td>8.3</td><td>8.5</td><td>8.7</td><td>8.7</td><td>8.4</td><td>8.5</td><td>8.8</td><td>8.7</td></tr>\n",
       "\t<tr><th scope=row>BRACKEN,J.J.</th><td>7.3</td><td>6.4</td><td>4.3</td><td>6.5</td><td>6.0</td><td>6.2</td><td>5.7</td><td>5.7</td><td>5.1</td><td>5.3</td><td>5.5</td><td>4.8</td></tr>\n",
       "\t<tr><th scope=row>BURNS,E.B.</th><td>6.2</td><td>8.8</td><td>8.7</td><td>8.5</td><td>7.9</td><td>8.0</td><td>8.1</td><td>8.0</td><td>8.0</td><td>8.0</td><td>8.6</td><td>8.6</td></tr>\n",
       "</tbody>\n",
       "</table>\n"
      ],
      "text/latex": [
       "A data.frame: 6 x 12\n",
       "\\begin{tabular}{r|llllllllllll}\n",
       "  & CONT & INTG & DMNR & DILG & CFMG & DECI & PREP & FAMI & ORAL & WRIT & PHYS & RTEN\\\\\n",
       "  & <dbl> & <dbl> & <dbl> & <dbl> & <dbl> & <dbl> & <dbl> & <dbl> & <dbl> & <dbl> & <dbl> & <dbl>\\\\\n",
       "\\hline\n",
       "\tAARONSON,L.H. & 5.7 & 7.9 & 7.7 & 7.3 & 7.1 & 7.4 & 7.1 & 7.1 & 7.1 & 7.0 & 8.3 & 7.8\\\\\n",
       "\tALEXANDER,J.M. & 6.8 & 8.9 & 8.8 & 8.5 & 7.8 & 8.1 & 8.0 & 8.0 & 7.8 & 7.9 & 8.5 & 8.7\\\\\n",
       "\tARMENTANO,A.J. & 7.2 & 8.1 & 7.8 & 7.8 & 7.5 & 7.6 & 7.5 & 7.5 & 7.3 & 7.4 & 7.9 & 7.8\\\\\n",
       "\tBERDON,R.I. & 6.8 & 8.8 & 8.5 & 8.8 & 8.3 & 8.5 & 8.7 & 8.7 & 8.4 & 8.5 & 8.8 & 8.7\\\\\n",
       "\tBRACKEN,J.J. & 7.3 & 6.4 & 4.3 & 6.5 & 6.0 & 6.2 & 5.7 & 5.7 & 5.1 & 5.3 & 5.5 & 4.8\\\\\n",
       "\tBURNS,E.B. & 6.2 & 8.8 & 8.7 & 8.5 & 7.9 & 8.0 & 8.1 & 8.0 & 8.0 & 8.0 & 8.6 & 8.6\\\\\n",
       "\\end{tabular}\n"
      ],
      "text/markdown": [
       "\n",
       "A data.frame: 6 x 12\n",
       "\n",
       "| <!--/--> | CONT &lt;dbl&gt; | INTG &lt;dbl&gt; | DMNR &lt;dbl&gt; | DILG &lt;dbl&gt; | CFMG &lt;dbl&gt; | DECI &lt;dbl&gt; | PREP &lt;dbl&gt; | FAMI &lt;dbl&gt; | ORAL &lt;dbl&gt; | WRIT &lt;dbl&gt; | PHYS &lt;dbl&gt; | RTEN &lt;dbl&gt; |\n",
       "|---|---|---|---|---|---|---|---|---|---|---|---|---|\n",
       "| AARONSON,L.H. | 5.7 | 7.9 | 7.7 | 7.3 | 7.1 | 7.4 | 7.1 | 7.1 | 7.1 | 7.0 | 8.3 | 7.8 |\n",
       "| ALEXANDER,J.M. | 6.8 | 8.9 | 8.8 | 8.5 | 7.8 | 8.1 | 8.0 | 8.0 | 7.8 | 7.9 | 8.5 | 8.7 |\n",
       "| ARMENTANO,A.J. | 7.2 | 8.1 | 7.8 | 7.8 | 7.5 | 7.6 | 7.5 | 7.5 | 7.3 | 7.4 | 7.9 | 7.8 |\n",
       "| BERDON,R.I. | 6.8 | 8.8 | 8.5 | 8.8 | 8.3 | 8.5 | 8.7 | 8.7 | 8.4 | 8.5 | 8.8 | 8.7 |\n",
       "| BRACKEN,J.J. | 7.3 | 6.4 | 4.3 | 6.5 | 6.0 | 6.2 | 5.7 | 5.7 | 5.1 | 5.3 | 5.5 | 4.8 |\n",
       "| BURNS,E.B. | 6.2 | 8.8 | 8.7 | 8.5 | 7.9 | 8.0 | 8.1 | 8.0 | 8.0 | 8.0 | 8.6 | 8.6 |\n",
       "\n"
      ],
      "text/plain": [
       "               CONT INTG DMNR DILG CFMG DECI PREP FAMI ORAL WRIT PHYS RTEN\n",
       "AARONSON,L.H.  5.7  7.9  7.7  7.3  7.1  7.4  7.1  7.1  7.1  7.0  8.3  7.8 \n",
       "ALEXANDER,J.M. 6.8  8.9  8.8  8.5  7.8  8.1  8.0  8.0  7.8  7.9  8.5  8.7 \n",
       "ARMENTANO,A.J. 7.2  8.1  7.8  7.8  7.5  7.6  7.5  7.5  7.3  7.4  7.9  7.8 \n",
       "BERDON,R.I.    6.8  8.8  8.5  8.8  8.3  8.5  8.7  8.7  8.4  8.5  8.8  8.7 \n",
       "BRACKEN,J.J.   7.3  6.4  4.3  6.5  6.0  6.2  5.7  5.7  5.1  5.3  5.5  4.8 \n",
       "BURNS,E.B.     6.2  8.8  8.7  8.5  7.9  8.0  8.1  8.0  8.0  8.0  8.6  8.6 "
      ]
     },
     "metadata": {},
     "output_type": "display_data"
    }
   ],
   "source": [
    "library(datasets)\n",
    "data(USJudgeRatings)\n",
    "head(USJudgeRatings)"
   ]
  },
  {
   "cell_type": "markdown",
   "metadata": {},
   "source": [
    "The variables `INTG` (judicial integrity), `DILG` (diligence) and `CONT` (number of contacts of lawyer with judge) are observed on 43 judges. The sample correlation is obtained."
   ]
  },
  {
   "cell_type": "code",
   "execution_count": 60,
   "metadata": {
    "vscode": {
     "languageId": "r"
    }
   },
   "outputs": [
    {
     "data": {
      "text/html": [
       "<table class=\"dataframe\">\n",
       "<caption>A matrix: 3 x 3 of type dbl</caption>\n",
       "<thead>\n",
       "\t<tr><th></th><th scope=col>INTG</th><th scope=col>DILG</th><th scope=col>CONT</th></tr>\n",
       "</thead>\n",
       "<tbody>\n",
       "\t<tr><th scope=row>INTG</th><td> 1.000</td><td>0.872</td><td>-0.133</td></tr>\n",
       "\t<tr><th scope=row>DILG</th><td> 0.872</td><td>1.000</td><td> 0.012</td></tr>\n",
       "\t<tr><th scope=row>CONT</th><td>-0.133</td><td>0.012</td><td> 1.000</td></tr>\n",
       "</tbody>\n",
       "</table>\n"
      ],
      "text/latex": [
       "A matrix: 3 x 3 of type dbl\n",
       "\\begin{tabular}{r|lll}\n",
       "  & INTG & DILG & CONT\\\\\n",
       "\\hline\n",
       "\tINTG &  1.000 & 0.872 & -0.133\\\\\n",
       "\tDILG &  0.872 & 1.000 &  0.012\\\\\n",
       "\tCONT & -0.133 & 0.012 &  1.000\\\\\n",
       "\\end{tabular}\n"
      ],
      "text/markdown": [
       "\n",
       "A matrix: 3 x 3 of type dbl\n",
       "\n",
       "| <!--/--> | INTG | DILG | CONT |\n",
       "|---|---|---|---|\n",
       "| INTG |  1.000 | 0.872 | -0.133 |\n",
       "| DILG |  0.872 | 1.000 |  0.012 |\n",
       "| CONT | -0.133 | 0.012 |  1.000 |\n",
       "\n"
      ],
      "text/plain": [
       "     INTG   DILG  CONT  \n",
       "INTG  1.000 0.872 -0.133\n",
       "DILG  0.872 1.000  0.012\n",
       "CONT -0.133 0.012  1.000"
      ]
     },
     "metadata": {},
     "output_type": "display_data"
    }
   ],
   "source": [
    "R <- cor(USJudgeRatings[, c(\"INTG\", \"DILG\", \"CONT\")])\n",
    "round(R, 3)"
   ]
  },
  {
   "cell_type": "markdown",
   "metadata": {},
   "source": [
    "## Example 1.8 - Fiji Fertility Survey\n",
    "\n",
    "Variables \n",
    "- `A`, Age\n",
    "- `M` Age at first marriage \n",
    "- `E` Education 𝐸 (in completed years)\n",
    "- `U` Residence  (urban = 1 or rural = 0), \n",
    "- `F` Fertility  (number of children ever born), \n",
    "\n",
    "observed on a sample of 774 married women of Fijian ethnicity, aged 35-49.\n"
   ]
  },
  {
   "cell_type": "code",
   "execution_count": 61,
   "metadata": {
    "vscode": {
     "languageId": "r"
    }
   },
   "outputs": [
    {
     "name": "stdout",
     "output_type": "stream",
     "text": [
      "[1] 774   5\n"
     ]
    },
    {
     "data": {
      "text/plain": [
       "       F                A               M               E         \n",
       " Min.   : 0.000   Min.   :35.00   Min.   :10.00   Min.   : 0.000  \n",
       " 1st Qu.: 3.000   1st Qu.:38.00   1st Qu.:17.00   1st Qu.: 5.000  \n",
       " Median : 6.000   Median :41.00   Median :19.00   Median : 6.000  \n",
       " Mean   : 5.452   Mean   :41.06   Mean   :19.73   Mean   : 5.871  \n",
       " 3rd Qu.: 8.000   3rd Qu.:44.00   3rd Qu.:22.00   3rd Qu.: 7.000  \n",
       " Max.   :14.000   Max.   :49.00   Max.   :44.00   Max.   :20.000  \n",
       "       U         \n",
       " Min.   :0.0000  \n",
       " 1st Qu.:0.0000  \n",
       " Median :0.0000  \n",
       " Mean   :0.2726  \n",
       " 3rd Qu.:1.0000  \n",
       " Max.   :1.0000  "
      ]
     },
     "metadata": {},
     "output_type": "display_data"
    }
   ],
   "source": [
    "fiji <- read.csv(\"./data/fiji_data2.csv\")\n",
    "fijians <- fiji[fiji$I == 0,-5]\n",
    "print(dim(fijians))\n",
    "summary(fijians)"
   ]
  },
  {
   "cell_type": "markdown",
   "metadata": {
    "vscode": {
     "languageId": "r"
    }
   },
   "source": [
    "### The Full regression graph \n",
    "\n",
    "To create an adjacency matrix for a RC graph we are going to use the package **ggm**. The main\n",
    "function used is `makeMG` (make a mixed graph). "
   ]
  },
  {
   "cell_type": "code",
   "execution_count": 62,
   "metadata": {
    "vscode": {
     "languageId": "r"
    }
   },
   "outputs": [
    {
     "data": {
      "text/html": [
       "<table class=\"dataframe\">\n",
       "<caption>A matrix: 5 x 5 of type dbl</caption>\n",
       "<thead>\n",
       "\t<tr><th></th><th scope=col>F</th><th scope=col>M</th><th scope=col>E</th><th scope=col>A</th><th scope=col>U</th></tr>\n",
       "</thead>\n",
       "<tbody>\n",
       "\t<tr><th scope=row>F</th><td>0</td><td>  0</td><td>  0</td><td>  0</td><td>  0</td></tr>\n",
       "\t<tr><th scope=row>M</th><td>1</td><td>  0</td><td>100</td><td>  0</td><td>  0</td></tr>\n",
       "\t<tr><th scope=row>E</th><td>1</td><td>100</td><td>  0</td><td>  0</td><td>  0</td></tr>\n",
       "\t<tr><th scope=row>A</th><td>1</td><td>  1</td><td>  1</td><td>  0</td><td>100</td></tr>\n",
       "\t<tr><th scope=row>U</th><td>1</td><td>  1</td><td>  1</td><td>100</td><td>  0</td></tr>\n",
       "</tbody>\n",
       "</table>\n"
      ],
      "text/latex": [
       "A matrix: 5 x 5 of type dbl\n",
       "\\begin{tabular}{r|lllll}\n",
       "  & F & M & E & A & U\\\\\n",
       "\\hline\n",
       "\tF & 0 &   0 &   0 &   0 &   0\\\\\n",
       "\tM & 1 &   0 & 100 &   0 &   0\\\\\n",
       "\tE & 1 & 100 &   0 &   0 &   0\\\\\n",
       "\tA & 1 &   1 &   1 &   0 & 100\\\\\n",
       "\tU & 1 &   1 &   1 & 100 &   0\\\\\n",
       "\\end{tabular}\n"
      ],
      "text/markdown": [
       "\n",
       "A matrix: 5 x 5 of type dbl\n",
       "\n",
       "| <!--/--> | F | M | E | A | U |\n",
       "|---|---|---|---|---|---|\n",
       "| F | 0 |   0 |   0 |   0 |   0 |\n",
       "| M | 1 |   0 | 100 |   0 |   0 |\n",
       "| E | 1 | 100 |   0 |   0 |   0 |\n",
       "| A | 1 |   1 |   1 |   0 | 100 |\n",
       "| U | 1 |   1 |   1 | 100 |   0 |\n",
       "\n"
      ],
      "text/plain": [
       "  F M   E   A   U  \n",
       "F 0   0   0   0   0\n",
       "M 1   0 100   0   0\n",
       "E 1 100   0   0   0\n",
       "A 1   1   1   0 100\n",
       "U 1   1   1 100   0"
      ]
     },
     "metadata": {},
     "output_type": "display_data"
    }
   ],
   "source": [
    "library(\"ggm\")\n",
    "gfull <- makeMG(dg = DAG(F ~ M+E+A+U, M ~ U + A,  E ~ U + A), \n",
    "                bg = UG(~ M*E +  U*A))\n",
    "gfull"
   ]
  },
  {
   "cell_type": "markdown",
   "metadata": {},
   "source": [
    "Plot the graph "
   ]
  },
  {
   "cell_type": "code",
   "execution_count": 63,
   "metadata": {
    "vscode": {
     "languageId": "r"
    }
   },
   "outputs": [
    {
     "data": {
      "image/png": "[encoded data removed]",
      "text/plain": [
       "plot without title"
      ]
     },
     "metadata": {
      "image/png": {
       "height": 420,
       "width": 420
      }
     },
     "output_type": "display_data"
    }
   ],
   "source": [
    "co <- matrix(c(\n",
    "    7, 36, 36, 64, 36, 20, 80, 20, 80, 64\n",
    "), byrow = TRUE, ncol = 2)\n",
    "drawGraph(gfull, coor = co)"
   ]
  },
  {
   "cell_type": "markdown",
   "metadata": {},
   "source": [
    "### Fit a regression model for fertility "
   ]
  },
  {
   "cell_type": "code",
   "execution_count": 64,
   "metadata": {
    "vscode": {
     "languageId": "r"
    }
   },
   "outputs": [
    {
     "data": {
      "text/html": [
       "<table class=\"dataframe\">\n",
       "<caption>A matrix: 5 x 4 of type dbl</caption>\n",
       "<thead>\n",
       "\t<tr><th></th><th scope=col>Estimate</th><th scope=col>Std. Error</th><th scope=col>t value</th><th scope=col>Pr(&gt;|t|)</th></tr>\n",
       "</thead>\n",
       "<tbody>\n",
       "\t<tr><th scope=row>(Intercept)</th><td> 5.285</td><td>1.200</td><td> 4.404</td><td>0.000</td></tr>\n",
       "\t<tr><th scope=row>M</th><td>-0.206</td><td>0.024</td><td>-8.546</td><td>0.000</td></tr>\n",
       "\t<tr><th scope=row>E</th><td> 0.009</td><td>0.044</td><td> 0.210</td><td>0.834</td></tr>\n",
       "\t<tr><th scope=row>A</th><td> 0.111</td><td>0.025</td><td> 4.388</td><td>0.000</td></tr>\n",
       "\t<tr><th scope=row>U</th><td>-1.389</td><td>0.232</td><td>-5.997</td><td>0.000</td></tr>\n",
       "</tbody>\n",
       "</table>\n"
      ],
      "text/latex": [
       "A matrix: 5 x 4 of type dbl\n",
       "\\begin{tabular}{r|llll}\n",
       "  & Estimate & Std. Error & t value & Pr(>\\textbar{}t\\textbar{})\\\\\n",
       "\\hline\n",
       "\t(Intercept) &  5.285 & 1.200 &  4.404 & 0.000\\\\\n",
       "\tM & -0.206 & 0.024 & -8.546 & 0.000\\\\\n",
       "\tE &  0.009 & 0.044 &  0.210 & 0.834\\\\\n",
       "\tA &  0.111 & 0.025 &  4.388 & 0.000\\\\\n",
       "\tU & -1.389 & 0.232 & -5.997 & 0.000\\\\\n",
       "\\end{tabular}\n"
      ],
      "text/markdown": [
       "\n",
       "A matrix: 5 x 4 of type dbl\n",
       "\n",
       "| <!--/--> | Estimate | Std. Error | t value | Pr(&gt;|t|) |\n",
       "|---|---|---|---|---|\n",
       "| (Intercept) |  5.285 | 1.200 |  4.404 | 0.000 |\n",
       "| M | -0.206 | 0.024 | -8.546 | 0.000 |\n",
       "| E |  0.009 | 0.044 |  0.210 | 0.834 |\n",
       "| A |  0.111 | 0.025 |  4.388 | 0.000 |\n",
       "| U | -1.389 | 0.232 | -5.997 | 0.000 |\n",
       "\n"
      ],
      "text/plain": [
       "            Estimate Std. Error t value Pr(>|t|)\n",
       "(Intercept)  5.285   1.200       4.404  0.000   \n",
       "M           -0.206   0.024      -8.546  0.000   \n",
       "E            0.009   0.044       0.210  0.834   \n",
       "A            0.111   0.025       4.388  0.000   \n",
       "U           -1.389   0.232      -5.997  0.000   "
      ]
     },
     "metadata": {},
     "output_type": "display_data"
    }
   ],
   "source": [
    "m1 <- lm(F ~ M + E + A + U, data = fijians)\n",
    "round(summary(m1)$coef, 3) "
   ]
  },
  {
   "cell_type": "markdown",
   "metadata": {},
   "source": [
    "Suggest removing arrow $F \\leftarrow E$"
   ]
  },
  {
   "cell_type": "code",
   "execution_count": 65,
   "metadata": {
    "vscode": {
     "languageId": "r"
    }
   },
   "outputs": [
    {
     "data": {
      "text/html": [
       "<table class=\"dataframe\">\n",
       "<caption>A matrix: 3 x 4 of type dbl</caption>\n",
       "<thead>\n",
       "\t<tr><th></th><th scope=col>Estimate</th><th scope=col>Std. Error</th><th scope=col>t value</th><th scope=col>Pr(&gt;|t|)</th></tr>\n",
       "</thead>\n",
       "<tbody>\n",
       "\t<tr><th scope=row>(Intercept)</th><td>19.709</td><td>1.544</td><td>12.768</td><td>0.000</td></tr>\n",
       "\t<tr><th scope=row>A</th><td> 0.007</td><td>0.037</td><td> 0.195</td><td>0.846</td></tr>\n",
       "\t<tr><th scope=row>U</th><td>-1.007</td><td>0.344</td><td>-2.926</td><td>0.004</td></tr>\n",
       "</tbody>\n",
       "</table>\n"
      ],
      "text/latex": [
       "A matrix: 3 x 4 of type dbl\n",
       "\\begin{tabular}{r|llll}\n",
       "  & Estimate & Std. Error & t value & Pr(>\\textbar{}t\\textbar{})\\\\\n",
       "\\hline\n",
       "\t(Intercept) & 19.709 & 1.544 & 12.768 & 0.000\\\\\n",
       "\tA &  0.007 & 0.037 &  0.195 & 0.846\\\\\n",
       "\tU & -1.007 & 0.344 & -2.926 & 0.004\\\\\n",
       "\\end{tabular}\n"
      ],
      "text/markdown": [
       "\n",
       "A matrix: 3 x 4 of type dbl\n",
       "\n",
       "| <!--/--> | Estimate | Std. Error | t value | Pr(&gt;|t|) |\n",
       "|---|---|---|---|---|\n",
       "| (Intercept) | 19.709 | 1.544 | 12.768 | 0.000 |\n",
       "| A |  0.007 | 0.037 |  0.195 | 0.846 |\n",
       "| U | -1.007 | 0.344 | -2.926 | 0.004 |\n",
       "\n"
      ],
      "text/plain": [
       "            Estimate Std. Error t value Pr(>|t|)\n",
       "(Intercept) 19.709   1.544      12.768  0.000   \n",
       "A            0.007   0.037       0.195  0.846   \n",
       "U           -1.007   0.344      -2.926  0.004   "
      ]
     },
     "metadata": {},
     "output_type": "display_data"
    }
   ],
   "source": [
    "m2 <- lm(M ~ A + U , data = fijians)\n",
    "round(summary(m2)$coef, 3)"
   ]
  },
  {
   "cell_type": "markdown",
   "metadata": {},
   "source": [
    "Suggest removing arrow $M \\leftarrow A$"
   ]
  },
  {
   "cell_type": "code",
   "execution_count": 66,
   "metadata": {
    "vscode": {
     "languageId": "r"
    }
   },
   "outputs": [
    {
     "data": {
      "text/html": [
       "<table class=\"dataframe\">\n",
       "<caption>A matrix: 3 x 4 of type dbl</caption>\n",
       "<thead>\n",
       "\t<tr><th></th><th scope=col>Estimate</th><th scope=col>Std. Error</th><th scope=col>t value</th><th scope=col>Pr(&gt;|t|)</th></tr>\n",
       "</thead>\n",
       "<tbody>\n",
       "\t<tr><th scope=row>(Intercept)</th><td> 9.822</td><td>0.846</td><td>11.607</td><td>0.00</td></tr>\n",
       "\t<tr><th scope=row>A</th><td>-0.099</td><td>0.020</td><td>-4.812</td><td>0.00</td></tr>\n",
       "\t<tr><th scope=row>U</th><td> 0.343</td><td>0.189</td><td> 1.817</td><td>0.07</td></tr>\n",
       "</tbody>\n",
       "</table>\n"
      ],
      "text/latex": [
       "A matrix: 3 x 4 of type dbl\n",
       "\\begin{tabular}{r|llll}\n",
       "  & Estimate & Std. Error & t value & Pr(>\\textbar{}t\\textbar{})\\\\\n",
       "\\hline\n",
       "\t(Intercept) &  9.822 & 0.846 & 11.607 & 0.00\\\\\n",
       "\tA & -0.099 & 0.020 & -4.812 & 0.00\\\\\n",
       "\tU &  0.343 & 0.189 &  1.817 & 0.07\\\\\n",
       "\\end{tabular}\n"
      ],
      "text/markdown": [
       "\n",
       "A matrix: 3 x 4 of type dbl\n",
       "\n",
       "| <!--/--> | Estimate | Std. Error | t value | Pr(&gt;|t|) |\n",
       "|---|---|---|---|---|\n",
       "| (Intercept) |  9.822 | 0.846 | 11.607 | 0.00 |\n",
       "| A | -0.099 | 0.020 | -4.812 | 0.00 |\n",
       "| U |  0.343 | 0.189 |  1.817 | 0.07 |\n",
       "\n"
      ],
      "text/plain": [
       "            Estimate Std. Error t value Pr(>|t|)\n",
       "(Intercept)  9.822   0.846      11.607  0.00    \n",
       "A           -0.099   0.020      -4.812  0.00    \n",
       "U            0.343   0.189       1.817  0.07    "
      ]
     },
     "metadata": {},
     "output_type": "display_data"
    }
   ],
   "source": [
    "m3 <- lm(E ~ A + U , data = fijians)\n",
    "round(summary(m3)$coef, 3)"
   ]
  },
  {
   "cell_type": "markdown",
   "metadata": {
    "vscode": {
     "languageId": "r"
    }
   },
   "source": [
    "Perhaps we can remove the arrow $E \\leftarrow U$"
   ]
  },
  {
   "cell_type": "markdown",
   "metadata": {},
   "source": [
    "The reduced regression graph"
   ]
  },
  {
   "cell_type": "code",
   "execution_count": 67,
   "metadata": {
    "vscode": {
     "languageId": "r"
    }
   },
   "outputs": [
    {
     "data": {
      "image/png": "[encoded data removed]",
      "text/plain": [
       "plot without title"
      ]
     },
     "metadata": {
      "image/png": {
       "height": 420,
       "width": 420
      }
     },
     "output_type": "display_data"
    }
   ],
   "source": [
    "gred <- gfull\n",
    "gred[\"E\", \"F\"] <- 0\n",
    "gred[\"A\", \"M\"] <- 0\n",
    "gred[\"U\", \"E\"] <- 0\n",
    "drawGraph(gred, coor = co)"
   ]
  },
  {
   "cell_type": "markdown",
   "metadata": {},
   "source": [
    "### MLE fit using package **sem**\n",
    "\n",
    "Structural equations for the saturated model"
   ]
  },
  {
   "cell_type": "code",
   "execution_count": 68,
   "metadata": {
    "vscode": {
     "languageId": "r"
    }
   },
   "outputs": [],
   "source": [
    "library(\"sem\")"
   ]
  },
  {
   "cell_type": "code",
   "execution_count": 69,
   "metadata": {
    "vscode": {
     "languageId": "r"
    }
   },
   "outputs": [
    {
     "name": "stderr",
     "output_type": "stream",
     "text": [
      "NOTE: it is generally simpler to use specifyEquations() or cfa()\n",
      "      see ?specifyEquations\n",
      "\n"
     ]
    }
   ],
   "source": [
    "sat_mod_F <- specifyModel(text=\"\n",
    "M -> F, bFM, NA\n",
    "A -> F, bFA, NA\n",
    "U -> F, bFU, NA\n",
    "E -> F, bFE, NA\n",
    "U -> M, bMU, NA\n",
    "A -> M, bMA, NA\n",
    "A -> E, bEA, NA\n",
    "U -> E, bEU, NA\n",
    "F <-> F, oFF, NA\n",
    "M <-> M, oMM, NA\n",
    "M <-> E, oME, NA\n",
    "E <-> E, oEE, NA\n",
    "A <-> A, oAA, NA\n",
    "A <-> U, oAU, NA\n",
    "U <-> U, oUU, NA\n",
    "\")"
   ]
  },
  {
   "cell_type": "code",
   "execution_count": 70,
   "metadata": {
    "vscode": {
     "languageId": "r"
    }
   },
   "outputs": [
    {
     "data": {
      "text/plain": [
       "\n",
       " Model Chisquare =  -6.865619e-13   Df =  0 Pr(>Chisq) = NA\n",
       " AIC =  30\n",
       " BIC =  -6.865619e-13\n",
       "\n",
       " Normalized Residuals\n",
       "      Min.    1st Qu.     Median       Mean    3rd Qu.       Max. \n",
       "-2.741e-15 -3.027e-16  0.000e+00 -3.973e-17  3.639e-16  1.248e-15 \n",
       "\n",
       " R-square for Endogenous Variables\n",
       "     M      F      E \n",
       "0.0110 0.1335 0.0331 \n",
       "\n",
       " Parameter Estimates\n",
       "    Estimate     Std Error  z value     Pr(>|z|)             \n",
       "bFM -0.206025906 0.02404668 -8.56774948 1.055271e-17 F <--- M\n",
       "bFA  0.110974275 0.02522646  4.39912135 1.086900e-05 F <--- A\n",
       "bFU -1.388761080 0.23099040 -6.01220252 1.830195e-09 F <--- U\n",
       "bFE  0.009244430 0.04386276  0.21075804 8.330761e-01 F <--- E\n",
       "bMU -1.007277214 0.34380453 -2.92979621 3.391844e-03 M <--- U\n",
       "bMA  0.007265717 0.03729347  0.19482543 8.455296e-01 M <--- A\n",
       "bEA -0.098507206 0.02044523 -4.81810270 1.449298e-06 E <--- A\n",
       "bEU  0.342845890 0.18848235  1.81898137 6.891427e-02 E <--- U\n",
       "oFF  8.055230086 0.40973513 19.65960325 4.784540e-86 F <--> F\n",
       "oMM 18.141375148 0.92277422 19.65960325 4.784540e-86 M <--> M\n",
       "oME  0.808827798 0.35889797  2.25364270 2.421865e-02 E <--> M\n",
       "oEE  5.452408758 0.27734073 19.65960325 4.784540e-86 E <--> E\n",
       "oAA 16.874382837 0.85832774 19.65960325 4.784540e-86 A <--> A\n",
       "oAU  0.004711667 0.06583561  0.07156716 9.429464e-01 U <--> A\n",
       "oUU  0.198550230 0.01009940 19.65960325 4.784540e-86 U <--> U\n",
       "\n",
       " Iterations =  0 "
      ]
     },
     "metadata": {},
     "output_type": "display_data"
    }
   ],
   "source": [
    "S <- cov(fijians)\n",
    "m_sat <-  sem(sat_mod_F, S, N = 774, start.tol = 1e-09)\n",
    "summary(m_sat)"
   ]
  },
  {
   "cell_type": "markdown",
   "metadata": {},
   "source": [
    "Reduced model"
   ]
  },
  {
   "cell_type": "code",
   "execution_count": 71,
   "metadata": {
    "vscode": {
     "languageId": "r"
    }
   },
   "outputs": [
    {
     "name": "stderr",
     "output_type": "stream",
     "text": [
      "NOTE: it is generally simpler to use specifyEquations() or cfa()\n",
      "      see ?specifyEquations\n",
      "\n"
     ]
    },
    {
     "data": {
      "text/plain": [
       "\n",
       " Model Chisquare =  3.384157   Df =  3 Pr(>Chisq) = 0.3361003\n",
       " AIC =  27.38416\n",
       " BIC =  -16.57056\n",
       "\n",
       " Normalized Residuals\n",
       "    Min.  1st Qu.   Median     Mean  3rd Qu.     Max. \n",
       "-0.22861 -0.04188  0.00000  0.13696  0.01545  1.78854 \n",
       "\n",
       " R-square for Endogenous Variables\n",
       "     M      F      E \n",
       "0.0121 0.1335 0.0292 \n",
       "\n",
       " Parameter Estimates\n",
       "    Estimate     Std Error  z value     Pr(>|z|)             \n",
       "bFM -0.205613746 0.02396717 -8.57897348 9.572354e-18 F <--- M\n",
       "bFA  0.110060638 0.02485130  4.42876696 9.477336e-06 F <--- A\n",
       "bFU -1.385176505 0.23050041 -6.00943175 1.861747e-09 F <--- U\n",
       "bMU -1.057957966 0.34266787 -3.08741516 2.019054e-03 M <--- U\n",
       "bEA -0.098737351 0.02041987 -4.83535602 1.329075e-06 E <--- A\n",
       "oFF  8.055692965 0.40975867 19.65960325 4.784540e-86 F <--> F\n",
       "oMM 18.142192602 0.92281581 19.65960325 4.784540e-86 M <--> M\n",
       "oME  0.812115820 0.35966271  2.25799283 2.394611e-02 E <--> M\n",
       "oEE  5.475282718 0.27850423 19.65960325 4.784540e-86 E <--> E\n",
       "oAA 16.874382837 0.85832774 19.65960325 4.784540e-86 A <--> A\n",
       "oAU  0.004711667 0.06583561  0.07156716 9.429464e-01 U <--> A\n",
       "oUU  0.198550230 0.01009940 19.65960325 4.784540e-86 U <--> U\n",
       "\n",
       " Iterations =  6 "
      ]
     },
     "metadata": {},
     "output_type": "display_data"
    }
   ],
   "source": [
    "red_mod_F <- specifyModel(text=\"\n",
    "M -> F, bFM, NA\n",
    "A -> F, bFA, NA\n",
    "U -> F, bFU, NA\n",
    "U -> M, bMU, NA\n",
    "A -> E, bEA, NA\n",
    "F <-> F, oFF, NA\n",
    "M <-> M, oMM, NA\n",
    "M <-> E, oME, NA\n",
    "E <-> E, oEE, NA\n",
    "A <-> A, oAA, NA\n",
    "A <-> U, oAU, NA\n",
    "U <-> U, oUU, NA\n",
    "\")\n",
    "m_red <-  sem(red_mod_F, S, N = 774, start.tol = 1e-09)\n",
    "summary(m_red)"
   ]
  },
  {
   "cell_type": "markdown",
   "metadata": {},
   "source": [
    "### Fitting the multivariate regression chain graph\n",
    "\n",
    "The regression chain graphs is a special case of  ancestral graph. \n",
    "Thus you can use the function `fitAncestralGraph` in package **ggm**.\n",
    "Source also the file `dome_functions.R`."
   ]
  },
  {
   "cell_type": "code",
   "execution_count": 72,
   "metadata": {
    "vscode": {
     "languageId": "r"
    }
   },
   "outputs": [],
   "source": [
    "source(\"./R/some_functions.R\")"
   ]
  },
  {
   "cell_type": "markdown",
   "metadata": {},
   "source": [
    "Saturated model"
   ]
  },
  {
   "cell_type": "code",
   "execution_count": 73,
   "metadata": {
    "vscode": {
     "languageId": "r"
    }
   },
   "outputs": [
    {
     "ename": "ERROR",
     "evalue": "Error in makeP(B): could not find function \"makeP\"\n",
     "output_type": "error",
     "traceback": [
      "Error in makeP(B): could not find function \"makeP\"\nTraceback:\n",
      "1. summaryRCG(out_sat, n = 774)"
     ]
    }
   ],
   "source": [
    "library(\"ggm\")\n",
    "out_sat <- fitAncestralGraph(gfull, S, n = 774)\n",
    "summaryRCG(out_sat, n = 774)"
   ]
  },
  {
   "cell_type": "markdown",
   "metadata": {},
   "source": [
    "Reduced model"
   ]
  },
  {
   "cell_type": "code",
   "execution_count": null,
   "metadata": {
    "vscode": {
     "languageId": "r"
    }
   },
   "outputs": [
    {
     "name": "stdout",
     "output_type": "stream",
     "text": [
      "      beta    se     LB     UB\n",
      "F|A  0.111 0.025  0.046  0.176\n",
      "M|A  0.007 0.037 -0.089  0.103\n",
      "E|A -0.099 0.020 -0.151 -0.046\n",
      "F|M -0.206 0.024 -0.268 -0.144\n",
      "F|E  0.009 0.044 -0.104  0.122\n",
      "F|U -1.389 0.231 -1.984 -0.793\n",
      "M|U -1.007 0.344 -1.894 -0.121\n",
      "E|U  0.343 0.188 -0.143  0.829\n",
      "     omega    se     LB     UB\n",
      "F~F  8.055 0.409  6.999  9.112\n",
      "A~A 16.874 0.858 14.661 19.087\n",
      "U~A  0.005 0.093 -0.235  0.245\n",
      "M~M 18.141 0.922 15.762 20.521\n",
      "E~M  0.809 0.506 -0.496  2.113\n",
      "M~E  0.809 0.506 -0.496  2.113\n",
      "E~E  5.452 0.277  4.737  6.167\n",
      "A~U  0.005 0.093 -0.235  0.245\n",
      "U~U  0.199 0.010  0.173  0.225\n"
     ]
    }
   ],
   "source": [
    "out_red <- fitAncestralGraph(gred, S, n = 774, tol = 1e-09)\n",
    "summaryRCG(out_sat, n = 774)"
   ]
  },
  {
   "cell_type": "markdown",
   "metadata": {},
   "source": [
    "## Example 1.13 Data on Women's Labour-Force Participation\n",
    "\n",
    "The original data are in R package **carData**.\n",
    "The first 3 variables are transformed to binary data.\n",
    "The resulting variables are all categorical."
   ]
  },
  {
   "cell_type": "code",
   "execution_count": null,
   "metadata": {
    "vscode": {
     "languageId": "r"
    }
   },
   "outputs": [
    {
     "data": {
      "text/plain": [
       "      R Atlantic BC Ontario Prairie Quebec\n",
       "H C L                                     \n",
       "0 0 0          1  4       6       0      5\n",
       "    1          1  4      11       3     10\n",
       "  1 0         11  6      25      15     18\n",
       "    1          2  0       4       4      4\n",
       "1 0 0          1  4       6       1      5\n",
       "    1          1  2      10       1      3\n",
       "  1 0         11  8      44       7     19\n",
       "    1          2  1       2       0      1"
      ]
     },
     "metadata": {},
     "output_type": "display_data"
    }
   ],
   "source": [
    "wlf_data <- read.table(\"./data/wlfdata.txt\", header = TRUE, colClasses = \"character\")\n",
    "wlf_data <- as.data.frame(lapply(wlfdata, factor))\n",
    "ftable(R ~ H + C + L, data = wlfdata)"
   ]
  },
  {
   "cell_type": "markdown",
   "metadata": {},
   "source": [
    "### Test conditional independency\n",
    "\n",
    "You need package **bnlearn** for this. "
   ]
  },
  {
   "cell_type": "code",
   "execution_count": null,
   "metadata": {
    "vscode": {
     "languageId": "r"
    }
   },
   "outputs": [
    {
     "data": {
      "text/plain": [
       "\n",
       "\tMutual Information (disc.)\n",
       "\n",
       "data:  H ~ C | L\n",
       "mi = 0.38496, df = 2, p-value = 0.8249\n",
       "alternative hypothesis: true value is greater than 0\n"
      ]
     },
     "metadata": {},
     "output_type": "display_data"
    }
   ],
   "source": [
    "library(bnlearn)\n",
    "ci.test( \"H\", \"C\", \"L\", data = wlf_data, test = \"mi\")"
   ]
  },
  {
   "cell_type": "markdown",
   "metadata": {},
   "source": [
    "Response $L$: Fit an additive logistic model"
   ]
  },
  {
   "cell_type": "code",
   "execution_count": null,
   "metadata": {
    "vscode": {
     "languageId": "r"
    }
   },
   "outputs": [
    {
     "data": {
      "text/html": [
       "<table class=\"dataframe\">\n",
       "<caption>A matrix: 7 x 4 of type dbl</caption>\n",
       "<thead>\n",
       "\t<tr><th></th><th scope=col>Estimate</th><th scope=col>Std. Error</th><th scope=col>z value</th><th scope=col>Pr(&gt;|z|)</th></tr>\n",
       "</thead>\n",
       "<tbody>\n",
       "\t<tr><th scope=row>(Intercept)</th><td> 1.041</td><td>0.607</td><td> 1.715</td><td>0.086</td></tr>\n",
       "\t<tr><th scope=row>C1</th><td>-2.609</td><td>0.361</td><td>-7.234</td><td>0.000</td></tr>\n",
       "\t<tr><th scope=row>H1</th><td>-0.768</td><td>0.348</td><td>-2.210</td><td>0.027</td></tr>\n",
       "\t<tr><th scope=row>RBC</th><td>-0.944</td><td>0.745</td><td>-1.266</td><td>0.206</td></tr>\n",
       "\t<tr><th scope=row>ROntario</th><td>-0.254</td><td>0.590</td><td>-0.430</td><td>0.667</td></tr>\n",
       "\t<tr><th scope=row>RPrairie</th><td> 0.168</td><td>0.695</td><td> 0.241</td><td>0.809</td></tr>\n",
       "\t<tr><th scope=row>RQuebec</th><td>-0.342</td><td>0.627</td><td>-0.545</td><td>0.586</td></tr>\n",
       "</tbody>\n",
       "</table>\n"
      ],
      "text/latex": [
       "A matrix: 7 x 4 of type dbl\n",
       "\\begin{tabular}{r|llll}\n",
       "  & Estimate & Std. Error & z value & Pr(>\\textbar{}z\\textbar{})\\\\\n",
       "\\hline\n",
       "\t(Intercept) &  1.041 & 0.607 &  1.715 & 0.086\\\\\n",
       "\tC1 & -2.609 & 0.361 & -7.234 & 0.000\\\\\n",
       "\tH1 & -0.768 & 0.348 & -2.210 & 0.027\\\\\n",
       "\tRBC & -0.944 & 0.745 & -1.266 & 0.206\\\\\n",
       "\tROntario & -0.254 & 0.590 & -0.430 & 0.667\\\\\n",
       "\tRPrairie &  0.168 & 0.695 &  0.241 & 0.809\\\\\n",
       "\tRQuebec & -0.342 & 0.627 & -0.545 & 0.586\\\\\n",
       "\\end{tabular}\n"
      ],
      "text/markdown": [
       "\n",
       "A matrix: 7 x 4 of type dbl\n",
       "\n",
       "| <!--/--> | Estimate | Std. Error | z value | Pr(&gt;|z|) |\n",
       "|---|---|---|---|---|\n",
       "| (Intercept) |  1.041 | 0.607 |  1.715 | 0.086 |\n",
       "| C1 | -2.609 | 0.361 | -7.234 | 0.000 |\n",
       "| H1 | -0.768 | 0.348 | -2.210 | 0.027 |\n",
       "| RBC | -0.944 | 0.745 | -1.266 | 0.206 |\n",
       "| ROntario | -0.254 | 0.590 | -0.430 | 0.667 |\n",
       "| RPrairie |  0.168 | 0.695 |  0.241 | 0.809 |\n",
       "| RQuebec | -0.342 | 0.627 | -0.545 | 0.586 |\n",
       "\n"
      ],
      "text/plain": [
       "            Estimate Std. Error z value Pr(>|z|)\n",
       "(Intercept)  1.041   0.607       1.715  0.086   \n",
       "C1          -2.609   0.361      -7.234  0.000   \n",
       "H1          -0.768   0.348      -2.210  0.027   \n",
       "RBC         -0.944   0.745      -1.266  0.206   \n",
       "ROntario    -0.254   0.590      -0.430  0.667   \n",
       "RPrairie     0.168   0.695       0.241  0.809   \n",
       "RQuebec     -0.342   0.627      -0.545  0.586   "
      ]
     },
     "metadata": {},
     "output_type": "display_data"
    }
   ],
   "source": [
    "m_add1 <- glm(L ~ C + H + R, family = binomial, data = wlf_data)\n",
    "round(summary(m_add1)$coef, 3)"
   ]
  },
  {
   "cell_type": "markdown",
   "metadata": {},
   "source": [
    "This suggests to remove the arrow $L \\leftarrow R$.  The reduced model is below with a \n",
    "likelihood ratio test. "
   ]
  },
  {
   "cell_type": "code",
   "execution_count": null,
   "metadata": {
    "vscode": {
     "languageId": "r"
    }
   },
   "outputs": [
    {
     "data": {
      "text/plain": [
       "\n",
       "Call:\n",
       "glm(formula = L ~ C + H, family = binomial, data = wlf_data)\n",
       "\n",
       "Coefficients:\n",
       "            Estimate Std. Error z value Pr(>|z|)    \n",
       "(Intercept)   0.6834     0.2797   2.443   0.0146 *  \n",
       "C1           -2.4404     0.3346  -7.294 3.02e-13 ***\n",
       "H1           -0.7896     0.3397  -2.324   0.0201 *  \n",
       "---\n",
       "Signif. codes:  0 '***' 0.001 '**' 0.01 '*' 0.05 '.' 0.1 ' ' 1\n",
       "\n",
       "(Dispersion parameter for binomial family taken to be 1)\n",
       "\n",
       "    Null deviance: 296.34  on 262  degrees of freedom\n",
       "Residual deviance: 228.31  on 260  degrees of freedom\n",
       "AIC: 234.31\n",
       "\n",
       "Number of Fisher Scoring iterations: 5\n"
      ]
     },
     "metadata": {},
     "output_type": "display_data"
    },
    {
     "name": "stdout",
     "output_type": "stream",
     "text": [
      "Analysis of Deviance Table\n",
      "\n",
      "Model 1: L ~ C + H\n",
      "Model 2: L ~ C + H + R\n",
      "  Resid. Df Resid. Dev Df Deviance Pr(>Chi)\n",
      "1       260     228.31                     \n",
      "2       256     225.50  4   2.8117   0.5898\n"
     ]
    }
   ],
   "source": [
    "m_red1 <- glm(L ~ C + H, family = binomial, data = wlf_data)\n",
    "summary(m_red1)\n",
    "print(anova(m_red1, m_add1, test = \"Chisq\"))"
   ]
  },
  {
   "cell_type": "markdown",
   "metadata": {},
   "source": [
    "Response $C$: fit an additive model "
   ]
  },
  {
   "cell_type": "code",
   "execution_count": null,
   "metadata": {
    "vscode": {
     "languageId": "r"
    }
   },
   "outputs": [
    {
     "data": {
      "text/html": [
       "<table class=\"dataframe\">\n",
       "<caption>A matrix: 6 x 4 of type dbl</caption>\n",
       "<thead>\n",
       "\t<tr><th></th><th scope=col>Estimate</th><th scope=col>Std. Error</th><th scope=col>z value</th><th scope=col>Pr(&gt;|z|)</th></tr>\n",
       "</thead>\n",
       "<tbody>\n",
       "\t<tr><th scope=row>(Intercept)</th><td> 1.671</td><td>0.551</td><td> 3.030</td><td>0.002</td></tr>\n",
       "\t<tr><th scope=row>H1</th><td> 0.437</td><td>0.282</td><td> 1.546</td><td>0.122</td></tr>\n",
       "\t<tr><th scope=row>RBC</th><td>-1.827</td><td>0.656</td><td>-2.785</td><td>0.005</td></tr>\n",
       "\t<tr><th scope=row>ROntario</th><td>-1.092</td><td>0.579</td><td>-1.886</td><td>0.059</td></tr>\n",
       "\t<tr><th scope=row>RPrairie</th><td>-0.136</td><td>0.730</td><td>-0.186</td><td>0.852</td></tr>\n",
       "\t<tr><th scope=row>RQuebec</th><td>-1.250</td><td>0.598</td><td>-2.089</td><td>0.037</td></tr>\n",
       "</tbody>\n",
       "</table>\n"
      ],
      "text/latex": [
       "A matrix: 6 x 4 of type dbl\n",
       "\\begin{tabular}{r|llll}\n",
       "  & Estimate & Std. Error & z value & Pr(>\\textbar{}z\\textbar{})\\\\\n",
       "\\hline\n",
       "\t(Intercept) &  1.671 & 0.551 &  3.030 & 0.002\\\\\n",
       "\tH1 &  0.437 & 0.282 &  1.546 & 0.122\\\\\n",
       "\tRBC & -1.827 & 0.656 & -2.785 & 0.005\\\\\n",
       "\tROntario & -1.092 & 0.579 & -1.886 & 0.059\\\\\n",
       "\tRPrairie & -0.136 & 0.730 & -0.186 & 0.852\\\\\n",
       "\tRQuebec & -1.250 & 0.598 & -2.089 & 0.037\\\\\n",
       "\\end{tabular}\n"
      ],
      "text/markdown": [
       "\n",
       "A matrix: 6 x 4 of type dbl\n",
       "\n",
       "| <!--/--> | Estimate | Std. Error | z value | Pr(&gt;|z|) |\n",
       "|---|---|---|---|---|\n",
       "| (Intercept) |  1.671 | 0.551 |  3.030 | 0.002 |\n",
       "| H1 |  0.437 | 0.282 |  1.546 | 0.122 |\n",
       "| RBC | -1.827 | 0.656 | -2.785 | 0.005 |\n",
       "| ROntario | -1.092 | 0.579 | -1.886 | 0.059 |\n",
       "| RPrairie | -0.136 | 0.730 | -0.186 | 0.852 |\n",
       "| RQuebec | -1.250 | 0.598 | -2.089 | 0.037 |\n",
       "\n"
      ],
      "text/plain": [
       "            Estimate Std. Error z value Pr(>|z|)\n",
       "(Intercept)  1.671   0.551       3.030  0.002   \n",
       "H1           0.437   0.282       1.546  0.122   \n",
       "RBC         -1.827   0.656      -2.785  0.005   \n",
       "ROntario    -1.092   0.579      -1.886  0.059   \n",
       "RPrairie    -0.136   0.730      -0.186  0.852   \n",
       "RQuebec     -1.250   0.598      -2.089  0.037   "
      ]
     },
     "metadata": {},
     "output_type": "display_data"
    }
   ],
   "source": [
    "m_add2 <- glm(C ~ H + R, family = binomial, data = wlf_data)\n",
    "round(summary(m_add2)$coef, 3)"
   ]
  },
  {
   "cell_type": "markdown",
   "metadata": {},
   "source": [
    "The predictor $H$ is not significant. The reduced model is "
   ]
  },
  {
   "cell_type": "code",
   "execution_count": null,
   "metadata": {
    "vscode": {
     "languageId": "r"
    }
   },
   "outputs": [
    {
     "data": {
      "text/html": [
       "<table class=\"dataframe\">\n",
       "<caption>A matrix: 5 x 4 of type dbl</caption>\n",
       "<thead>\n",
       "\t<tr><th></th><th scope=col>Estimate</th><th scope=col>Std. Error</th><th scope=col>z value</th><th scope=col>Pr(&gt;|z|)</th></tr>\n",
       "</thead>\n",
       "<tbody>\n",
       "\t<tr><th scope=row>(Intercept)</th><td> 1.872</td><td>0.537</td><td> 3.485</td><td>0.000</td></tr>\n",
       "\t<tr><th scope=row>RBC</th><td>-1.803</td><td>0.653</td><td>-2.760</td><td>0.006</td></tr>\n",
       "\t<tr><th scope=row>ROntario</th><td>-1.051</td><td>0.576</td><td>-1.823</td><td>0.068</td></tr>\n",
       "\t<tr><th scope=row>RPrairie</th><td>-0.223</td><td>0.726</td><td>-0.307</td><td>0.759</td></tr>\n",
       "\t<tr><th scope=row>RQuebec</th><td>-1.270</td><td>0.596</td><td>-2.129</td><td>0.033</td></tr>\n",
       "</tbody>\n",
       "</table>\n"
      ],
      "text/latex": [
       "A matrix: 5 x 4 of type dbl\n",
       "\\begin{tabular}{r|llll}\n",
       "  & Estimate & Std. Error & z value & Pr(>\\textbar{}z\\textbar{})\\\\\n",
       "\\hline\n",
       "\t(Intercept) &  1.872 & 0.537 &  3.485 & 0.000\\\\\n",
       "\tRBC & -1.803 & 0.653 & -2.760 & 0.006\\\\\n",
       "\tROntario & -1.051 & 0.576 & -1.823 & 0.068\\\\\n",
       "\tRPrairie & -0.223 & 0.726 & -0.307 & 0.759\\\\\n",
       "\tRQuebec & -1.270 & 0.596 & -2.129 & 0.033\\\\\n",
       "\\end{tabular}\n"
      ],
      "text/markdown": [
       "\n",
       "A matrix: 5 x 4 of type dbl\n",
       "\n",
       "| <!--/--> | Estimate | Std. Error | z value | Pr(&gt;|z|) |\n",
       "|---|---|---|---|---|\n",
       "| (Intercept) |  1.872 | 0.537 |  3.485 | 0.000 |\n",
       "| RBC | -1.803 | 0.653 | -2.760 | 0.006 |\n",
       "| ROntario | -1.051 | 0.576 | -1.823 | 0.068 |\n",
       "| RPrairie | -0.223 | 0.726 | -0.307 | 0.759 |\n",
       "| RQuebec | -1.270 | 0.596 | -2.129 | 0.033 |\n",
       "\n"
      ],
      "text/plain": [
       "            Estimate Std. Error z value Pr(>|z|)\n",
       "(Intercept)  1.872   0.537       3.485  0.000   \n",
       "RBC         -1.803   0.653      -2.760  0.006   \n",
       "ROntario    -1.051   0.576      -1.823  0.068   \n",
       "RPrairie    -0.223   0.726      -0.307  0.759   \n",
       "RQuebec     -1.270   0.596      -2.129  0.033   "
      ]
     },
     "metadata": {},
     "output_type": "display_data"
    },
    {
     "name": "stdout",
     "output_type": "stream",
     "text": [
      "Analysis of Deviance Table\n",
      "\n",
      "Model 1: C ~ R\n",
      "Model 2: C ~ H + R\n",
      "  Resid. Df Resid. Dev Df Deviance Pr(>Chi)\n",
      "1       258     308.54                     \n",
      "2       257     306.13  1   2.4135   0.1203\n"
     ]
    }
   ],
   "source": [
    "m_red2 <- glm(C~ R, family = binomial, data = wlfdata)\n",
    "round(summary(m_red2)$coef, 3)"
   ]
  },
  {
   "cell_type": "markdown",
   "metadata": {},
   "source": [
    "Response $H$: fit a multinomial logit model"
   ]
  },
  {
   "cell_type": "code",
   "execution_count": null,
   "metadata": {
    "vscode": {
     "languageId": "r"
    }
   },
   "outputs": [
    {
     "data": {
      "text/html": [
       "<table class=\"dataframe\">\n",
       "<caption>A matrix: 5 x 4 of type dbl</caption>\n",
       "<thead>\n",
       "\t<tr><th></th><th scope=col>Estimate</th><th scope=col>Std. Error</th><th scope=col>z value</th><th scope=col>Pr(&gt;|z|)</th></tr>\n",
       "</thead>\n",
       "<tbody>\n",
       "\t<tr><th scope=row>(Intercept)</th><td> 0.000</td><td>0.365</td><td> 0.000</td><td>1.000</td></tr>\n",
       "\t<tr><th scope=row>RBC</th><td> 0.069</td><td>0.521</td><td> 0.132</td><td>0.895</td></tr>\n",
       "\t<tr><th scope=row>ROntario</th><td> 0.298</td><td>0.414</td><td> 0.721</td><td>0.471</td></tr>\n",
       "\t<tr><th scope=row>RPrairie</th><td>-0.894</td><td>0.538</td><td>-1.660</td><td>0.097</td></tr>\n",
       "\t<tr><th scope=row>RQuebec</th><td>-0.279</td><td>0.443</td><td>-0.629</td><td>0.529</td></tr>\n",
       "</tbody>\n",
       "</table>\n"
      ],
      "text/latex": [
       "A matrix: 5 x 4 of type dbl\n",
       "\\begin{tabular}{r|llll}\n",
       "  & Estimate & Std. Error & z value & Pr(>\\textbar{}z\\textbar{})\\\\\n",
       "\\hline\n",
       "\t(Intercept) &  0.000 & 0.365 &  0.000 & 1.000\\\\\n",
       "\tRBC &  0.069 & 0.521 &  0.132 & 0.895\\\\\n",
       "\tROntario &  0.298 & 0.414 &  0.721 & 0.471\\\\\n",
       "\tRPrairie & -0.894 & 0.538 & -1.660 & 0.097\\\\\n",
       "\tRQuebec & -0.279 & 0.443 & -0.629 & 0.529\\\\\n",
       "\\end{tabular}\n"
      ],
      "text/markdown": [
       "\n",
       "A matrix: 5 x 4 of type dbl\n",
       "\n",
       "| <!--/--> | Estimate | Std. Error | z value | Pr(&gt;|z|) |\n",
       "|---|---|---|---|---|\n",
       "| (Intercept) |  0.000 | 0.365 |  0.000 | 1.000 |\n",
       "| RBC |  0.069 | 0.521 |  0.132 | 0.895 |\n",
       "| ROntario |  0.298 | 0.414 |  0.721 | 0.471 |\n",
       "| RPrairie | -0.894 | 0.538 | -1.660 | 0.097 |\n",
       "| RQuebec | -0.279 | 0.443 | -0.629 | 0.529 |\n",
       "\n"
      ],
      "text/plain": [
       "            Estimate Std. Error z value Pr(>|z|)\n",
       "(Intercept)  0.000   0.365       0.000  1.000   \n",
       "RBC          0.069   0.521       0.132  0.895   \n",
       "ROntario     0.298   0.414       0.721  0.471   \n",
       "RPrairie    -0.894   0.538      -1.660  0.097   \n",
       "RQuebec     -0.279   0.443      -0.629  0.529   "
      ]
     },
     "metadata": {},
     "output_type": "display_data"
    },
    {
     "data": {
      "text/html": [
       "355.307813865973"
      ],
      "text/latex": [
       "355.307813865973"
      ],
      "text/markdown": [
       "355.307813865973"
      ],
      "text/plain": [
       "[1] 355.3078"
      ]
     },
     "metadata": {},
     "output_type": "display_data"
    },
    {
     "data": {
      "text/html": [
       "<table class=\"dataframe\">\n",
       "<caption>A anova: 2 x 5</caption>\n",
       "<thead>\n",
       "\t<tr><th></th><th scope=col>Resid. Df</th><th scope=col>Resid. Dev</th><th scope=col>Df</th><th scope=col>Deviance</th><th scope=col>Pr(&gt;Chi)</th></tr>\n",
       "\t<tr><th></th><th scope=col>&lt;dbl&gt;</th><th scope=col>&lt;dbl&gt;</th><th scope=col>&lt;dbl&gt;</th><th scope=col>&lt;dbl&gt;</th><th scope=col>&lt;dbl&gt;</th></tr>\n",
       "</thead>\n",
       "<tbody>\n",
       "\t<tr><th scope=row>1</th><td>262</td><td>364.5004</td><td>NA</td><td>     NA</td><td>        NA</td></tr>\n",
       "\t<tr><th scope=row>2</th><td>258</td><td>355.3078</td><td> 4</td><td>9.19254</td><td>0.05646299</td></tr>\n",
       "</tbody>\n",
       "</table>\n"
      ],
      "text/latex": [
       "A anova: 2 x 5\n",
       "\\begin{tabular}{r|lllll}\n",
       "  & Resid. Df & Resid. Dev & Df & Deviance & Pr(>Chi)\\\\\n",
       "  & <dbl> & <dbl> & <dbl> & <dbl> & <dbl>\\\\\n",
       "\\hline\n",
       "\t1 & 262 & 364.5004 & NA &      NA &         NA\\\\\n",
       "\t2 & 258 & 355.3078 &  4 & 9.19254 & 0.05646299\\\\\n",
       "\\end{tabular}\n"
      ],
      "text/markdown": [
       "\n",
       "A anova: 2 x 5\n",
       "\n",
       "| <!--/--> | Resid. Df &lt;dbl&gt; | Resid. Dev &lt;dbl&gt; | Df &lt;dbl&gt; | Deviance &lt;dbl&gt; | Pr(&gt;Chi) &lt;dbl&gt; |\n",
       "|---|---|---|---|---|---|\n",
       "| 1 | 262 | 364.5004 | NA |      NA |         NA |\n",
       "| 2 | 258 | 355.3078 |  4 | 9.19254 | 0.05646299 |\n",
       "\n"
      ],
      "text/plain": [
       "  Resid. Df Resid. Dev Df Deviance Pr(>Chi)  \n",
       "1 262       364.5004   NA      NA          NA\n",
       "2 258       355.3078    4 9.19254  0.05646299"
      ]
     },
     "metadata": {},
     "output_type": "display_data"
    }
   ],
   "source": [
    "m_3 <- glm(H ~ R, family = binomial, data = wlf_data)\n",
    "round(summary(m_3)$coef, 3)\n",
    "m_red3 <- glm(H ~ 1, family = binomial, data = wlfdata)\n",
    "anova(m_red3, m_3, test = \"Chisq\")"
   ]
  },
  {
   "cell_type": "markdown",
   "metadata": {
    "vscode": {
     "languageId": "r"
    }
   },
   "source": [
    "The LRT statistic is $9.19$ with $4$ d.f. denotes some evidence against the independence of $H$ on $R$.  "
   ]
  },
  {
   "cell_type": "markdown",
   "metadata": {},
   "source": [
    "## Example 2.1 - Lienert data"
   ]
  },
  {
   "cell_type": "code",
   "execution_count": null,
   "metadata": {
    "vscode": {
     "languageId": "r"
    }
   },
   "outputs": [
    {
     "data": {
      "text/plain": [
       "   X3  0     1   \n",
       "   X2  0  1  0  1\n",
       "X1               \n",
       "0     21  5  4 16\n",
       "1      2 13 11  1"
      ]
     },
     "metadata": {},
     "output_type": "display_data"
    }
   ],
   "source": [
    "source(\"./data/lienert.R\")  # this creates a vector `p` of joint probabilities\n",
    "lienert <- cbind(expand.grid(X1 = c(0,1), X2 = c(0,1), X3 = c(0,1) ), Freq = p)\n",
    "tab <- xtabs(Freq ~ ., lienert)\n",
    "ftable(X3+X2 ~ X1, tab)"
   ]
  },
  {
   "cell_type": "markdown",
   "metadata": {},
   "source": [
    "## Example 2.6 - The Coppen data"
   ]
  },
  {
   "cell_type": "code",
   "execution_count": null,
   "metadata": {
    "vscode": {
     "languageId": "r"
    }
   },
   "outputs": [
    {
     "ename": "ERROR",
     "evalue": "Error in tab2data(coppen): could not find function \"tab2data\"\n",
     "output_type": "error",
     "traceback": [
      "Error in tab2data(coppen): could not find function \"tab2data\"\nTraceback:\n"
     ]
    }
   ],
   "source": [
    "Freq <- c(15, 30, 9, 32, 23, 22, 14, 16,25,22,46,27,14,8,47,12)\n",
    "X <- expand.grid(X2 = factor(1:2), X4 = factor(1:2), X1 = factor(1:2), X3 = c(\"y\", \"n\"))\n",
    "coppen <- cbind(X, Freq)\n",
    "coppen"
   ]
  },
  {
   "cell_type": "code",
   "execution_count": null,
   "metadata": {
    "vscode": {
     "languageId": "r"
    }
   },
   "outputs": [],
   "source": [
    "ci_test(\"X1\", c(\"X3\", \"X4\"), test = \"mi\", data = coppen_data)\n",
    "ci_test(\"X4\", c(\"X1\", \"X2\"), test = \"mi\", data = coppen_data)"
   ]
  },
  {
   "cell_type": "code",
   "execution_count": null,
   "metadata": {
    "vscode": {
     "languageId": "r"
    }
   },
   "outputs": [],
   "source": []
  }
 ],
 "metadata": {
  "kernelspec": {
   "display_name": "R",
   "language": "R",
   "name": "ir"
  },
  "language_info": {
   "codemirror_mode": "r",
   "file_extension": ".r",
   "mimetype": "text/x-r-source",
   "name": "R",
   "pygments_lexer": "r",
   "version": "4.4.0"
  }
 },
 "nbformat": 4,
 "nbformat_minor": 2
}
