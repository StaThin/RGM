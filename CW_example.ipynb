{
    "cells": [
        {
            "cell_type": "markdown",
            "metadata": {},
            "source": [
                "## Multivariate regression"
            ]
        },
        {
            "cell_type": "markdown",
            "metadata": {},
            "source": [
                "### Data from CSDA"
            ]
        },
        {
            "cell_type": "code",
            "execution_count": 1,
            "metadata": {
                "vscode": {
                    "languageId": "r"
                }
            },
            "outputs": [
                {
                    "data": {
                        "text/html": [
                            "<table class=\"dataframe\">\n",
                            "<caption>A data.frame: 44 × 5</caption>\n",
                            "<thead>\n",
                            "\t<tr><th scope=col>Sys</th><th scope=col>Dia</th><th scope=col>Age</th><th scope=col>Hei</th><th scope=col>Wei</th></tr>\n",
                            "\t<tr><th scope=col>&lt;int&gt;</th><th scope=col>&lt;int&gt;</th><th scope=col>&lt;int&gt;</th><th scope=col>&lt;int&gt;</th><th scope=col>&lt;int&gt;</th></tr>\n",
                            "</thead>\n",
                            "<tbody>\n",
                            "\t<tr><td>115</td><td> 80</td><td>35</td><td>163</td><td>58</td></tr>\n",
                            "\t<tr><td>120</td><td> 80</td><td>31</td><td>162</td><td>58</td></tr>\n",
                            "\t<tr><td>120</td><td> 80</td><td>22</td><td>170</td><td>59</td></tr>\n",
                            "\t<tr><td>110</td><td> 70</td><td>23</td><td>164</td><td>50</td></tr>\n",
                            "\t<tr><td>110</td><td> 70</td><td>18</td><td>179</td><td>58</td></tr>\n",
                            "\t<tr><td>105</td><td> 60</td><td>28</td><td>167</td><td>62</td></tr>\n",
                            "\t<tr><td>150</td><td> 95</td><td>51</td><td>163</td><td>67</td></tr>\n",
                            "\t<tr><td>110</td><td> 75</td><td>25</td><td>164</td><td>54</td></tr>\n",
                            "\t<tr><td>110</td><td> 60</td><td>22</td><td>170</td><td>54</td></tr>\n",
                            "\t<tr><td>115</td><td> 70</td><td>19</td><td>183</td><td>60</td></tr>\n",
                            "\t<tr><td>100</td><td> 80</td><td>32</td><td>165</td><td>63</td></tr>\n",
                            "\t<tr><td>100</td><td> 60</td><td>26</td><td>160</td><td>57</td></tr>\n",
                            "\t<tr><td>110</td><td> 80</td><td>26</td><td>170</td><td>58</td></tr>\n",
                            "\t<tr><td>120</td><td> 80</td><td>25</td><td>170</td><td>67</td></tr>\n",
                            "\t<tr><td>110</td><td> 60</td><td>22</td><td>167</td><td>55</td></tr>\n",
                            "\t<tr><td>110</td><td> 60</td><td>21</td><td>174</td><td>69</td></tr>\n",
                            "\t<tr><td>110</td><td> 60</td><td>22</td><td>167</td><td>53</td></tr>\n",
                            "\t<tr><td>120</td><td> 70</td><td>36</td><td>168</td><td>75</td></tr>\n",
                            "\t<tr><td>140</td><td> 80</td><td>57</td><td>161</td><td>70</td></tr>\n",
                            "\t<tr><td>110</td><td> 80</td><td>43</td><td>165</td><td>75</td></tr>\n",
                            "\t<tr><td>110</td><td> 70</td><td>17</td><td>157</td><td>41</td></tr>\n",
                            "\t<tr><td> 90</td><td> 60</td><td>22</td><td>163</td><td>63</td></tr>\n",
                            "\t<tr><td>115</td><td> 80</td><td>30</td><td>160</td><td>55</td></tr>\n",
                            "\t<tr><td>140</td><td> 80</td><td>25</td><td>165</td><td>57</td></tr>\n",
                            "\t<tr><td>110</td><td> 70</td><td>20</td><td>170</td><td>65</td></tr>\n",
                            "\t<tr><td>115</td><td> 70</td><td>26</td><td>168</td><td>55</td></tr>\n",
                            "\t<tr><td>100</td><td> 70</td><td>24</td><td>170</td><td>69</td></tr>\n",
                            "\t<tr><td>125</td><td> 80</td><td>29</td><td>165</td><td>72</td></tr>\n",
                            "\t<tr><td>140</td><td> 90</td><td>44</td><td>163</td><td>75</td></tr>\n",
                            "\t<tr><td>120</td><td> 75</td><td>22</td><td>168</td><td>58</td></tr>\n",
                            "\t<tr><td>110</td><td> 70</td><td>28</td><td>170</td><td>58</td></tr>\n",
                            "\t<tr><td>120</td><td> 80</td><td>39</td><td>158</td><td>52</td></tr>\n",
                            "\t<tr><td>130</td><td> 70</td><td>25</td><td>174</td><td>65</td></tr>\n",
                            "\t<tr><td>105</td><td> 65</td><td>25</td><td>174</td><td>65</td></tr>\n",
                            "\t<tr><td>110</td><td> 70</td><td>23</td><td>168</td><td>55</td></tr>\n",
                            "\t<tr><td>110</td><td> 80</td><td>34</td><td>170</td><td>93</td></tr>\n",
                            "\t<tr><td>110</td><td> 70</td><td>36</td><td>164</td><td>60</td></tr>\n",
                            "\t<tr><td>130</td><td> 80</td><td>23</td><td>165</td><td>59</td></tr>\n",
                            "\t<tr><td>100</td><td> 60</td><td>27</td><td>169</td><td>70</td></tr>\n",
                            "\t<tr><td>120</td><td> 80</td><td>51</td><td>172</td><td>85</td></tr>\n",
                            "\t<tr><td>115</td><td> 80</td><td>23</td><td>176</td><td>65</td></tr>\n",
                            "\t<tr><td>100</td><td> 60</td><td>49</td><td>173</td><td>75</td></tr>\n",
                            "\t<tr><td>150</td><td>100</td><td>55</td><td>180</td><td>90</td></tr>\n",
                            "\t<tr><td>100</td><td> 70</td><td>18</td><td>173</td><td>82</td></tr>\n",
                            "</tbody>\n",
                            "</table>\n"
                        ],
                        "text/latex": [
                            "A data.frame: 44 × 5\n",
                            "\\begin{tabular}{lllll}\n",
                            " Sys & Dia & Age & Hei & Wei\\\\\n",
                            " <int> & <int> & <int> & <int> & <int>\\\\\n",
                            "\\hline\n",
                            "\t 115 &  80 & 35 & 163 & 58\\\\\n",
                            "\t 120 &  80 & 31 & 162 & 58\\\\\n",
                            "\t 120 &  80 & 22 & 170 & 59\\\\\n",
                            "\t 110 &  70 & 23 & 164 & 50\\\\\n",
                            "\t 110 &  70 & 18 & 179 & 58\\\\\n",
                            "\t 105 &  60 & 28 & 167 & 62\\\\\n",
                            "\t 150 &  95 & 51 & 163 & 67\\\\\n",
                            "\t 110 &  75 & 25 & 164 & 54\\\\\n",
                            "\t 110 &  60 & 22 & 170 & 54\\\\\n",
                            "\t 115 &  70 & 19 & 183 & 60\\\\\n",
                            "\t 100 &  80 & 32 & 165 & 63\\\\\n",
                            "\t 100 &  60 & 26 & 160 & 57\\\\\n",
                            "\t 110 &  80 & 26 & 170 & 58\\\\\n",
                            "\t 120 &  80 & 25 & 170 & 67\\\\\n",
                            "\t 110 &  60 & 22 & 167 & 55\\\\\n",
                            "\t 110 &  60 & 21 & 174 & 69\\\\\n",
                            "\t 110 &  60 & 22 & 167 & 53\\\\\n",
                            "\t 120 &  70 & 36 & 168 & 75\\\\\n",
                            "\t 140 &  80 & 57 & 161 & 70\\\\\n",
                            "\t 110 &  80 & 43 & 165 & 75\\\\\n",
                            "\t 110 &  70 & 17 & 157 & 41\\\\\n",
                            "\t  90 &  60 & 22 & 163 & 63\\\\\n",
                            "\t 115 &  80 & 30 & 160 & 55\\\\\n",
                            "\t 140 &  80 & 25 & 165 & 57\\\\\n",
                            "\t 110 &  70 & 20 & 170 & 65\\\\\n",
                            "\t 115 &  70 & 26 & 168 & 55\\\\\n",
                            "\t 100 &  70 & 24 & 170 & 69\\\\\n",
                            "\t 125 &  80 & 29 & 165 & 72\\\\\n",
                            "\t 140 &  90 & 44 & 163 & 75\\\\\n",
                            "\t 120 &  75 & 22 & 168 & 58\\\\\n",
                            "\t 110 &  70 & 28 & 170 & 58\\\\\n",
                            "\t 120 &  80 & 39 & 158 & 52\\\\\n",
                            "\t 130 &  70 & 25 & 174 & 65\\\\\n",
                            "\t 105 &  65 & 25 & 174 & 65\\\\\n",
                            "\t 110 &  70 & 23 & 168 & 55\\\\\n",
                            "\t 110 &  80 & 34 & 170 & 93\\\\\n",
                            "\t 110 &  70 & 36 & 164 & 60\\\\\n",
                            "\t 130 &  80 & 23 & 165 & 59\\\\\n",
                            "\t 100 &  60 & 27 & 169 & 70\\\\\n",
                            "\t 120 &  80 & 51 & 172 & 85\\\\\n",
                            "\t 115 &  80 & 23 & 176 & 65\\\\\n",
                            "\t 100 &  60 & 49 & 173 & 75\\\\\n",
                            "\t 150 & 100 & 55 & 180 & 90\\\\\n",
                            "\t 100 &  70 & 18 & 173 & 82\\\\\n",
                            "\\end{tabular}\n"
                        ],
                        "text/markdown": [
                            "\n",
                            "A data.frame: 44 × 5\n",
                            "\n",
                            "| Sys &lt;int&gt; | Dia &lt;int&gt; | Age &lt;int&gt; | Hei &lt;int&gt; | Wei &lt;int&gt; |\n",
                            "|---|---|---|---|---|\n",
                            "| 115 |  80 | 35 | 163 | 58 |\n",
                            "| 120 |  80 | 31 | 162 | 58 |\n",
                            "| 120 |  80 | 22 | 170 | 59 |\n",
                            "| 110 |  70 | 23 | 164 | 50 |\n",
                            "| 110 |  70 | 18 | 179 | 58 |\n",
                            "| 105 |  60 | 28 | 167 | 62 |\n",
                            "| 150 |  95 | 51 | 163 | 67 |\n",
                            "| 110 |  75 | 25 | 164 | 54 |\n",
                            "| 110 |  60 | 22 | 170 | 54 |\n",
                            "| 115 |  70 | 19 | 183 | 60 |\n",
                            "| 100 |  80 | 32 | 165 | 63 |\n",
                            "| 100 |  60 | 26 | 160 | 57 |\n",
                            "| 110 |  80 | 26 | 170 | 58 |\n",
                            "| 120 |  80 | 25 | 170 | 67 |\n",
                            "| 110 |  60 | 22 | 167 | 55 |\n",
                            "| 110 |  60 | 21 | 174 | 69 |\n",
                            "| 110 |  60 | 22 | 167 | 53 |\n",
                            "| 120 |  70 | 36 | 168 | 75 |\n",
                            "| 140 |  80 | 57 | 161 | 70 |\n",
                            "| 110 |  80 | 43 | 165 | 75 |\n",
                            "| 110 |  70 | 17 | 157 | 41 |\n",
                            "|  90 |  60 | 22 | 163 | 63 |\n",
                            "| 115 |  80 | 30 | 160 | 55 |\n",
                            "| 140 |  80 | 25 | 165 | 57 |\n",
                            "| 110 |  70 | 20 | 170 | 65 |\n",
                            "| 115 |  70 | 26 | 168 | 55 |\n",
                            "| 100 |  70 | 24 | 170 | 69 |\n",
                            "| 125 |  80 | 29 | 165 | 72 |\n",
                            "| 140 |  90 | 44 | 163 | 75 |\n",
                            "| 120 |  75 | 22 | 168 | 58 |\n",
                            "| 110 |  70 | 28 | 170 | 58 |\n",
                            "| 120 |  80 | 39 | 158 | 52 |\n",
                            "| 130 |  70 | 25 | 174 | 65 |\n",
                            "| 105 |  65 | 25 | 174 | 65 |\n",
                            "| 110 |  70 | 23 | 168 | 55 |\n",
                            "| 110 |  80 | 34 | 170 | 93 |\n",
                            "| 110 |  70 | 36 | 164 | 60 |\n",
                            "| 130 |  80 | 23 | 165 | 59 |\n",
                            "| 100 |  60 | 27 | 169 | 70 |\n",
                            "| 120 |  80 | 51 | 172 | 85 |\n",
                            "| 115 |  80 | 23 | 176 | 65 |\n",
                            "| 100 |  60 | 49 | 173 | 75 |\n",
                            "| 150 | 100 | 55 | 180 | 90 |\n",
                            "| 100 |  70 | 18 | 173 | 82 |\n",
                            "\n"
                        ],
                        "text/plain": [
                            "   Sys Dia Age Hei Wei\n",
                            "1  115  80 35  163 58 \n",
                            "2  120  80 31  162 58 \n",
                            "3  120  80 22  170 59 \n",
                            "4  110  70 23  164 50 \n",
                            "5  110  70 18  179 58 \n",
                            "6  105  60 28  167 62 \n",
                            "7  150  95 51  163 67 \n",
                            "8  110  75 25  164 54 \n",
                            "9  110  60 22  170 54 \n",
                            "10 115  70 19  183 60 \n",
                            "11 100  80 32  165 63 \n",
                            "12 100  60 26  160 57 \n",
                            "13 110  80 26  170 58 \n",
                            "14 120  80 25  170 67 \n",
                            "15 110  60 22  167 55 \n",
                            "16 110  60 21  174 69 \n",
                            "17 110  60 22  167 53 \n",
                            "18 120  70 36  168 75 \n",
                            "19 140  80 57  161 70 \n",
                            "20 110  80 43  165 75 \n",
                            "21 110  70 17  157 41 \n",
                            "22  90  60 22  163 63 \n",
                            "23 115  80 30  160 55 \n",
                            "24 140  80 25  165 57 \n",
                            "25 110  70 20  170 65 \n",
                            "26 115  70 26  168 55 \n",
                            "27 100  70 24  170 69 \n",
                            "28 125  80 29  165 72 \n",
                            "29 140  90 44  163 75 \n",
                            "30 120  75 22  168 58 \n",
                            "31 110  70 28  170 58 \n",
                            "32 120  80 39  158 52 \n",
                            "33 130  70 25  174 65 \n",
                            "34 105  65 25  174 65 \n",
                            "35 110  70 23  168 55 \n",
                            "36 110  80 34  170 93 \n",
                            "37 110  70 36  164 60 \n",
                            "38 130  80 23  165 59 \n",
                            "39 100  60 27  169 70 \n",
                            "40 120  80 51  172 85 \n",
                            "41 115  80 23  176 65 \n",
                            "42 100  60 49  173 75 \n",
                            "43 150 100 55  180 90 \n",
                            "44 100  70 18  173 82 "
                        ]
                    },
                    "metadata": {},
                    "output_type": "display_data"
                }
            ],
            "source": [
                "derived = read.table(\"/Users/gmm/stuff/data/derived.txt\", header = TRUE)\n",
                "derived"
            ]
        },
        {
            "cell_type": "code",
            "execution_count": 2,
            "metadata": {
                "vscode": {
                    "languageId": "r"
                }
            },
            "outputs": [
                {
                    "data": {
                        "text/html": [
                            "<style>\n",
                            ".dl-inline {width: auto; margin:0; padding: 0}\n",
                            ".dl-inline>dt, .dl-inline>dd {float: none; width: auto; display: inline-block}\n",
                            ".dl-inline>dt::after {content: \":\\0020\"; padding-right: .5ex}\n",
                            ".dl-inline>dt:not(:first-of-type) {padding-left: .5ex}\n",
                            "</style><dl class=dl-inline><dt>X1</dt><dd>0.45</dd><dt>X2</dt><dd>4.29</dd><dt>X3</dt><dd>37.94</dd><dt>X4</dt><dd>29.52</dd></dl>\n"
                        ],
                        "text/latex": [
                            "\\begin{description*}\n",
                            "\\item[X1] 0.45\n",
                            "\\item[X2] 4.29\n",
                            "\\item[X3] 37.94\n",
                            "\\item[X4] 29.52\n",
                            "\\end{description*}\n"
                        ],
                        "text/markdown": [
                            "X1\n",
                            ":   0.45X2\n",
                            ":   4.29X3\n",
                            ":   37.94X4\n",
                            ":   29.52\n",
                            "\n"
                        ],
                        "text/plain": [
                            "   X1    X2    X3    X4 \n",
                            " 0.45  4.29 37.94 29.52 "
                        ]
                    },
                    "metadata": {},
                    "output_type": "display_data"
                },
                {
                    "data": {
                        "text/html": [
                            "<style>\n",
                            ".dl-inline {width: auto; margin:0; padding: 0}\n",
                            ".dl-inline>dt, .dl-inline>dd {float: none; width: auto; display: inline-block}\n",
                            ".dl-inline>dt::after {content: \":\\0020\"; padding-right: .5ex}\n",
                            ".dl-inline>dt:not(:first-of-type) {padding-left: .5ex}\n",
                            "</style><dl class=dl-inline><dt>X1</dt><dd>0.09</dd><dt>X2</dt><dd>0.13</dd><dt>X3</dt><dd>5.91</dd><dt>X4</dt><dd>10.47</dd></dl>\n"
                        ],
                        "text/latex": [
                            "\\begin{description*}\n",
                            "\\item[X1] 0.09\n",
                            "\\item[X2] 0.13\n",
                            "\\item[X3] 5.91\n",
                            "\\item[X4] 10.47\n",
                            "\\end{description*}\n"
                        ],
                        "text/markdown": [
                            "X1\n",
                            ":   0.09X2\n",
                            ":   0.13X3\n",
                            ":   5.91X4\n",
                            ":   10.47\n",
                            "\n"
                        ],
                        "text/plain": [
                            "   X1    X2    X3    X4 \n",
                            " 0.09  0.13  5.91 10.47 "
                        ]
                    },
                    "metadata": {},
                    "output_type": "display_data"
                },
                {
                    "data": {
                        "text/html": [
                            "<table class=\"dataframe\">\n",
                            "<caption>A matrix: 4 × 4 of type dbl</caption>\n",
                            "<thead>\n",
                            "\t<tr><th></th><th scope=col>X1</th><th scope=col>X2</th><th scope=col>X3</th><th scope=col>X4</th></tr>\n",
                            "</thead>\n",
                            "<tbody>\n",
                            "\t<tr><th scope=row>X1</th><td> 1.000</td><td>-0.566</td><td>-0.241</td><td>0.300</td></tr>\n",
                            "\t<tr><th scope=row>X2</th><td>-0.544</td><td> 1.000</td><td>-0.107</td><td>0.491</td></tr>\n",
                            "\t<tr><th scope=row>X3</th><td>-0.253</td><td> 0.336</td><td> 1.000</td><td>0.572</td></tr>\n",
                            "\t<tr><th scope=row>X4</th><td>-0.131</td><td> 0.510</td><td> 0.608</td><td>1.000</td></tr>\n",
                            "</tbody>\n",
                            "</table>\n"
                        ],
                        "text/latex": [
                            "A matrix: 4 × 4 of type dbl\n",
                            "\\begin{tabular}{r|llll}\n",
                            "  & X1 & X2 & X3 & X4\\\\\n",
                            "\\hline\n",
                            "\tX1 &  1.000 & -0.566 & -0.241 & 0.300\\\\\n",
                            "\tX2 & -0.544 &  1.000 & -0.107 & 0.491\\\\\n",
                            "\tX3 & -0.253 &  0.336 &  1.000 & 0.572\\\\\n",
                            "\tX4 & -0.131 &  0.510 &  0.608 & 1.000\\\\\n",
                            "\\end{tabular}\n"
                        ],
                        "text/markdown": [
                            "\n",
                            "A matrix: 4 × 4 of type dbl\n",
                            "\n",
                            "| <!--/--> | X1 | X2 | X3 | X4 |\n",
                            "|---|---|---|---|---|\n",
                            "| X1 |  1.000 | -0.566 | -0.241 | 0.300 |\n",
                            "| X2 | -0.544 |  1.000 | -0.107 | 0.491 |\n",
                            "| X3 | -0.253 |  0.336 |  1.000 | 0.572 |\n",
                            "| X4 | -0.131 |  0.510 |  0.608 | 1.000 |\n",
                            "\n"
                        ],
                        "text/plain": [
                            "   X1     X2     X3     X4   \n",
                            "X1  1.000 -0.566 -0.241 0.300\n",
                            "X2 -0.544  1.000 -0.107 0.491\n",
                            "X3 -0.253  0.336  1.000 0.572\n",
                            "X4 -0.131  0.510  0.608 1.000"
                        ]
                    },
                    "metadata": {},
                    "output_type": "display_data"
                }
            ],
            "source": [
                "library(ggm)\n",
                "data_ex2 = with(derived, data.frame(X1 =  log(Sys/Dia), X2 = log(Dia), X3 =  100 * Wei/Hei, X4 = Age))\n",
                "round(apply(data_ex2, 2, mean),2)\n",
                "S = cov(data_ex2)\n",
                "sx = sapply(data_ex2, function(x) sd(x) )\n",
                "round(sx, 2)\n",
                "round(correlations(S) , 3)"
            ]
        },
        {
            "cell_type": "code",
            "execution_count": 3,
            "metadata": {
                "vscode": {
                    "languageId": "r"
                }
            },
            "outputs": [
                {
                    "data": {
                        "image/png": "[encoded data removed]",
                        "text/plain": [
                            "plot without title"
                        ]
                    },
                    "metadata": {
                        "image/png": {
                            "height": 420,
                            "width": 420
                        }
                    },
                    "output_type": "display_data"
                }
            ],
            "source": [
                "pairs(data_ex2)"
            ]
        },
        {
            "cell_type": "code",
            "execution_count": null,
            "metadata": {
                "vscode": {
                    "languageId": "r"
                }
            },
            "outputs": [
                {
                    "data": {
                        "text/plain": [
                            "Response X1 :\n",
                            "\n",
                            "Call:\n",
                            "lm(formula = X1 ~ X3 + X4, data = data_ex2)\n",
                            "\n",
                            "Residuals:\n",
                            "      Min        1Q    Median        3Q       Max \n",
                            "-0.229631 -0.057446 -0.005435  0.055197  0.164991 \n",
                            "\n",
                            "Coefficients:\n",
                            "              Estimate Std. Error t value Pr(>|t|)    \n",
                            "(Intercept)  0.6032603  0.0904454   6.670 4.83e-08 ***\n",
                            "X3          -0.0042043  0.0029044  -1.448    0.155    \n",
                            "X4           0.0003139  0.0016381   0.192    0.849    \n",
                            "---\n",
                            "Signif. codes:  0 ‘***’ 0.001 ‘**’ 0.01 ‘*’ 0.05 ‘.’ 0.1 ‘ ’ 1\n",
                            "\n",
                            "Residual standard error: 0.0893 on 41 degrees of freedom\n",
                            "Multiple R-squared:  0.06496,\tAdjusted R-squared:  0.01935 \n",
                            "F-statistic: 1.424 on 2 and 41 DF,  p-value: 0.2523\n",
                            "\n",
                            "\n",
                            "Response X2 :\n",
                            "\n",
                            "Call:\n",
                            "lm(formula = X2 ~ X3 + X4, data = data_ex2)\n",
                            "\n",
                            "Residuals:\n",
                            "     Min       1Q   Median       3Q      Max \n",
                            "-0.31586 -0.07895  0.02000  0.08855  0.15281 \n",
                            "\n",
                            "Coefficients:\n",
                            "             Estimate Std. Error t value Pr(>|t|)    \n",
                            "(Intercept) 4.0756619  0.1161646  35.085  < 2e-16 ***\n",
                            "X3          0.0008888  0.0037303   0.238  0.81286    \n",
                            "X4          0.0060410  0.0021039   2.871  0.00644 ** \n",
                            "---\n",
                            "Signif. codes:  0 ‘***’ 0.001 ‘**’ 0.01 ‘*’ 0.05 ‘.’ 0.1 ‘ ’ 1\n",
                            "\n",
                            "Residual standard error: 0.1147 on 41 degrees of freedom\n",
                            "Multiple R-squared:  0.2612,\tAdjusted R-squared:  0.2252 \n",
                            "F-statistic: 7.248 on 2 and 41 DF,  p-value: 0.002017\n",
                            "\n"
                        ]
                    },
                    "metadata": {},
                    "output_type": "display_data"
                }
            ],
            "source": [
                "m_sat <- lm(cbind(X1, X2) ~ X3 + X4, data = data_ex2)\n",
                "summary(m_sat)"
            ]
        },
        {
            "cell_type": "markdown",
            "metadata": {},
            "source": [
                "### Standardized regression coefficients"
            ]
        },
        {
            "cell_type": "code",
            "execution_count": null,
            "metadata": {
                "vscode": {
                    "languageId": "r"
                }
            },
            "outputs": [],
            "source": [
                "mreg_stand <- function(a, b, data){\n",
                "    S <- cov(data)\n",
                "    D <- diag(diag(S)^(-1/2))\n",
                "    S_ <- D %*% S %*% D\n",
                "    B <- S_[a,b] %*% solve(S_[b,b]) \n",
                "    B\n",
                "}"
            ]
        },
        {
            "cell_type": "code",
            "execution_count": 1,
            "metadata": {
                "vscode": {
                    "languageId": "r"
                }
            },
            "outputs": [
                {
                    "ename": "ERROR",
                    "evalue": "Error in mreg_stand(a = c(1, 2), b = c(3, 4), data = derived): could not find function \"mreg_stand\"\n",
                    "output_type": "error",
                    "traceback": [
                        "Error in mreg_stand(a = c(1, 2), b = c(3, 4), data = derived): could not find function \"mreg_stand\"\nTraceback:\n"
                    ]
                }
            ],
            "source": [
                "mreg_stand(a= c(1,2), b= c(3,4), data = derived)"
            ]
        },
        {
            "cell_type": "code",
            "execution_count": 5,
            "metadata": {
                "vscode": {
                    "languageId": "r"
                }
            },
            "outputs": [
                {
                    "data": {
                        "text/html": [
                            "<table class=\"dataframe\">\n",
                            "<caption>A matrix: 2 × 2 of type dbl</caption>\n",
                            "<thead>\n",
                            "\t<tr><th></th><th scope=col>X3</th><th scope=col>X4</th></tr>\n",
                            "</thead>\n",
                            "<tbody>\n",
                            "\t<tr><th scope=row>X1</th><td>-0.00420</td><td>0.00031</td></tr>\n",
                            "\t<tr><th scope=row>X2</th><td> 0.00089</td><td>0.00604</td></tr>\n",
                            "</tbody>\n",
                            "</table>\n"
                        ],
                        "text/latex": [
                            "A matrix: 2 × 2 of type dbl\n",
                            "\\begin{tabular}{r|ll}\n",
                            "  & X3 & X4\\\\\n",
                            "\\hline\n",
                            "\tX1 & -0.00420 & 0.00031\\\\\n",
                            "\tX2 &  0.00089 & 0.00604\\\\\n",
                            "\\end{tabular}\n"
                        ],
                        "text/markdown": [
                            "\n",
                            "A matrix: 2 × 2 of type dbl\n",
                            "\n",
                            "| <!--/--> | X3 | X4 |\n",
                            "|---|---|---|\n",
                            "| X1 | -0.00420 | 0.00031 |\n",
                            "| X2 |  0.00089 | 0.00604 |\n",
                            "\n"
                        ],
                        "text/plain": [
                            "   X3       X4     \n",
                            "X1 -0.00420 0.00031\n",
                            "X2  0.00089 0.00604"
                        ]
                    },
                    "metadata": {},
                    "output_type": "display_data"
                },
                {
                    "data": {
                        "text/html": [
                            "<table class=\"dataframe\">\n",
                            "<caption>A matrix: 2 × 2 of type dbl</caption>\n",
                            "<tbody>\n",
                            "\t<tr><td>-0.27540636</td><td>0.0364534</td></tr>\n",
                            "\t<tr><td> 0.04029545</td><td>0.4855795</td></tr>\n",
                            "</tbody>\n",
                            "</table>\n"
                        ],
                        "text/latex": [
                            "A matrix: 2 × 2 of type dbl\n",
                            "\\begin{tabular}{ll}\n",
                            "\t -0.27540636 & 0.0364534\\\\\n",
                            "\t  0.04029545 & 0.4855795\\\\\n",
                            "\\end{tabular}\n"
                        ],
                        "text/markdown": [
                            "\n",
                            "A matrix: 2 × 2 of type dbl\n",
                            "\n",
                            "| -0.27540636 | 0.0364534 |\n",
                            "|  0.04029545 | 0.4855795 |\n",
                            "\n"
                        ],
                        "text/plain": [
                            "     [,1]        [,2]     \n",
                            "[1,] -0.27540636 0.0364534\n",
                            "[2,]  0.04029545 0.4855795"
                        ]
                    },
                    "metadata": {},
                    "output_type": "display_data"
                }
            ],
            "source": [
                "t(round(coef(mr),5)[-1,]) # * (sx[3:4] * sx[1:2]) \n",
                "b1 = lm(X1 ~ X3 + X4,data = data_ex2)$coef[-1]\n",
                "b2 = lm(X2 ~ X3 + X4,data = data_ex2)$coef[-1]\n",
                "matrix( c(b1[1] *sx[3]/sx[1],  b1[2] * sx[4]/sx[1],\n",
                "          b2[1] *sx[3]/sx[2], b2[2] * sx[4]/sx[2]), byrow = TRUE, 2, 2)"
            ]
        },
        {
            "cell_type": "code",
            "execution_count": 6,
            "metadata": {
                "vscode": {
                    "languageId": "r"
                }
            },
            "outputs": [
                {
                    "data": {
                        "text/html": [
                            "<table class=\"dataframe\">\n",
                            "<caption>A matrix: 2 × 2 of type dbl</caption>\n",
                            "<tbody>\n",
                            "\t<tr><td>-0.275</td><td>0.036</td></tr>\n",
                            "\t<tr><td> 0.040</td><td>0.486</td></tr>\n",
                            "</tbody>\n",
                            "</table>\n"
                        ],
                        "text/latex": [
                            "A matrix: 2 × 2 of type dbl\n",
                            "\\begin{tabular}{ll}\n",
                            "\t -0.275 & 0.036\\\\\n",
                            "\t  0.040 & 0.486\\\\\n",
                            "\\end{tabular}\n"
                        ],
                        "text/markdown": [
                            "\n",
                            "A matrix: 2 × 2 of type dbl\n",
                            "\n",
                            "| -0.275 | 0.036 |\n",
                            "|  0.040 | 0.486 |\n",
                            "\n"
                        ],
                        "text/plain": [
                            "     [,1]   [,2] \n",
                            "[1,] -0.275 0.036\n",
                            "[2,]  0.040 0.486"
                        ]
                    },
                    "metadata": {},
                    "output_type": "display_data"
                }
            ],
            "source": [
                "S = cov(data_ex2)\n",
                "D = diag(diag(S)^(-1/2))\n",
                "a = c(1,2); b = c(3,4)\n",
                "S_ = D %*% S %*% D\n",
                "\n",
                "B = S_[a,b] %*% solve(S_[b,b]) \n",
                "round(B, 3)"
            ]
        },
        {
            "cell_type": "markdown",
            "metadata": {},
            "source": [
                "Note that there is a  typo in David-Nanny's paper in Statistical Science"
            ]
        },
        {
            "cell_type": "markdown",
            "metadata": {},
            "source": [
                "### Specific function"
            ]
        },
        {
            "cell_type": "code",
            "execution_count": 7,
            "metadata": {
                "vscode": {
                    "languageId": "r"
                }
            },
            "outputs": [],
            "source": [
                "mreg_stand = function(a, b, data){\n",
                "    S = cov(data)\n",
                "    D = diag(diag(S)^(-1/2))\n",
                "    S_ = D %*% S %*% D\n",
                "    B = S_[a,b] %*% solve(S_[b,b]) \n",
                "    B\n",
                "}"
            ]
        },
        {
            "cell_type": "code",
            "execution_count": 8,
            "metadata": {
                "vscode": {
                    "languageId": "r"
                }
            },
            "outputs": [
                {
                    "data": {
                        "text/html": [
                            "<table class=\"dataframe\">\n",
                            "<caption>A matrix: 2 × 2 of type dbl</caption>\n",
                            "<tbody>\n",
                            "\t<tr><td>-0.27540636</td><td>0.0364534</td></tr>\n",
                            "\t<tr><td> 0.04029545</td><td>0.4855795</td></tr>\n",
                            "</tbody>\n",
                            "</table>\n"
                        ],
                        "text/latex": [
                            "A matrix: 2 × 2 of type dbl\n",
                            "\\begin{tabular}{ll}\n",
                            "\t -0.27540636 & 0.0364534\\\\\n",
                            "\t  0.04029545 & 0.4855795\\\\\n",
                            "\\end{tabular}\n"
                        ],
                        "text/markdown": [
                            "\n",
                            "A matrix: 2 × 2 of type dbl\n",
                            "\n",
                            "| -0.27540636 | 0.0364534 |\n",
                            "|  0.04029545 | 0.4855795 |\n",
                            "\n"
                        ],
                        "text/plain": [
                            "     [,1]        [,2]     \n",
                            "[1,] -0.27540636 0.0364534\n",
                            "[2,]  0.04029545 0.4855795"
                        ]
                    },
                    "metadata": {},
                    "output_type": "display_data"
                }
            ],
            "source": [
                "mreg_stand(c(1,2), c(3,4), data_ex2)"
            ]
        },
        {
            "cell_type": "code",
            "execution_count": 9,
            "metadata": {
                "vscode": {
                    "languageId": "r"
                }
            },
            "outputs": [
                {
                    "data": {
                        "text/html": [
                            "<table class=\"dataframe\">\n",
                            "<caption>A matrix: 3 × 4 of type dbl</caption>\n",
                            "<thead>\n",
                            "\t<tr><th></th><th scope=col>Estimate</th><th scope=col>Std. Error</th><th scope=col>t value</th><th scope=col>Pr(&gt;|t|)</th></tr>\n",
                            "</thead>\n",
                            "<tbody>\n",
                            "\t<tr><th scope=row>(Intercept)</th><td> 0.6032603044</td><td>0.090445382</td><td> 6.6698851</td><td>4.829877e-08</td></tr>\n",
                            "\t<tr><th scope=row>X3</th><td>-0.0042043374</td><td>0.002904416</td><td>-1.4475671</td><td>1.553420e-01</td></tr>\n",
                            "\t<tr><th scope=row>X4</th><td> 0.0003138657</td><td>0.001638103</td><td> 0.1916032</td><td>8.489988e-01</td></tr>\n",
                            "</tbody>\n",
                            "</table>\n"
                        ],
                        "text/latex": [
                            "A matrix: 3 × 4 of type dbl\n",
                            "\\begin{tabular}{r|llll}\n",
                            "  & Estimate & Std. Error & t value & Pr(>\\textbar{}t\\textbar{})\\\\\n",
                            "\\hline\n",
                            "\t(Intercept) &  0.6032603044 & 0.090445382 &  6.6698851 & 4.829877e-08\\\\\n",
                            "\tX3 & -0.0042043374 & 0.002904416 & -1.4475671 & 1.553420e-01\\\\\n",
                            "\tX4 &  0.0003138657 & 0.001638103 &  0.1916032 & 8.489988e-01\\\\\n",
                            "\\end{tabular}\n"
                        ],
                        "text/markdown": [
                            "\n",
                            "A matrix: 3 × 4 of type dbl\n",
                            "\n",
                            "| <!--/--> | Estimate | Std. Error | t value | Pr(&gt;|t|) |\n",
                            "|---|---|---|---|---|\n",
                            "| (Intercept) |  0.6032603044 | 0.090445382 |  6.6698851 | 4.829877e-08 |\n",
                            "| X3 | -0.0042043374 | 0.002904416 | -1.4475671 | 1.553420e-01 |\n",
                            "| X4 |  0.0003138657 | 0.001638103 |  0.1916032 | 8.489988e-01 |\n",
                            "\n"
                        ],
                        "text/plain": [
                            "            Estimate      Std. Error  t value    Pr(>|t|)    \n",
                            "(Intercept)  0.6032603044 0.090445382  6.6698851 4.829877e-08\n",
                            "X3          -0.0042043374 0.002904416 -1.4475671 1.553420e-01\n",
                            "X4           0.0003138657 0.001638103  0.1916032 8.489988e-01"
                        ]
                    },
                    "metadata": {},
                    "output_type": "display_data"
                },
                {
                    "data": {
                        "text/html": [
                            "<table class=\"dataframe\">\n",
                            "<caption>A matrix: 3 × 4 of type dbl</caption>\n",
                            "<thead>\n",
                            "\t<tr><th></th><th scope=col>Estimate</th><th scope=col>Std. Error</th><th scope=col>t value</th><th scope=col>Pr(&gt;|t|)</th></tr>\n",
                            "</thead>\n",
                            "<tbody>\n",
                            "\t<tr><th scope=row>(Intercept)</th><td>4.0756619047</td><td>0.116164556</td><td>35.0852449</td><td>3.310866e-32</td></tr>\n",
                            "\t<tr><th scope=row>X3</th><td>0.0008888354</td><td>0.003730320</td><td> 0.2382732</td><td>8.128561e-01</td></tr>\n",
                            "\t<tr><th scope=row>X4</th><td>0.0060409871</td><td>0.002103916</td><td> 2.8713066</td><td>6.441255e-03</td></tr>\n",
                            "</tbody>\n",
                            "</table>\n"
                        ],
                        "text/latex": [
                            "A matrix: 3 × 4 of type dbl\n",
                            "\\begin{tabular}{r|llll}\n",
                            "  & Estimate & Std. Error & t value & Pr(>\\textbar{}t\\textbar{})\\\\\n",
                            "\\hline\n",
                            "\t(Intercept) & 4.0756619047 & 0.116164556 & 35.0852449 & 3.310866e-32\\\\\n",
                            "\tX3 & 0.0008888354 & 0.003730320 &  0.2382732 & 8.128561e-01\\\\\n",
                            "\tX4 & 0.0060409871 & 0.002103916 &  2.8713066 & 6.441255e-03\\\\\n",
                            "\\end{tabular}\n"
                        ],
                        "text/markdown": [
                            "\n",
                            "A matrix: 3 × 4 of type dbl\n",
                            "\n",
                            "| <!--/--> | Estimate | Std. Error | t value | Pr(&gt;|t|) |\n",
                            "|---|---|---|---|---|\n",
                            "| (Intercept) | 4.0756619047 | 0.116164556 | 35.0852449 | 3.310866e-32 |\n",
                            "| X3 | 0.0008888354 | 0.003730320 |  0.2382732 | 8.128561e-01 |\n",
                            "| X4 | 0.0060409871 | 0.002103916 |  2.8713066 | 6.441255e-03 |\n",
                            "\n"
                        ],
                        "text/plain": [
                            "            Estimate     Std. Error  t value    Pr(>|t|)    \n",
                            "(Intercept) 4.0756619047 0.116164556 35.0852449 3.310866e-32\n",
                            "X3          0.0008888354 0.003730320  0.2382732 8.128561e-01\n",
                            "X4          0.0060409871 0.002103916  2.8713066 6.441255e-03"
                        ]
                    },
                    "metadata": {},
                    "output_type": "display_data"
                }
            ],
            "source": [
                "summary(lm(X1 ~ X3 + X4, data = data_ex2))$coef\n",
                "summary(lm(X2 ~ X3 + X4, data = data_ex2))$coef"
            ]
        },
        {
            "cell_type": "code",
            "execution_count": 10,
            "metadata": {
                "vscode": {
                    "languageId": "r"
                }
            },
            "outputs": [
                {
                    "data": {
                        "text/html": [
                            "<table class=\"dataframe\">\n",
                            "<caption>A matrix: 2 × 3 of type dbl</caption>\n",
                            "<tbody>\n",
                            "\t<tr><td>0.6622361</td><td> 0.15656897</td><td>-0.22957656</td></tr>\n",
                            "\t<tr><td>0.5006096</td><td>-0.03508743</td><td> 0.06518134</td></tr>\n",
                            "</tbody>\n",
                            "</table>\n"
                        ],
                        "text/latex": [
                            "A matrix: 2 × 3 of type dbl\n",
                            "\\begin{tabular}{lll}\n",
                            "\t 0.6622361 &  0.15656897 & -0.22957656\\\\\n",
                            "\t 0.5006096 & -0.03508743 &  0.06518134\\\\\n",
                            "\\end{tabular}\n"
                        ],
                        "text/markdown": [
                            "\n",
                            "A matrix: 2 × 3 of type dbl\n",
                            "\n",
                            "| 0.6622361 |  0.15656897 | -0.22957656 |\n",
                            "| 0.5006096 | -0.03508743 |  0.06518134 |\n",
                            "\n"
                        ],
                        "text/plain": [
                            "     [,1]      [,2]        [,3]       \n",
                            "[1,] 0.6622361  0.15656897 -0.22957656\n",
                            "[2,] 0.5006096 -0.03508743  0.06518134"
                        ]
                    },
                    "metadata": {},
                    "output_type": "display_data"
                }
            ],
            "source": [
                "mreg_stand(derived, a = 1:2, b = 3:5)"
            ]
        },
        {
            "cell_type": "code",
            "execution_count": 11,
            "metadata": {
                "vscode": {
                    "languageId": "r"
                }
            },
            "outputs": [
                {
                    "data": {
                        "text/html": [
                            "<table class=\"dataframe\">\n",
                            "<caption>A matrix: 5 × 5 of type dbl</caption>\n",
                            "<thead>\n",
                            "\t<tr><th></th><th scope=col>Sys</th><th scope=col>Dia</th><th scope=col>Age</th><th scope=col>Hei</th><th scope=col>Wei</th></tr>\n",
                            "</thead>\n",
                            "<tbody>\n",
                            "\t<tr><th scope=row>Sys</th><td> 1.00000000</td><td> 0.67978696</td><td> 0.3317980</td><td> 0.2281971</td><td>-0.2888255</td></tr>\n",
                            "\t<tr><th scope=row>Dia</th><td> 0.75221437</td><td> 1.00000000</td><td> 0.0531723</td><td>-0.1790396</td><td> 0.2333774</td></tr>\n",
                            "\t<tr><th scope=row>Age</th><td> 0.51528729</td><td> 0.54099502</td><td> 1.0000000</td><td>-0.4635820</td><td> 0.6262904</td></tr>\n",
                            "\t<tr><th scope=row>Hei</th><td>-0.03195559</td><td>-0.07981155</td><td>-0.1426742</td><td> 1.0000000</td><td> 0.6126419</td></tr>\n",
                            "\t<tr><th scope=row>Wei</th><td> 0.19400921</td><td> 0.32253141</td><td> 0.5427838</td><td> 0.4096260</td><td> 1.0000000</td></tr>\n",
                            "</tbody>\n",
                            "</table>\n"
                        ],
                        "text/latex": [
                            "A matrix: 5 × 5 of type dbl\n",
                            "\\begin{tabular}{r|lllll}\n",
                            "  & Sys & Dia & Age & Hei & Wei\\\\\n",
                            "\\hline\n",
                            "\tSys &  1.00000000 &  0.67978696 &  0.3317980 &  0.2281971 & -0.2888255\\\\\n",
                            "\tDia &  0.75221437 &  1.00000000 &  0.0531723 & -0.1790396 &  0.2333774\\\\\n",
                            "\tAge &  0.51528729 &  0.54099502 &  1.0000000 & -0.4635820 &  0.6262904\\\\\n",
                            "\tHei & -0.03195559 & -0.07981155 & -0.1426742 &  1.0000000 &  0.6126419\\\\\n",
                            "\tWei &  0.19400921 &  0.32253141 &  0.5427838 &  0.4096260 &  1.0000000\\\\\n",
                            "\\end{tabular}\n"
                        ],
                        "text/markdown": [
                            "\n",
                            "A matrix: 5 × 5 of type dbl\n",
                            "\n",
                            "| <!--/--> | Sys | Dia | Age | Hei | Wei |\n",
                            "|---|---|---|---|---|---|\n",
                            "| Sys |  1.00000000 |  0.67978696 |  0.3317980 |  0.2281971 | -0.2888255 |\n",
                            "| Dia |  0.75221437 |  1.00000000 |  0.0531723 | -0.1790396 |  0.2333774 |\n",
                            "| Age |  0.51528729 |  0.54099502 |  1.0000000 | -0.4635820 |  0.6262904 |\n",
                            "| Hei | -0.03195559 | -0.07981155 | -0.1426742 |  1.0000000 |  0.6126419 |\n",
                            "| Wei |  0.19400921 |  0.32253141 |  0.5427838 |  0.4096260 |  1.0000000 |\n",
                            "\n"
                        ],
                        "text/plain": [
                            "    Sys         Dia         Age        Hei        Wei       \n",
                            "Sys  1.00000000  0.67978696  0.3317980  0.2281971 -0.2888255\n",
                            "Dia  0.75221437  1.00000000  0.0531723 -0.1790396  0.2333774\n",
                            "Age  0.51528729  0.54099502  1.0000000 -0.4635820  0.6262904\n",
                            "Hei -0.03195559 -0.07981155 -0.1426742  1.0000000  0.6126419\n",
                            "Wei  0.19400921  0.32253141  0.5427838  0.4096260  1.0000000"
                        ]
                    },
                    "metadata": {},
                    "output_type": "display_data"
                }
            ],
            "source": [
                "require(ggm)\n",
                "correlations(derived)"
            ]
        },
        {
            "cell_type": "code",
            "execution_count": 12,
            "metadata": {
                "vscode": {
                    "languageId": "r"
                }
            },
            "outputs": [
                {
                    "data": {
                        "text/html": [
                            "<table class=\"dataframe\">\n",
                            "<caption>A matrix: 4 × 4 of type dbl</caption>\n",
                            "<thead>\n",
                            "\t<tr><th></th><th scope=col>Estimate</th><th scope=col>Std. Error</th><th scope=col>t value</th><th scope=col>Pr(&gt;|t|)</th></tr>\n",
                            "</thead>\n",
                            "<tbody>\n",
                            "\t<tr><th scope=row>(Intercept)</th><td>47.2227515</td><td>60.1878536</td><td> 0.7845894</td><td>0.4373164860</td></tr>\n",
                            "\t<tr><th scope=row>Age</th><td> 0.8404711</td><td> 0.2287052</td><td> 3.6749112</td><td>0.0006979121</td></tr>\n",
                            "\t<tr><th scope=row>Hei</th><td> 0.3659929</td><td> 0.3878205</td><td> 0.9437173</td><td>0.3509796871</td></tr>\n",
                            "\t<tr><th scope=row>Wei</th><td>-0.2862305</td><td> 0.2437659</td><td>-1.1742024</td><td>0.2472575964</td></tr>\n",
                            "</tbody>\n",
                            "</table>\n"
                        ],
                        "text/latex": [
                            "A matrix: 4 × 4 of type dbl\n",
                            "\\begin{tabular}{r|llll}\n",
                            "  & Estimate & Std. Error & t value & Pr(>\\textbar{}t\\textbar{})\\\\\n",
                            "\\hline\n",
                            "\t(Intercept) & 47.2227515 & 60.1878536 &  0.7845894 & 0.4373164860\\\\\n",
                            "\tAge &  0.8404711 &  0.2287052 &  3.6749112 & 0.0006979121\\\\\n",
                            "\tHei &  0.3659929 &  0.3878205 &  0.9437173 & 0.3509796871\\\\\n",
                            "\tWei & -0.2862305 &  0.2437659 & -1.1742024 & 0.2472575964\\\\\n",
                            "\\end{tabular}\n"
                        ],
                        "text/markdown": [
                            "\n",
                            "A matrix: 4 × 4 of type dbl\n",
                            "\n",
                            "| <!--/--> | Estimate | Std. Error | t value | Pr(&gt;|t|) |\n",
                            "|---|---|---|---|---|\n",
                            "| (Intercept) | 47.2227515 | 60.1878536 |  0.7845894 | 0.4373164860 |\n",
                            "| Age |  0.8404711 |  0.2287052 |  3.6749112 | 0.0006979121 |\n",
                            "| Hei |  0.3659929 |  0.3878205 |  0.9437173 | 0.3509796871 |\n",
                            "| Wei | -0.2862305 |  0.2437659 | -1.1742024 | 0.2472575964 |\n",
                            "\n"
                        ],
                        "text/plain": [
                            "            Estimate   Std. Error t value    Pr(>|t|)    \n",
                            "(Intercept) 47.2227515 60.1878536  0.7845894 0.4373164860\n",
                            "Age          0.8404711  0.2287052  3.6749112 0.0006979121\n",
                            "Hei          0.3659929  0.3878205  0.9437173 0.3509796871\n",
                            "Wei         -0.2862305  0.2437659 -1.1742024 0.2472575964"
                        ]
                    },
                    "metadata": {},
                    "output_type": "display_data"
                },
                {
                    "data": {
                        "text/html": [
                            "<table class=\"dataframe\">\n",
                            "<caption>A matrix: 4 × 4 of type dbl</caption>\n",
                            "<thead>\n",
                            "\t<tr><th></th><th scope=col>Estimate</th><th scope=col>Std. Error</th><th scope=col>t value</th><th scope=col>Pr(&gt;|t|)</th></tr>\n",
                            "</thead>\n",
                            "<tbody>\n",
                            "\t<tr><th scope=row>(Intercept)</th><td>66.04061318</td><td>43.5183385</td><td> 1.5175353</td><td>0.136996129</td></tr>\n",
                            "\t<tr><th scope=row>Age</th><td> 0.46034081</td><td> 0.1653634</td><td> 2.7838131</td><td>0.008164724</td></tr>\n",
                            "\t<tr><th scope=row>Hei</th><td>-0.05942770</td><td> 0.2804105</td><td>-0.2119311</td><td>0.833237002</td></tr>\n",
                            "\t<tr><th scope=row>Wei</th><td> 0.05888193</td><td> 0.1762530</td><td> 0.3340763</td><td>0.740067268</td></tr>\n",
                            "</tbody>\n",
                            "</table>\n"
                        ],
                        "text/latex": [
                            "A matrix: 4 × 4 of type dbl\n",
                            "\\begin{tabular}{r|llll}\n",
                            "  & Estimate & Std. Error & t value & Pr(>\\textbar{}t\\textbar{})\\\\\n",
                            "\\hline\n",
                            "\t(Intercept) & 66.04061318 & 43.5183385 &  1.5175353 & 0.136996129\\\\\n",
                            "\tAge &  0.46034081 &  0.1653634 &  2.7838131 & 0.008164724\\\\\n",
                            "\tHei & -0.05942770 &  0.2804105 & -0.2119311 & 0.833237002\\\\\n",
                            "\tWei &  0.05888193 &  0.1762530 &  0.3340763 & 0.740067268\\\\\n",
                            "\\end{tabular}\n"
                        ],
                        "text/markdown": [
                            "\n",
                            "A matrix: 4 × 4 of type dbl\n",
                            "\n",
                            "| <!--/--> | Estimate | Std. Error | t value | Pr(&gt;|t|) |\n",
                            "|---|---|---|---|---|\n",
                            "| (Intercept) | 66.04061318 | 43.5183385 |  1.5175353 | 0.136996129 |\n",
                            "| Age |  0.46034081 |  0.1653634 |  2.7838131 | 0.008164724 |\n",
                            "| Hei | -0.05942770 |  0.2804105 | -0.2119311 | 0.833237002 |\n",
                            "| Wei |  0.05888193 |  0.1762530 |  0.3340763 | 0.740067268 |\n",
                            "\n"
                        ],
                        "text/plain": [
                            "            Estimate    Std. Error t value    Pr(>|t|)   \n",
                            "(Intercept) 66.04061318 43.5183385  1.5175353 0.136996129\n",
                            "Age          0.46034081  0.1653634  2.7838131 0.008164724\n",
                            "Hei         -0.05942770  0.2804105 -0.2119311 0.833237002\n",
                            "Wei          0.05888193  0.1762530  0.3340763 0.740067268"
                        ]
                    },
                    "metadata": {},
                    "output_type": "display_data"
                }
            ],
            "source": [
                "summary(lm(Sys ~ Age + Hei + Wei, data = derived))$coef\n",
                "summary(lm(Dia ~ Age + Hei + Wei, data = derived))$coef"
            ]
        },
        {
            "cell_type": "markdown",
            "metadata": {},
            "source": [
                "## MLE for the seemingly unrelated regressions "
            ]
        },
        {
            "cell_type": "code",
            "execution_count": 40,
            "metadata": {
                "vscode": {
                    "languageId": "r"
                }
            },
            "outputs": [
                {
                    "name": "stderr",
                    "output_type": "stream",
                    "text": [
                        "This is lavaan 0.6-12\n",
                        "lavaan is FREE software! Please report any bugs.\n",
                        "\n",
                        "\n",
                        "Attaching package: ‘lavaan’\n",
                        "\n",
                        "\n",
                        "The following objects are masked from ‘package:sem’:\n",
                        "\n",
                        "    cfa, sem\n",
                        "\n",
                        "\n",
                        "Warning message in lav_data_full(data = data, group = group, cluster = cluster, :\n",
                        "“lavaan WARNING: some observed variances are (at least) a factor 1000 times larger than others; use varTable(fit) to investigate”\n"
                    ]
                },
                {
                    "name": "stdout",
                    "output_type": "stream",
                    "text": [
                        "lavaan 0.6-12 ended normally after 78 iterations\n",
                        "\n",
                        "  Estimator                                         ML\n",
                        "  Optimization method                           NLMINB\n",
                        "  Number of model parameters                        10\n",
                        "\n",
                        "  Number of observations                            44\n",
                        "\n",
                        "Model Test User Model:\n",
                        "                                                      \n",
                        "  Test statistic                                 0.000\n",
                        "  Degrees of freedom                                 0\n",
                        "\n",
                        "Parameter Estimates:\n",
                        "\n",
                        "  Standard errors                             Standard\n",
                        "  Information                                 Expected\n",
                        "  Information saturated (h1) model          Structured\n",
                        "\n",
                        "Regressions:\n",
                        "                   Estimate  Std.Err  z-value  P(>|z|)\n",
                        "  X1 ~                                                \n",
                        "    X3               -0.004    0.003   -1.500    0.134\n",
                        "    X4                0.000    0.002    0.198    0.843\n",
                        "  X2 ~                                                \n",
                        "    X3                0.001    0.004    0.247    0.805\n",
                        "    X4                0.006    0.002    2.975    0.003\n",
                        "\n",
                        "Covariances:\n",
                        "                   Estimate  Std.Err  z-value  P(>|z|)\n",
                        " .X1 ~~                                               \n",
                        "   .X2               -0.005    0.002   -3.268    0.001\n",
                        "  X3 ~~                                               \n",
                        "    X4               36.776   10.669    3.447    0.001\n",
                        "\n",
                        "Variances:\n",
                        "                   Estimate  Std.Err  z-value  P(>|z|)\n",
                        "   .X1                0.007    0.002    4.690    0.000\n",
                        "   .X2                0.012    0.003    4.690    0.000\n",
                        "    X3               34.102    7.270    4.690    0.000\n",
                        "    X4              107.204   22.856    4.690    0.000\n",
                        "\n"
                    ]
                }
            ],
            "source": [
                "library(lavaan)\n",
                "sat_mod <- ' # regressions\n",
                "             X1 ~ X3 + X4\n",
                "             X2 ~ X3 + X4\n",
                "\n",
                "             # variances and covariances \n",
                "               X1 ~~ X1 \n",
                "               X1 ~~ X2 \n",
                "               X2 ~~ X2\n",
                "\n",
                "               X3 ~~ X3 \n",
                "               X3 ~~ X4 \n",
                "               X4 ~~ X4\n",
                "\n",
                "             # intercepts \n",
                "           '\n",
                "fit_sat = cfa(sat_mod, data = data_ex2)\n",
                "print(summary(fit_sat))"
            ]
        },
        {
            "cell_type": "code",
            "execution_count": 41,
            "metadata": {
                "vscode": {
                    "languageId": "r"
                }
            },
            "outputs": [
                {
                    "name": "stderr",
                    "output_type": "stream",
                    "text": [
                        "Warning message in lav_data_full(data = data, group = group, cluster = cluster, :\n",
                        "“lavaan WARNING: some observed variances are (at least) a factor 1000 times larger than others; use varTable(fit) to investigate”\n"
                    ]
                },
                {
                    "name": "stdout",
                    "output_type": "stream",
                    "text": [
                        "lavaan 0.6-12 ended normally after 62 iterations\n",
                        "\n",
                        "  Estimator                                         ML\n",
                        "  Optimization method                           NLMINB\n",
                        "  Number of model parameters                         8\n",
                        "\n",
                        "  Number of observations                            44\n",
                        "\n",
                        "Model Test User Model:\n",
                        "                                                      \n",
                        "  Test statistic                                 0.075\n",
                        "  Degrees of freedom                                 2\n",
                        "  P-value (Chi-square)                           0.963\n",
                        "\n",
                        "Parameter Estimates:\n",
                        "\n",
                        "  Standard errors                             Standard\n",
                        "  Information                                 Expected\n",
                        "  Information saturated (h1) model          Structured\n",
                        "\n",
                        "Regressions:\n",
                        "                   Estimate  Std.Err  z-value  P(>|z|)\n",
                        "  X1 ~                                                \n",
                        "    X3               -0.004    0.002   -1.874    0.061\n",
                        "  X2 ~                                                \n",
                        "    X4                0.006    0.001    4.547    0.000\n",
                        "\n",
                        "Covariances:\n",
                        "                   Estimate  Std.Err  z-value  P(>|z|)\n",
                        " .X1 ~~                                               \n",
                        "   .X2               -0.005    0.002   -3.270    0.001\n",
                        "  X3 ~~                                               \n",
                        "    X4               36.776   10.669    3.447    0.001\n",
                        "\n",
                        "Variances:\n",
                        "                   Estimate  Std.Err  z-value  P(>|z|)\n",
                        "   .X1                0.007    0.002    4.690    0.000\n",
                        "   .X2                0.012    0.003    4.690    0.000\n",
                        "    X3               34.102    7.270    4.690    0.000\n",
                        "    X4              107.204   22.856    4.690    0.000\n",
                        "\n"
                    ]
                }
            ],
            "source": [
                "sat_sur <- ' # regressions\n",
                "             X1 ~ X3\n",
                "             X2 ~ X4\n",
                "\n",
                "             # variances and covariances \n",
                "               X1 ~~ X1 \n",
                "               X1 ~~ X2 \n",
                "               X2 ~~ X2\n",
                "\n",
                "               X3 ~~ X3 \n",
                "               X3 ~~ X4 \n",
                "               X4 ~~ X4\n",
                "\n",
                "             # intercepts \n",
                "           '\n",
                "fit_sur = cfa(sat_sur, data = data_ex2)\n",
                "print(summary(fit_sur))"
            ]
        },
        {
            "cell_type": "markdown",
            "metadata": {},
            "source": [
                "### Using `sem`"
            ]
        },
        {
            "cell_type": "code",
            "execution_count": 28,
            "metadata": {
                "vscode": {
                    "languageId": "r"
                }
            },
            "outputs": [
                {
                    "name": "stderr",
                    "output_type": "stream",
                    "text": [
                        "NOTE: it is generally simpler to use specifyEquations() or cfa()\n",
                        "      see ?specifyEquations\n",
                        "\n"
                    ]
                },
                {
                    "name": "stdout",
                    "output_type": "stream",
                    "text": [
                        "\n",
                        " Model Chisquare =  -9.548e-15   Df =  0 Pr(>Chisq) = NA\n",
                        " AIC =  20\n",
                        " BIC =  -9.548e-15\n",
                        "\n",
                        " Normalized Residuals\n",
                        "    Min.  1st Qu.   Median     Mean  3rd Qu.     Max. \n",
                        "0.00e+00 0.00e+00 0.00e+00 1.96e-16 3.31e-16 9.47e-16 \n",
                        "\n",
                        " R-square for Endogenous Variables\n",
                        "    X1     X2 \n",
                        "0.0650 0.2612 \n",
                        "\n",
                        " Parameter Estimates\n",
                        "    Estimate    Std Error z value Pr(>|z|)              \n",
                        "b13  -0.0042043  0.002836 -1.4825 0.138219732 X1 <--- X3\n",
                        "b14   0.0003139  0.001600  0.1962 0.844437338 X1 <--- X4\n",
                        "b23   0.0008888  0.003643  0.2440 0.807218762 X2 <--- X3\n",
                        "b24   0.0060410  0.002054  2.9405 0.003276780 X2 <--- X4\n",
                        "s12  -0.0055284  0.001711 -3.2304 0.001236301 X2 <--> X1\n",
                        "s11   0.0076039  0.001640  4.6368 0.000003538 X1 <--> X1\n",
                        "s22   0.0125432  0.002705  4.6368 0.000003538 X2 <--> X2\n",
                        "s33  34.8947272  7.525590  4.6368 0.000003538 X3 <--> X3\n",
                        "s44 109.6971459 23.657895  4.6368 0.000003538 X4 <--> X4\n",
                        "s34  37.6313902 11.043227  3.4076 0.000655263 X4 <--> X3\n",
                        "\n",
                        " Iterations =  0 \n",
                        "--------\n"
                    ]
                },
                {
                    "name": "stderr",
                    "output_type": "stream",
                    "text": [
                        "NOTE: it is generally simpler to use specifyEquations() or cfa()\n",
                        "      see ?specifyEquations\n",
                        "\n"
                    ]
                },
                {
                    "data": {
                        "text/plain": [
                            "\n",
                            " Model Chisquare =  0.0737696   Df =  2 Pr(>Chisq) = 0.9637872\n",
                            " AIC =  16.07377\n",
                            " BIC =  -7.49461\n",
                            "\n",
                            " Normalized Residuals\n",
                            "    Min.  1st Qu.   Median     Mean  3rd Qu.     Max. \n",
                            "-0.08488 -0.03769  0.00000  0.01386  0.04653  0.12979 \n",
                            "\n",
                            " R-square for Endogenous Variables\n",
                            "    X1     X2 \n",
                            "0.0580 0.2658 \n",
                            "\n",
                            " Parameter Estimates\n",
                            "    Estimate      Std Error    z value   Pr(>|z|)                 \n",
                            "b13  -0.003663261  0.001977073 -1.852871 0.063900865705 X1 <--- X3\n",
                            "b24   0.006439244  0.001432432  4.495323 0.000006946458 X2 <--- X4\n",
                            "s12  -0.005540305  0.001713931 -3.232514 0.001227060378 X2 <--> X1\n",
                            "s11   0.007612115  0.001641671  4.636809 0.000003538287 X1 <--> X1\n",
                            "s22   0.012561559  0.002709095  4.636809 0.000003538287 X2 <--> X2\n",
                            "s33  34.894727172  7.525590402  4.636809 0.000003538287 X3 <--> X3\n",
                            "s44 109.697145877 23.657894905  4.636809 0.000003538287 X4 <--> X4\n",
                            "s34  37.631390229 11.043227439  3.407644 0.000655262691 X4 <--> X3\n",
                            "\n",
                            " Iterations =  10 "
                        ]
                    },
                    "metadata": {},
                    "output_type": "display_data"
                }
            ],
            "source": [
                "library(sem)\n",
                "\n",
                "mod_sat = specifyModel(text = \"\n",
                "X3 -> X1,  b13, NA\n",
                "X4 -> X1,  b14, NA\n",
                "X3 -> X2,  b23, NA\n",
                "X4 -> X2,  b24, NA\n",
                "X1 <-> X2, s12, NA\n",
                "X1 <-> X1, s11, NA\n",
                "X2 <-> X2, s22, NA\n",
                "X3 <-> X3, s33, NA\n",
                "X4 <-> X4, s44, NA\n",
                "X3 <-> X4, s34, NA\n",
                "\")\n",
                "\n",
                "S = cov(data_ex2)\n",
                "\n",
                "\n",
                "sat =  sem(mod_sat, S, N = 44)\n",
                "options(scipen = 10)\n",
                "print(summary(sat), digits = 4)\n",
                "\n",
                "cat(\"--------\\n\")\n",
                "\n",
                "mod_sur = specifyModel(text=\"\n",
                "X3 -> X1,  b13, NA\n",
                "X4 -> X2,  b24, NA\n",
                "X1 <-> X2, s12, NA\n",
                "X1 <-> X1, s11, NA\n",
                "X2 <-> X2, s22, NA\n",
                "X3 <-> X3, s33, NA\n",
                "X4 <-> X4, s44, NA\n",
                "X3 <-> X4, s34, NA\n",
                "\")\n",
                "sur =  sem(mod_sur, S, N = 44)\n",
                "summary(sur)"
            ]
        },
        {
            "cell_type": "code",
            "execution_count": 25,
            "metadata": {
                "vscode": {
                    "languageId": "r"
                }
            },
            "outputs": [],
            "source": [
                "require(ggm)\n",
                "mag_sat <- makeMG(bg=UG(~ X1*X2), dg=DAG(X1~X3+X4, X2~X3+X4), ug=UG( ~ X3*X4))\n",
                "mag <- makeMG(bg=UG(~ X1*X2), dg=DAG(X1~X3, X2~X4), ug=UG( ~ X3*X4))"
            ]
        },
        {
            "cell_type": "code",
            "execution_count": 18,
            "metadata": {
                "vscode": {
                    "languageId": "r"
                }
            },
            "outputs": [
                {
                    "data": {
                        "text/html": [
                            "TRUE"
                        ],
                        "text/latex": [
                            "TRUE"
                        ],
                        "text/markdown": [
                            "TRUE"
                        ],
                        "text/plain": [
                            "[1] TRUE"
                        ]
                    },
                    "metadata": {},
                    "output_type": "display_data"
                }
            ],
            "source": [
                "isAG(mag)"
            ]
        },
        {
            "cell_type": "code",
            "execution_count": 19,
            "metadata": {
                "vscode": {
                    "languageId": "r"
                }
            },
            "outputs": [],
            "source": [
                "mag <- makeMG(bg=UG(~ X1*X2 + X3*X4), dg=DAG(X1~X3, X2~X4))"
            ]
        },
        {
            "cell_type": "code",
            "execution_count": 20,
            "metadata": {
                "vscode": {
                    "languageId": "r"
                }
            },
            "outputs": [
                {
                    "data": {
                        "text/html": [
                            "TRUE"
                        ],
                        "text/latex": [
                            "TRUE"
                        ],
                        "text/markdown": [
                            "TRUE"
                        ],
                        "text/plain": [
                            "[1] TRUE"
                        ]
                    },
                    "metadata": {},
                    "output_type": "display_data"
                }
            ],
            "source": [
                "isAG(mag)"
            ]
        },
        {
            "cell_type": "code",
            "execution_count": 26,
            "metadata": {
                "vscode": {
                    "languageId": "r"
                }
            },
            "outputs": [
                {
                    "data": {
                        "text/html": [
                            "<dl>\n",
                            "\t<dt>$Shat</dt>\n",
                            "\t\t<dd><table class=\"dataframe\">\n",
                            "<caption>A matrix: 4 × 4 of type dbl</caption>\n",
                            "<thead>\n",
                            "\t<tr><th></th><th scope=col>X1</th><th scope=col>X2</th><th scope=col>X3</th><th scope=col>X4</th></tr>\n",
                            "</thead>\n",
                            "<tbody>\n",
                            "\t<tr><th scope=row>X1</th><td> 0.008132153</td><td>-0.006396024</td><td>-0.1348939</td><td> -0.1237740</td></tr>\n",
                            "\t<tr><th scope=row>X2</th><td>-0.006396024</td><td> 0.016978054</td><td> 0.2583435</td><td>  0.6961192</td></tr>\n",
                            "\t<tr><th scope=row>X3</th><td>-0.134893947</td><td> 0.258343462</td><td>34.8947272</td><td> 37.6313902</td></tr>\n",
                            "\t<tr><th scope=row>X4</th><td>-0.123773958</td><td> 0.696119209</td><td>37.6313902</td><td>109.6971459</td></tr>\n",
                            "</tbody>\n",
                            "</table>\n",
                            "</dd>\n",
                            "\t<dt>$Lhat</dt>\n",
                            "\t\t<dd><table class=\"dataframe\">\n",
                            "<caption>A matrix: 4 × 4 of type dbl</caption>\n",
                            "<tbody>\n",
                            "\t<tr><td> 0.007603876</td><td>-0.005528419</td><td>0</td><td>0</td></tr>\n",
                            "\t<tr><td>-0.005528419</td><td> 0.012543233</td><td>0</td><td>0</td></tr>\n",
                            "\t<tr><td> 0.000000000</td><td> 0.000000000</td><td>0</td><td>0</td></tr>\n",
                            "\t<tr><td> 0.000000000</td><td> 0.000000000</td><td>0</td><td>0</td></tr>\n",
                            "</tbody>\n",
                            "</table>\n",
                            "</dd>\n",
                            "\t<dt>$Bhat</dt>\n",
                            "\t\t<dd><table class=\"dataframe\">\n",
                            "<caption>A matrix: 4 × 4 of type dbl</caption>\n",
                            "<thead>\n",
                            "\t<tr><th></th><th scope=col>X1</th><th scope=col>X2</th><th scope=col>X3</th><th scope=col>X4</th></tr>\n",
                            "</thead>\n",
                            "<tbody>\n",
                            "\t<tr><th scope=row>X1</th><td>1</td><td>0</td><td> 0.0042043235</td><td>-0.0003139606</td></tr>\n",
                            "\t<tr><th scope=row>X2</th><td>0</td><td>1</td><td>-0.0008888252</td><td>-0.0060409182</td></tr>\n",
                            "\t<tr><th scope=row>X3</th><td>0</td><td>0</td><td> 1.0000000000</td><td> 0.0000000000</td></tr>\n",
                            "\t<tr><th scope=row>X4</th><td>0</td><td>0</td><td> 0.0000000000</td><td> 1.0000000000</td></tr>\n",
                            "</tbody>\n",
                            "</table>\n",
                            "</dd>\n",
                            "\t<dt>$Ohat</dt>\n",
                            "\t\t<dd><table class=\"dataframe\">\n",
                            "<caption>A matrix: 4 × 4 of type dbl</caption>\n",
                            "<thead>\n",
                            "\t<tr><th></th><th scope=col>X1</th><th scope=col>X2</th><th scope=col>X3</th><th scope=col>X4</th></tr>\n",
                            "</thead>\n",
                            "<tbody>\n",
                            "\t<tr><th scope=row>X1</th><td> 0.007603876</td><td>-0.005528419</td><td>0</td><td>0</td></tr>\n",
                            "\t<tr><th scope=row>X2</th><td>-0.005528419</td><td> 0.012543233</td><td>0</td><td>0</td></tr>\n",
                            "\t<tr><th scope=row>X3</th><td> 0.000000000</td><td> 0.000000000</td><td>0</td><td>0</td></tr>\n",
                            "\t<tr><th scope=row>X4</th><td> 0.000000000</td><td> 0.000000000</td><td>0</td><td>0</td></tr>\n",
                            "</tbody>\n",
                            "</table>\n",
                            "</dd>\n",
                            "\t<dt>$dev</dt>\n",
                            "\t\t<dd>6.32878638384682e-09</dd>\n",
                            "\t<dt>$df</dt>\n",
                            "\t\t<dd>0</dd>\n",
                            "\t<dt>$it</dt>\n",
                            "\t\t<dd>10</dd>\n",
                            "</dl>\n"
                        ],
                        "text/latex": [
                            "\\begin{description}\n",
                            "\\item[\\$Shat] A matrix: 4 × 4 of type dbl\n",
                            "\\begin{tabular}{r|llll}\n",
                            "  & X1 & X2 & X3 & X4\\\\\n",
                            "\\hline\n",
                            "\tX1 &  0.008132153 & -0.006396024 & -0.1348939 &  -0.1237740\\\\\n",
                            "\tX2 & -0.006396024 &  0.016978054 &  0.2583435 &   0.6961192\\\\\n",
                            "\tX3 & -0.134893947 &  0.258343462 & 34.8947272 &  37.6313902\\\\\n",
                            "\tX4 & -0.123773958 &  0.696119209 & 37.6313902 & 109.6971459\\\\\n",
                            "\\end{tabular}\n",
                            "\n",
                            "\\item[\\$Lhat] A matrix: 4 × 4 of type dbl\n",
                            "\\begin{tabular}{llll}\n",
                            "\t  0.007603876 & -0.005528419 & 0 & 0\\\\\n",
                            "\t -0.005528419 &  0.012543233 & 0 & 0\\\\\n",
                            "\t  0.000000000 &  0.000000000 & 0 & 0\\\\\n",
                            "\t  0.000000000 &  0.000000000 & 0 & 0\\\\\n",
                            "\\end{tabular}\n",
                            "\n",
                            "\\item[\\$Bhat] A matrix: 4 × 4 of type dbl\n",
                            "\\begin{tabular}{r|llll}\n",
                            "  & X1 & X2 & X3 & X4\\\\\n",
                            "\\hline\n",
                            "\tX1 & 1 & 0 &  0.0042043235 & -0.0003139606\\\\\n",
                            "\tX2 & 0 & 1 & -0.0008888252 & -0.0060409182\\\\\n",
                            "\tX3 & 0 & 0 &  1.0000000000 &  0.0000000000\\\\\n",
                            "\tX4 & 0 & 0 &  0.0000000000 &  1.0000000000\\\\\n",
                            "\\end{tabular}\n",
                            "\n",
                            "\\item[\\$Ohat] A matrix: 4 × 4 of type dbl\n",
                            "\\begin{tabular}{r|llll}\n",
                            "  & X1 & X2 & X3 & X4\\\\\n",
                            "\\hline\n",
                            "\tX1 &  0.007603876 & -0.005528419 & 0 & 0\\\\\n",
                            "\tX2 & -0.005528419 &  0.012543233 & 0 & 0\\\\\n",
                            "\tX3 &  0.000000000 &  0.000000000 & 0 & 0\\\\\n",
                            "\tX4 &  0.000000000 &  0.000000000 & 0 & 0\\\\\n",
                            "\\end{tabular}\n",
                            "\n",
                            "\\item[\\$dev] 6.32878638384682e-09\n",
                            "\\item[\\$df] 0\n",
                            "\\item[\\$it] 10\n",
                            "\\end{description}\n"
                        ],
                        "text/markdown": [
                            "$Shat\n",
                            ":   \n",
                            "A matrix: 4 × 4 of type dbl\n",
                            "\n",
                            "| <!--/--> | X1 | X2 | X3 | X4 |\n",
                            "|---|---|---|---|---|\n",
                            "| X1 |  0.008132153 | -0.006396024 | -0.1348939 |  -0.1237740 |\n",
                            "| X2 | -0.006396024 |  0.016978054 |  0.2583435 |   0.6961192 |\n",
                            "| X3 | -0.134893947 |  0.258343462 | 34.8947272 |  37.6313902 |\n",
                            "| X4 | -0.123773958 |  0.696119209 | 37.6313902 | 109.6971459 |\n",
                            "\n",
                            "\n",
                            "$Lhat\n",
                            ":   \n",
                            "A matrix: 4 × 4 of type dbl\n",
                            "\n",
                            "|  0.007603876 | -0.005528419 | 0 | 0 |\n",
                            "| -0.005528419 |  0.012543233 | 0 | 0 |\n",
                            "|  0.000000000 |  0.000000000 | 0 | 0 |\n",
                            "|  0.000000000 |  0.000000000 | 0 | 0 |\n",
                            "\n",
                            "\n",
                            "$Bhat\n",
                            ":   \n",
                            "A matrix: 4 × 4 of type dbl\n",
                            "\n",
                            "| <!--/--> | X1 | X2 | X3 | X4 |\n",
                            "|---|---|---|---|---|\n",
                            "| X1 | 1 | 0 |  0.0042043235 | -0.0003139606 |\n",
                            "| X2 | 0 | 1 | -0.0008888252 | -0.0060409182 |\n",
                            "| X3 | 0 | 0 |  1.0000000000 |  0.0000000000 |\n",
                            "| X4 | 0 | 0 |  0.0000000000 |  1.0000000000 |\n",
                            "\n",
                            "\n",
                            "$Ohat\n",
                            ":   \n",
                            "A matrix: 4 × 4 of type dbl\n",
                            "\n",
                            "| <!--/--> | X1 | X2 | X3 | X4 |\n",
                            "|---|---|---|---|---|\n",
                            "| X1 |  0.007603876 | -0.005528419 | 0 | 0 |\n",
                            "| X2 | -0.005528419 |  0.012543233 | 0 | 0 |\n",
                            "| X3 |  0.000000000 |  0.000000000 | 0 | 0 |\n",
                            "| X4 |  0.000000000 |  0.000000000 | 0 | 0 |\n",
                            "\n",
                            "\n",
                            "$dev\n",
                            ":   6.32878638384682e-09\n",
                            "$df\n",
                            ":   0\n",
                            "$it\n",
                            ":   10\n",
                            "\n",
                            "\n"
                        ],
                        "text/plain": [
                            "$Shat\n",
                            "             X1           X2         X3          X4\n",
                            "X1  0.008132153 -0.006396024 -0.1348939  -0.1237740\n",
                            "X2 -0.006396024  0.016978054  0.2583435   0.6961192\n",
                            "X3 -0.134893947  0.258343462 34.8947272  37.6313902\n",
                            "X4 -0.123773958  0.696119209 37.6313902 109.6971459\n",
                            "\n",
                            "$Lhat\n",
                            "             [,1]         [,2] [,3] [,4]\n",
                            "[1,]  0.007603876 -0.005528419    0    0\n",
                            "[2,] -0.005528419  0.012543233    0    0\n",
                            "[3,]  0.000000000  0.000000000    0    0\n",
                            "[4,]  0.000000000  0.000000000    0    0\n",
                            "\n",
                            "$Bhat\n",
                            "   X1 X2            X3            X4\n",
                            "X1  1  0  0.0042043235 -0.0003139606\n",
                            "X2  0  1 -0.0008888252 -0.0060409182\n",
                            "X3  0  0  1.0000000000  0.0000000000\n",
                            "X4  0  0  0.0000000000  1.0000000000\n",
                            "\n",
                            "$Ohat\n",
                            "             X1           X2 X3 X4\n",
                            "X1  0.007603876 -0.005528419  0  0\n",
                            "X2 -0.005528419  0.012543233  0  0\n",
                            "X3  0.000000000  0.000000000  0  0\n",
                            "X4  0.000000000  0.000000000  0  0\n",
                            "\n",
                            "$dev\n",
                            "[1] 6.328786e-09\n",
                            "\n",
                            "$df\n",
                            "[1] 0\n",
                            "\n",
                            "$it\n",
                            "[1] 10\n"
                        ]
                    },
                    "metadata": {},
                    "output_type": "display_data"
                }
            ],
            "source": [
                "out_sat = fitAncestralGraph(mag_sat, cov(data_ex2), n = 44)\n",
                "out_sat"
            ]
        },
        {
            "cell_type": "code",
            "execution_count": 21,
            "metadata": {
                "vscode": {
                    "languageId": "r"
                }
            },
            "outputs": [
                {
                    "data": {
                        "text/html": [
                            "<dl>\n",
                            "\t<dt>$Shat</dt>\n",
                            "\t\t<dd><table class=\"dataframe\">\n",
                            "<caption>A matrix: 4 × 4 of type dbl</caption>\n",
                            "<thead>\n",
                            "\t<tr><th></th><th scope=col>X1</th><th scope=col>X2</th><th scope=col>X3</th><th scope=col>X4</th></tr>\n",
                            "</thead>\n",
                            "<tbody>\n",
                            "\t<tr><th scope=row>X1</th><td> 0.008080372</td><td>-0.006427964</td><td>-0.1278265</td><td> -0.1378515</td></tr>\n",
                            "\t<tr><th scope=row>X2</th><td>-0.006427964</td><td> 0.017110006</td><td> 0.2423172</td><td>  0.7063652</td></tr>\n",
                            "\t<tr><th scope=row>X3</th><td>-0.127826529</td><td> 0.242317196</td><td>34.8947272</td><td> 37.6313902</td></tr>\n",
                            "\t<tr><th scope=row>X4</th><td>-0.137851486</td><td> 0.706365208</td><td>37.6313902</td><td>109.6971459</td></tr>\n",
                            "</tbody>\n",
                            "</table>\n",
                            "</dd>\n",
                            "\t<dt>$Lhat</dt>\n",
                            "\t\t<dd><table class=\"dataframe\">\n",
                            "<caption>A matrix: 4 × 4 of type dbl</caption>\n",
                            "<tbody>\n",
                            "\t<tr><td>0</td><td>0</td><td>0</td><td>0</td></tr>\n",
                            "\t<tr><td>0</td><td>0</td><td>0</td><td>0</td></tr>\n",
                            "\t<tr><td>0</td><td>0</td><td>0</td><td>0</td></tr>\n",
                            "\t<tr><td>0</td><td>0</td><td>0</td><td>0</td></tr>\n",
                            "</tbody>\n",
                            "</table>\n",
                            "</dd>\n",
                            "\t<dt>$Bhat</dt>\n",
                            "\t\t<dd><table class=\"dataframe\">\n",
                            "<caption>A matrix: 4 × 4 of type dbl</caption>\n",
                            "<thead>\n",
                            "\t<tr><th></th><th scope=col>X1</th><th scope=col>X2</th><th scope=col>X3</th><th scope=col>X4</th></tr>\n",
                            "</thead>\n",
                            "<tbody>\n",
                            "\t<tr><th scope=row>X1</th><td>1</td><td>0</td><td>0.003663205</td><td> 0.000000000</td></tr>\n",
                            "\t<tr><th scope=row>X2</th><td>0</td><td>1</td><td>0.000000000</td><td>-0.006439231</td></tr>\n",
                            "\t<tr><th scope=row>X3</th><td>0</td><td>0</td><td>1.000000000</td><td> 0.000000000</td></tr>\n",
                            "\t<tr><th scope=row>X4</th><td>0</td><td>0</td><td>0.000000000</td><td> 1.000000000</td></tr>\n",
                            "</tbody>\n",
                            "</table>\n",
                            "</dd>\n",
                            "\t<dt>$Ohat</dt>\n",
                            "\t\t<dd><table class=\"dataframe\">\n",
                            "<caption>A matrix: 4 × 4 of type dbl</caption>\n",
                            "<thead>\n",
                            "\t<tr><th></th><th scope=col>X1</th><th scope=col>X2</th><th scope=col>X3</th><th scope=col>X4</th></tr>\n",
                            "</thead>\n",
                            "<tbody>\n",
                            "\t<tr><th scope=row>X1</th><td> 0.007612117</td><td>-0.005540306</td><td> 0.00000</td><td>  0.00000</td></tr>\n",
                            "\t<tr><th scope=row>X2</th><td>-0.005540306</td><td> 0.012561557</td><td> 0.00000</td><td>  0.00000</td></tr>\n",
                            "\t<tr><th scope=row>X3</th><td> 0.000000000</td><td> 0.000000000</td><td>34.89473</td><td> 37.63139</td></tr>\n",
                            "\t<tr><th scope=row>X4</th><td> 0.000000000</td><td> 0.000000000</td><td>37.63139</td><td>109.69715</td></tr>\n",
                            "</tbody>\n",
                            "</table>\n",
                            "</dd>\n",
                            "\t<dt>$dev</dt>\n",
                            "\t\t<dd>0.0754851706101505</dd>\n",
                            "\t<dt>$df</dt>\n",
                            "\t\t<dd>2</dd>\n",
                            "\t<dt>$it</dt>\n",
                            "\t\t<dd>6</dd>\n",
                            "</dl>\n"
                        ],
                        "text/latex": [
                            "\\begin{description}\n",
                            "\\item[\\$Shat] A matrix: 4 × 4 of type dbl\n",
                            "\\begin{tabular}{r|llll}\n",
                            "  & X1 & X2 & X3 & X4\\\\\n",
                            "\\hline\n",
                            "\tX1 &  0.008080372 & -0.006427964 & -0.1278265 &  -0.1378515\\\\\n",
                            "\tX2 & -0.006427964 &  0.017110006 &  0.2423172 &   0.7063652\\\\\n",
                            "\tX3 & -0.127826529 &  0.242317196 & 34.8947272 &  37.6313902\\\\\n",
                            "\tX4 & -0.137851486 &  0.706365208 & 37.6313902 & 109.6971459\\\\\n",
                            "\\end{tabular}\n",
                            "\n",
                            "\\item[\\$Lhat] A matrix: 4 × 4 of type dbl\n",
                            "\\begin{tabular}{llll}\n",
                            "\t 0 & 0 & 0 & 0\\\\\n",
                            "\t 0 & 0 & 0 & 0\\\\\n",
                            "\t 0 & 0 & 0 & 0\\\\\n",
                            "\t 0 & 0 & 0 & 0\\\\\n",
                            "\\end{tabular}\n",
                            "\n",
                            "\\item[\\$Bhat] A matrix: 4 × 4 of type dbl\n",
                            "\\begin{tabular}{r|llll}\n",
                            "  & X1 & X2 & X3 & X4\\\\\n",
                            "\\hline\n",
                            "\tX1 & 1 & 0 & 0.003663205 &  0.000000000\\\\\n",
                            "\tX2 & 0 & 1 & 0.000000000 & -0.006439231\\\\\n",
                            "\tX3 & 0 & 0 & 1.000000000 &  0.000000000\\\\\n",
                            "\tX4 & 0 & 0 & 0.000000000 &  1.000000000\\\\\n",
                            "\\end{tabular}\n",
                            "\n",
                            "\\item[\\$Ohat] A matrix: 4 × 4 of type dbl\n",
                            "\\begin{tabular}{r|llll}\n",
                            "  & X1 & X2 & X3 & X4\\\\\n",
                            "\\hline\n",
                            "\tX1 &  0.007612117 & -0.005540306 &  0.00000 &   0.00000\\\\\n",
                            "\tX2 & -0.005540306 &  0.012561557 &  0.00000 &   0.00000\\\\\n",
                            "\tX3 &  0.000000000 &  0.000000000 & 34.89473 &  37.63139\\\\\n",
                            "\tX4 &  0.000000000 &  0.000000000 & 37.63139 & 109.69715\\\\\n",
                            "\\end{tabular}\n",
                            "\n",
                            "\\item[\\$dev] 0.0754851706101505\n",
                            "\\item[\\$df] 2\n",
                            "\\item[\\$it] 6\n",
                            "\\end{description}\n"
                        ],
                        "text/markdown": [
                            "$Shat\n",
                            ":   \n",
                            "A matrix: 4 × 4 of type dbl\n",
                            "\n",
                            "| <!--/--> | X1 | X2 | X3 | X4 |\n",
                            "|---|---|---|---|---|\n",
                            "| X1 |  0.008080372 | -0.006427964 | -0.1278265 |  -0.1378515 |\n",
                            "| X2 | -0.006427964 |  0.017110006 |  0.2423172 |   0.7063652 |\n",
                            "| X3 | -0.127826529 |  0.242317196 | 34.8947272 |  37.6313902 |\n",
                            "| X4 | -0.137851486 |  0.706365208 | 37.6313902 | 109.6971459 |\n",
                            "\n",
                            "\n",
                            "$Lhat\n",
                            ":   \n",
                            "A matrix: 4 × 4 of type dbl\n",
                            "\n",
                            "| 0 | 0 | 0 | 0 |\n",
                            "| 0 | 0 | 0 | 0 |\n",
                            "| 0 | 0 | 0 | 0 |\n",
                            "| 0 | 0 | 0 | 0 |\n",
                            "\n",
                            "\n",
                            "$Bhat\n",
                            ":   \n",
                            "A matrix: 4 × 4 of type dbl\n",
                            "\n",
                            "| <!--/--> | X1 | X2 | X3 | X4 |\n",
                            "|---|---|---|---|---|\n",
                            "| X1 | 1 | 0 | 0.003663205 |  0.000000000 |\n",
                            "| X2 | 0 | 1 | 0.000000000 | -0.006439231 |\n",
                            "| X3 | 0 | 0 | 1.000000000 |  0.000000000 |\n",
                            "| X4 | 0 | 0 | 0.000000000 |  1.000000000 |\n",
                            "\n",
                            "\n",
                            "$Ohat\n",
                            ":   \n",
                            "A matrix: 4 × 4 of type dbl\n",
                            "\n",
                            "| <!--/--> | X1 | X2 | X3 | X4 |\n",
                            "|---|---|---|---|---|\n",
                            "| X1 |  0.007612117 | -0.005540306 |  0.00000 |   0.00000 |\n",
                            "| X2 | -0.005540306 |  0.012561557 |  0.00000 |   0.00000 |\n",
                            "| X3 |  0.000000000 |  0.000000000 | 34.89473 |  37.63139 |\n",
                            "| X4 |  0.000000000 |  0.000000000 | 37.63139 | 109.69715 |\n",
                            "\n",
                            "\n",
                            "$dev\n",
                            ":   0.0754851706101505\n",
                            "$df\n",
                            ":   2\n",
                            "$it\n",
                            ":   6\n",
                            "\n",
                            "\n"
                        ],
                        "text/plain": [
                            "$Shat\n",
                            "             X1           X2         X3          X4\n",
                            "X1  0.008080372 -0.006427964 -0.1278265  -0.1378515\n",
                            "X2 -0.006427964  0.017110006  0.2423172   0.7063652\n",
                            "X3 -0.127826529  0.242317196 34.8947272  37.6313902\n",
                            "X4 -0.137851486  0.706365208 37.6313902 109.6971459\n",
                            "\n",
                            "$Lhat\n",
                            "     [,1] [,2] [,3] [,4]\n",
                            "[1,]    0    0    0    0\n",
                            "[2,]    0    0    0    0\n",
                            "[3,]    0    0    0    0\n",
                            "[4,]    0    0    0    0\n",
                            "\n",
                            "$Bhat\n",
                            "   X1 X2          X3           X4\n",
                            "X1  1  0 0.003663205  0.000000000\n",
                            "X2  0  1 0.000000000 -0.006439231\n",
                            "X3  0  0 1.000000000  0.000000000\n",
                            "X4  0  0 0.000000000  1.000000000\n",
                            "\n",
                            "$Ohat\n",
                            "             X1           X2       X3        X4\n",
                            "X1  0.007612117 -0.005540306  0.00000   0.00000\n",
                            "X2 -0.005540306  0.012561557  0.00000   0.00000\n",
                            "X3  0.000000000  0.000000000 34.89473  37.63139\n",
                            "X4  0.000000000  0.000000000 37.63139 109.69715\n",
                            "\n",
                            "$dev\n",
                            "[1] 0.07548517\n",
                            "\n",
                            "$df\n",
                            "[1] 2\n",
                            "\n",
                            "$it\n",
                            "[1] 6\n"
                        ]
                    },
                    "metadata": {},
                    "output_type": "display_data"
                }
            ],
            "source": [
                "out = fitAncestralGraph(mag, cov(data_ex2), n = 44)\n",
                "out"
            ]
        },
        {
            "cell_type": "code",
            "execution_count": 22,
            "metadata": {
                "vscode": {
                    "languageId": "r"
                }
            },
            "outputs": [
                {
                    "data": {
                        "text/html": [
                            "-0.00366320471802449"
                        ],
                        "text/latex": [
                            "-0.00366320471802449"
                        ],
                        "text/markdown": [
                            "-0.00366320471802449"
                        ],
                        "text/plain": [
                            "[1] -0.003663205"
                        ]
                    },
                    "metadata": {},
                    "output_type": "display_data"
                },
                {
                    "data": {
                        "text/html": [
                            "0.00643923050653407"
                        ],
                        "text/latex": [
                            "0.00643923050653407"
                        ],
                        "text/markdown": [
                            "0.00643923050653407"
                        ],
                        "text/plain": [
                            "[1] 0.006439231"
                        ]
                    },
                    "metadata": {},
                    "output_type": "display_data"
                },
                {
                    "data": {
                        "text/html": [
                            "-0.566577440544073"
                        ],
                        "text/latex": [
                            "-0.566577440544073"
                        ],
                        "text/markdown": [
                            "-0.566577440544073"
                        ],
                        "text/plain": [
                            "[1] -0.5665774"
                        ]
                    },
                    "metadata": {},
                    "output_type": "display_data"
                },
                {
                    "data": {
                        "text/html": [
                            "0.608236803731146"
                        ],
                        "text/latex": [
                            "0.608236803731146"
                        ],
                        "text/markdown": [
                            "0.608236803731146"
                        ],
                        "text/plain": [
                            "[1] 0.6082368"
                        ]
                    },
                    "metadata": {},
                    "output_type": "display_data"
                }
            ],
            "source": [
                "-out$Bhat[1,3]\n",
                "-out$Bhat[2,4]\n",
                "out$Ohat[1,2] / sqrt(out$Ohat[1,1] * out$Ohat[2,2])\n",
                "out$Ohat[3,4] / sqrt(out$Ohat[3,3] * out$Ohat[4,4])"
            ]
        },
        {
            "cell_type": "code",
            "execution_count": 43,
            "metadata": {
                "vscode": {
                    "languageId": "r"
                }
            },
            "outputs": [
                {
                    "data": {
                        "text/html": [
                            "0.075485170610163"
                        ],
                        "text/latex": [
                            "0.075485170610163"
                        ],
                        "text/markdown": [
                            "0.075485170610163"
                        ],
                        "text/plain": [
                            "[1] 0.07548517"
                        ]
                    },
                    "metadata": {},
                    "output_type": "display_data"
                }
            ],
            "source": [
                "Sh = out$Shat\n",
                "-44 * log(det(S) / det(Sh))  "
            ]
        },
        {
            "cell_type": "code",
            "execution_count": 39,
            "metadata": {
                "vscode": {
                    "languageId": "r"
                }
            },
            "outputs": [
                {
                    "data": {
                        "text/html": [
                            "0.0754851642813641"
                        ],
                        "text/latex": [
                            "0.0754851642813641"
                        ],
                        "text/markdown": [
                            "0.0754851642813641"
                        ],
                        "text/plain": [
                            "[1] 0.07548516"
                        ]
                    },
                    "metadata": {},
                    "output_type": "display_data"
                }
            ],
            "source": [
                "out$dev - out_sat$dev "
            ]
        }
    ],
    "metadata": {
        "anaconda-cloud": "",
        "kernelspec": {
            "display_name": "R",
            "langauge": "R",
            "language": "R",
            "name": "ir"
        },
        "language_info": {
            "codemirror_mode": "r",
            "file_extension": ".r",
            "mimetype": "text/x-r-source",
            "name": "R",
            "pygments_lexer": "r",
            "version": "4.4.0"
        }
    },
    "nbformat": 4,
    "nbformat_minor": 1
}
